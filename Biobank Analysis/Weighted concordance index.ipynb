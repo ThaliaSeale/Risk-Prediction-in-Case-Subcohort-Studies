{
 "cells": [
  {
   "cell_type": "markdown",
   "id": "4541b447",
   "metadata": {},
   "source": [
    "# Weighted concordance index"
   ]
  },
  {
   "cell_type": "code",
   "execution_count": 4,
   "id": "32d3292d",
   "metadata": {},
   "outputs": [],
   "source": [
    "import pandas as pd"
   ]
  },
  {
   "cell_type": "code",
   "execution_count": 86,
   "id": "e1e2c041",
   "metadata": {},
   "outputs": [],
   "source": [
    "example_data = pd.DataFrame({\n",
    "    \"event_times\": [1,2,0.5,3,4],\n",
    "    \"predicted_scores\": [1,0,2,2,0.5],\n",
    "    \"event_observed\": [1,1,1,0,0]})"
   ]
  },
  {
   "cell_type": "code",
   "execution_count": 87,
   "id": "0e359463",
   "metadata": {
    "scrolled": true
   },
   "outputs": [
    {
     "data": {
      "text/html": [
       "<div>\n",
       "<style scoped>\n",
       "    .dataframe tbody tr th:only-of-type {\n",
       "        vertical-align: middle;\n",
       "    }\n",
       "\n",
       "    .dataframe tbody tr th {\n",
       "        vertical-align: top;\n",
       "    }\n",
       "\n",
       "    .dataframe thead th {\n",
       "        text-align: right;\n",
       "    }\n",
       "</style>\n",
       "<table border=\"1\" class=\"dataframe\">\n",
       "  <thead>\n",
       "    <tr style=\"text-align: right;\">\n",
       "      <th></th>\n",
       "      <th>event_times</th>\n",
       "      <th>predicted_scores</th>\n",
       "      <th>event_observed</th>\n",
       "    </tr>\n",
       "  </thead>\n",
       "  <tbody>\n",
       "    <tr>\n",
       "      <th>2</th>\n",
       "      <td>0.5</td>\n",
       "      <td>2.0</td>\n",
       "      <td>1</td>\n",
       "    </tr>\n",
       "    <tr>\n",
       "      <th>0</th>\n",
       "      <td>1.0</td>\n",
       "      <td>1.0</td>\n",
       "      <td>1</td>\n",
       "    </tr>\n",
       "    <tr>\n",
       "      <th>1</th>\n",
       "      <td>2.0</td>\n",
       "      <td>0.0</td>\n",
       "      <td>1</td>\n",
       "    </tr>\n",
       "    <tr>\n",
       "      <th>3</th>\n",
       "      <td>3.0</td>\n",
       "      <td>2.0</td>\n",
       "      <td>0</td>\n",
       "    </tr>\n",
       "    <tr>\n",
       "      <th>4</th>\n",
       "      <td>4.0</td>\n",
       "      <td>0.5</td>\n",
       "      <td>0</td>\n",
       "    </tr>\n",
       "  </tbody>\n",
       "</table>\n",
       "</div>"
      ],
      "text/plain": [
       "   event_times  predicted_scores  event_observed\n",
       "2          0.5               2.0               1\n",
       "0          1.0               1.0               1\n",
       "1          2.0               0.0               1\n",
       "3          3.0               2.0               0\n",
       "4          4.0               0.5               0"
      ]
     },
     "execution_count": 87,
     "metadata": {},
     "output_type": "execute_result"
    }
   ],
   "source": [
    "example_data.sort_values(\"event_times\")"
   ]
  },
  {
   "cell_type": "code",
   "execution_count": 105,
   "id": "641b9dfb",
   "metadata": {},
   "outputs": [],
   "source": [
    "def weighted_concordance(event_times, predicted_scores, event_observed, samp_fraction):\n",
    "\n",
    "    \n",
    "    example_data = pd.DataFrame({\n",
    "    \"event_times\": event_times,\n",
    "    \"predicted_scores\": predicted_scores,\n",
    "    \"event_observed\": event_observed}).sort_values(\"event_times\").reset_index(drop = True)\n",
    "    \n",
    "    n_case_case = 0\n",
    "    n_case_control = 0\n",
    "    total_case_pairs = 0\n",
    "    total_control_pairs = 0\n",
    "    \n",
    "    for i in range(len(example_data)):\n",
    "        if example_data.at[i,\"event_observed\"]:\n",
    "            for j in range(i+1,len(example_data)):\n",
    "                if example_data.at[j,\"event_observed\"]:\n",
    "                    if example_data.at[i,\"predicted_scores\"] > example_data.at[j,\"predicted_scores\"]:\n",
    "                        n_case_case = n_case_case + 1\n",
    "                    elif example_data.at[i,\"predicted_scores\"] == example_data.at[j,\"predicted_scores\"]:\n",
    "                        n_case_case = n_case_case + 0.5\n",
    "                    total_case_pairs = total_case_pairs + 1\n",
    "                else:\n",
    "                    if example_data.at[i,\"predicted_scores\"] > example_data.at[j,\"predicted_scores\"]:\n",
    "                        n_case_control = n_case_control + 1\n",
    "                    elif example_data.at[i,\"predicted_scores\"] == example_data.at[j,\"predicted_scores\"]:\n",
    "                        n_case_control = n_case_control + 0.5\n",
    "                    total_control_pairs = total_control_pairs + 1\n",
    "    return((n_case_case + 1/samp_fraction * n_case_control )/ (total_case_pairs + 1/samp_fraction * total_control_pairs))"
   ]
  },
  {
   "cell_type": "code",
   "execution_count": 106,
   "id": "7250955a",
   "metadata": {},
   "outputs": [
    {
     "data": {
      "text/plain": [
       "0.5333333333333333"
      ]
     },
     "execution_count": 106,
     "metadata": {},
     "output_type": "execute_result"
    }
   ],
   "source": [
    "weighted_concordance(example_data[\"event_times\"],example_data[\"predicted_scores\"],example_data[\"event_observed\"],0.5)"
   ]
  },
  {
   "cell_type": "code",
   "execution_count": 109,
   "id": "97f23011",
   "metadata": {},
   "outputs": [],
   "source": [
    "# importing module\n",
    "import sys\n",
    "\n",
    "# appending a path\n",
    "sys.path.append('C:/Users/thseale/Documents/Python Packages')\n",
    "from lifelines.utils import concordance_index"
   ]
  },
  {
   "cell_type": "code",
   "execution_count": 111,
   "id": "076aedc0",
   "metadata": {},
   "outputs": [
    {
     "data": {
      "text/plain": [
       "0.6111111111111112"
      ]
     },
     "execution_count": 111,
     "metadata": {},
     "output_type": "execute_result"
    }
   ],
   "source": [
    "concordance_index(example_data[\"event_times\"],-example_data[\"predicted_scores\"],example_data[\"event_observed\"])"
   ]
  },
  {
   "cell_type": "code",
   "execution_count": 112,
   "id": "a907e316",
   "metadata": {},
   "outputs": [
    {
     "data": {
      "text/plain": [
       "0.6111111111111112"
      ]
     },
     "execution_count": 112,
     "metadata": {},
     "output_type": "execute_result"
    }
   ],
   "source": [
    "weighted_concordance(example_data[\"event_times\"],example_data[\"predicted_scores\"],example_data[\"event_observed\"],1)"
   ]
  },
  {
   "cell_type": "code",
   "execution_count": null,
   "id": "72624dd2",
   "metadata": {},
   "outputs": [],
   "source": [
    "def concordance_index(event_times, predicted_scores, event_observed=None) -> float:\n",
    "    \"\"\"\n",
    "    Calculates the concordance index (C-index) between a series\n",
    "    of event times and a predicted score. The first is the real survival times from\n",
    "    the observational data, and the other is the predicted score from a model of some kind.\n",
    "\n",
    "    The c-index is the average of how often a model says X is greater than Y when, in the observed\n",
    "    data, X is indeed greater than Y. The c-index also handles how to handle censored values\n",
    "    (obviously, if Y is censored, it's hard to know if X is truly greater than Y).\n",
    "\n",
    "\n",
    "    The concordance index is a value between 0 and 1 where:\n",
    "\n",
    "    - 0.5 is the expected result from random predictions,\n",
    "    - 1.0 is perfect concordance and,\n",
    "    - 0.0 is perfect anti-concordance (multiply predictions with -1 to get 1.0)\n",
    "\n",
    "    The calculation internally done is\n",
    "\n",
    "    >>> (pairs_correct + 0.5 * pairs_tied) / admissable_pairs\n",
    "\n",
    "    where ``pairs_correct`` is the number of pairs s.t. if ``t_x > t_y``, then ``s_x > s_y``, pairs,\n",
    "    ``pairs_tied`` is the number of pairs where ``s_x = s_y``, and ``admissable_pairs`` is all possible pairs. The subtleties\n",
    "    are in how censored observation are handled (ex: not all pairs can be evaluated due to censoring).\n",
    "\n",
    "\n",
    "    Parameters\n",
    "    ----------\n",
    "    event_times: iterable\n",
    "         a length-n iterable of observed survival times.\n",
    "    predicted_scores: iterable\n",
    "        a length-n iterable of predicted scores - these could be survival times, or hazards, etc. See https://stats.stackexchange.com/questions/352183/use-median-survival-time-to-calculate-cph-c-statistic/352435#352435\n",
    "    event_observed: iterable, optional\n",
    "        a length-n iterable censoring flags, 1 if observed, 0 if not. Default None assumes all observed.\n",
    "\n",
    "    Returns\n",
    "    -------\n",
    "    c-index: float\n",
    "      a value between 0 and 1.\n",
    "\n",
    "    References\n",
    "    -----------\n",
    "    Harrell FE, Lee KL, Mark DB. Multivariable prognostic models: issues in\n",
    "    developing models, evaluating assumptions and adequacy, and measuring and\n",
    "    reducing errors. Statistics in Medicine 1996;15(4):361-87.\n",
    "\n",
    "    Examples\n",
    "    --------\n",
    "    .. code:: python\n",
    "\n",
    "        from lifelines.utils import concordance_index\n",
    "        cph = CoxPHFitter().fit(df, 'T', 'E')\n",
    "        concordance_index(df['T'], -cph.predict_partial_hazard(df), df['E'])\n",
    "\n",
    "    \"\"\"\n",
    "    event_times, predicted_scores, event_observed = _preprocess_scoring_data(event_times, predicted_scores, event_observed)\n",
    "    num_correct, num_tied, num_pairs = _concordance_summary_statistics(event_times, predicted_scores, event_observed)\n",
    "\n",
    "    return _concordance_ratio(num_correct, num_tied, num_pairs)"
   ]
  }
 ],
 "metadata": {
  "kernelspec": {
   "display_name": "Python 3",
   "language": "python",
   "name": "python3"
  },
  "language_info": {
   "codemirror_mode": {
    "name": "ipython",
    "version": 3
   },
   "file_extension": ".py",
   "mimetype": "text/x-python",
   "name": "python",
   "nbconvert_exporter": "python",
   "pygments_lexer": "ipython3",
   "version": "3.8.8"
  }
 },
 "nbformat": 4,
 "nbformat_minor": 5
}

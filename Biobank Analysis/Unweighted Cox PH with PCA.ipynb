{
 "cells": [
  {
   "cell_type": "markdown",
   "id": "e1288b58",
   "metadata": {},
   "source": [
    "# Unweighted Cox PH with PCA"
   ]
  },
  {
   "cell_type": "code",
   "execution_count": 1,
   "id": "d5e3804f",
   "metadata": {},
   "outputs": [],
   "source": [
    "import numpy as np\n",
    "import pandas as pd\n",
    "from datetime import datetime\n",
    "\n",
    "import pickle"
   ]
  },
  {
   "cell_type": "code",
   "execution_count": 2,
   "id": "a7ab34ea",
   "metadata": {},
   "outputs": [],
   "source": [
    "from weighted_concordance import *"
   ]
  },
  {
   "cell_type": "code",
   "execution_count": 3,
   "id": "e1777159",
   "metadata": {},
   "outputs": [],
   "source": [
    "pd.set_option('display.max_columns', None,'display.max_rows',20)"
   ]
  },
  {
   "cell_type": "code",
   "execution_count": 4,
   "id": "e69f69e4",
   "metadata": {},
   "outputs": [],
   "source": [
    "from lifelines import CoxPHFitter\n",
    "from lifelines.utils import datetimes_to_durations, concordance_index"
   ]
  },
  {
   "cell_type": "code",
   "execution_count": 5,
   "id": "1517ecb7",
   "metadata": {},
   "outputs": [],
   "source": [
    "# importing data\n",
    "X_tr = pd.read_csv(\"D:/compiled_data/X_tr.csv\").set_index(\"csid\")\n",
    "\n",
    "y = pd.read_csv(\"D:/compiled_data/y.csv\").set_index(\"csid\")"
   ]
  },
  {
   "cell_type": "code",
   "execution_count": 8,
   "id": "ebafa040",
   "metadata": {},
   "outputs": [],
   "source": [
    "# function converting the date-time from string format to datetime format\n",
    "def date_time_conversion(date):\n",
    "    return(datetime.strptime(date,\"%Y-%m-%dT%H:%M:%SZ\"))"
   ]
  },
  {
   "cell_type": "code",
   "execution_count": 9,
   "id": "defacbf0",
   "metadata": {
    "scrolled": true
   },
   "outputs": [
    {
     "data": {
      "text/html": [
       "<div>\n",
       "<style scoped>\n",
       "    .dataframe tbody tr th:only-of-type {\n",
       "        vertical-align: middle;\n",
       "    }\n",
       "\n",
       "    .dataframe tbody tr th {\n",
       "        vertical-align: top;\n",
       "    }\n",
       "\n",
       "    .dataframe thead th {\n",
       "        text-align: right;\n",
       "    }\n",
       "</style>\n",
       "<table border=\"1\" class=\"dataframe\">\n",
       "  <thead>\n",
       "    <tr style=\"text-align: right;\">\n",
       "      <th></th>\n",
       "      <th>event</th>\n",
       "      <th>duration</th>\n",
       "      <th>subcohort</th>\n",
       "    </tr>\n",
       "    <tr>\n",
       "      <th>csid</th>\n",
       "      <th></th>\n",
       "      <th></th>\n",
       "      <th></th>\n",
       "    </tr>\n",
       "  </thead>\n",
       "  <tbody>\n",
       "    <tr>\n",
       "      <th>2022-00229-1799093</th>\n",
       "      <td>1</td>\n",
       "      <td>1192.0</td>\n",
       "      <td>False</td>\n",
       "    </tr>\n",
       "    <tr>\n",
       "      <th>2022-00229-4744170</th>\n",
       "      <td>1</td>\n",
       "      <td>1690.0</td>\n",
       "      <td>False</td>\n",
       "    </tr>\n",
       "    <tr>\n",
       "      <th>2022-00229-1082517</th>\n",
       "      <td>1</td>\n",
       "      <td>2035.0</td>\n",
       "      <td>False</td>\n",
       "    </tr>\n",
       "    <tr>\n",
       "      <th>2022-00229-3397875</th>\n",
       "      <td>1</td>\n",
       "      <td>2530.0</td>\n",
       "      <td>False</td>\n",
       "    </tr>\n",
       "    <tr>\n",
       "      <th>2022-00229-4372175</th>\n",
       "      <td>1</td>\n",
       "      <td>2216.0</td>\n",
       "      <td>False</td>\n",
       "    </tr>\n",
       "    <tr>\n",
       "      <th>...</th>\n",
       "      <td>...</td>\n",
       "      <td>...</td>\n",
       "      <td>...</td>\n",
       "    </tr>\n",
       "    <tr>\n",
       "      <th>2022-00229-5565114</th>\n",
       "      <td>0</td>\n",
       "      <td>4495.0</td>\n",
       "      <td>True</td>\n",
       "    </tr>\n",
       "    <tr>\n",
       "      <th>2022-00229-4902412</th>\n",
       "      <td>0</td>\n",
       "      <td>3448.0</td>\n",
       "      <td>True</td>\n",
       "    </tr>\n",
       "    <tr>\n",
       "      <th>2022-00229-4823882</th>\n",
       "      <td>0</td>\n",
       "      <td>895.0</td>\n",
       "      <td>True</td>\n",
       "    </tr>\n",
       "    <tr>\n",
       "      <th>2022-00229-4439450</th>\n",
       "      <td>0</td>\n",
       "      <td>5084.0</td>\n",
       "      <td>True</td>\n",
       "    </tr>\n",
       "    <tr>\n",
       "      <th>2022-00229-3848187</th>\n",
       "      <td>0</td>\n",
       "      <td>4496.0</td>\n",
       "      <td>True</td>\n",
       "    </tr>\n",
       "  </tbody>\n",
       "</table>\n",
       "<p>1188 rows × 3 columns</p>\n",
       "</div>"
      ],
      "text/plain": [
       "                    event  duration  subcohort\n",
       "csid                                          \n",
       "2022-00229-1799093      1    1192.0      False\n",
       "2022-00229-4744170      1    1690.0      False\n",
       "2022-00229-1082517      1    2035.0      False\n",
       "2022-00229-3397875      1    2530.0      False\n",
       "2022-00229-4372175      1    2216.0      False\n",
       "...                   ...       ...        ...\n",
       "2022-00229-5565114      0    4495.0       True\n",
       "2022-00229-4902412      0    3448.0       True\n",
       "2022-00229-4823882      0     895.0       True\n",
       "2022-00229-4439450      0    5084.0       True\n",
       "2022-00229-3848187      0    4496.0       True\n",
       "\n",
       "[1188 rows x 3 columns]"
      ]
     },
     "execution_count": 9,
     "metadata": {},
     "output_type": "execute_result"
    }
   ],
   "source": [
    "# Coverting the times into datetime format\n",
    "y_tr = y.assign(\n",
    "    event = y.ep_CKB0020_combined_ep,\n",
    "    start_time = y.study_date.map(date_time_conversion),\n",
    "    event_time = y.ep_CKB0020_combined_datedeveloped.map(date_time_conversion)\n",
    ").drop(columns = y.columns)\n",
    "y_tr[\"duration\"] = datetimes_to_durations(y_tr[\"start_time\"],y_tr[\"event_time\"])[0]\n",
    "y_tr[\"subcohort\"] = y[\"subcohort\"]\n",
    "y_tr = y_tr.drop(columns = [\"start_time\",\"event_time\"])"
   ]
  },
  {
   "cell_type": "markdown",
   "id": "507b015a",
   "metadata": {},
   "source": [
    "## Fitting Model"
   ]
  },
  {
   "cell_type": "markdown",
   "id": "72b43b0e",
   "metadata": {},
   "source": [
    "So the model runs if we perform dimension reduction. We need to select a suitable number of PCs. Let us use grid search."
   ]
  },
  {
   "cell_type": "code",
   "execution_count": 10,
   "id": "0e53a3da",
   "metadata": {},
   "outputs": [],
   "source": [
    "from sklearn.model_selection import KFold\n",
    "from sklearn.decomposition import PCA"
   ]
  },
  {
   "cell_type": "code",
   "execution_count": 11,
   "id": "d3af9527",
   "metadata": {},
   "outputs": [
    {
     "name": "stdout",
     "output_type": "stream",
     "text": [
      "[0.6335359302482791, 0.633629499012922, 0.636121700224077, 0.6546302053616858, 0.6750458270385056, 0.6890874726815, 0.7004023914926195, 0.7029524953925922, 0.7138544774905538, 0.727865738026091, 0.7334345720299681, 0.7347440050039888, 0.7319790455829569, 0.7311722618193442, 0.7475329386542694, 0.740902906289684, 0.7309438337074164, 0.7312719394307271, 0.7357875363505096]\n",
      "Best variation percentage: [0.7]\n"
     ]
    }
   ],
   "source": [
    "cox_pca_scores = []\n",
    "\n",
    "for i in range(1,20):\n",
    "    \n",
    "    kf = KFold(n_splits=3,shuffle = True)\n",
    "    kf.get_n_splits(X_tr)\n",
    "\n",
    "    scores = []\n",
    "    \n",
    "    for train_index, test_index in kf.split(X_tr):\n",
    "        X_tr_train, X_tr_test = X_tr.iloc[train_index], X_tr.iloc[test_index]\n",
    "        y_tr_train, y_tr_test = y_tr.iloc[train_index], y_tr.iloc[test_index]\n",
    "            \n",
    "        pca = PCA(n_components = i/20)\n",
    "        X_tr_train_pca = pd.DataFrame(pca.fit_transform(X_tr_train))\n",
    "        X_tr_train_pca.index = X_tr_train.index\n",
    "\n",
    "        # creating a single case subcohort dataframe\n",
    "        case_subcohort_df_pca = X_tr_train_pca.join(y_tr_train).drop(columns = \"subcohort\").drop_duplicates()\n",
    "        \n",
    "        cph = CoxPHFitter()\n",
    "        cph.fit(case_subcohort_df_pca, duration_col = \"duration\", event_col = \"event\")\n",
    "        \n",
    "        event_times = y_tr_test[\"duration\"]\n",
    "        event_observed = y_tr_test[\"event\"]\n",
    "        \n",
    "        X_tr_test_pca = pca.transform(X_tr_test)\n",
    "\n",
    "        test_preds = cph.predict_partial_hazard(X_tr_test_pca)\n",
    "        \n",
    "        scores.append(weighted_concordance(event_times, test_preds, event_observed, samp_fraction = \n",
    "0.0011604684001529089))\n",
    "        \n",
    "    cox_pca_scores.append(np.mean(scores))\n",
    "    \n",
    "print(cox_pca_scores)\n",
    "print(\"Best variation percentage:\",np.where(cox_pca_scores == np.max(cox_pca_scores))[0]/20)"
   ]
  },
  {
   "cell_type": "markdown",
   "id": "25874650",
   "metadata": {},
   "source": [
    "So it seems like 0.6 of the variance has the best concordance scores. The final model:"
   ]
  },
  {
   "cell_type": "code",
   "execution_count": 14,
   "id": "7525564e",
   "metadata": {},
   "outputs": [
    {
     "data": {
      "text/plain": [
       "<lifelines.CoxPHFitter: fitted with 1187 total observations, 593 right-censored observations>"
      ]
     },
     "execution_count": 14,
     "metadata": {},
     "output_type": "execute_result"
    }
   ],
   "source": [
    "pca = PCA(n_components = 0.7)\n",
    "X_tr_pca = pd.DataFrame(pca.fit_transform(X_tr))\n",
    "X_tr_pca.index = X_tr.index\n",
    "\n",
    "# creating a single case subcohort dataframe\n",
    "case_subcohort_df_pca = X_tr_pca.join(y_tr).drop(columns = \"subcohort\").drop_duplicates()\n",
    "\n",
    "# creating the model and fitting the data\n",
    "cph = CoxPHFitter()\n",
    "cph.fit(case_subcohort_df_pca, duration_col = \"duration\", event_col = \"event\")"
   ]
  },
  {
   "cell_type": "code",
   "execution_count": 15,
   "id": "95e0b86a",
   "metadata": {},
   "outputs": [],
   "source": [
    "# Saving Model\n",
    "pickle.dump(cph, open('unweighted_cox_pca_wc.pkl', 'wb'))"
   ]
  }
 ],
 "metadata": {
  "kernelspec": {
   "display_name": "Python 3",
   "language": "python",
   "name": "python3"
  },
  "language_info": {
   "codemirror_mode": {
    "name": "ipython",
    "version": 3
   },
   "file_extension": ".py",
   "mimetype": "text/x-python",
   "name": "python",
   "nbconvert_exporter": "python",
   "pygments_lexer": "ipython3",
   "version": "3.8.8"
  }
 },
 "nbformat": 4,
 "nbformat_minor": 5
}

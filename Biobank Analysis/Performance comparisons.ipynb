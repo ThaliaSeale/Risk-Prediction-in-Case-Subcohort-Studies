{
 "cells": [
  {
   "cell_type": "markdown",
   "id": "68ca9048",
   "metadata": {},
   "source": [
    "# Performance comparisons"
   ]
  },
  {
   "cell_type": "code",
   "execution_count": 1,
   "id": "0835fc90",
   "metadata": {},
   "outputs": [],
   "source": [
    "import pandas as pd\n",
    "import numpy as np\n",
    "import pickle\n",
    "from datetime import datetime"
   ]
  },
  {
   "cell_type": "code",
   "execution_count": 28,
   "id": "8a27ecec",
   "metadata": {},
   "outputs": [],
   "source": [
    "from weighted_concordance import *\n",
    "from score_functions import wibs"
   ]
  },
  {
   "cell_type": "code",
   "execution_count": 3,
   "id": "a30900b0",
   "metadata": {},
   "outputs": [],
   "source": [
    "# # importing module\n",
    "# import sys\n",
    "\n",
    "# # appending a path\n",
    "# sys.path.append('C:/Users/thseale/Documents/Python Packages')\n",
    "\n",
    "# from lifelines import CoxPHFitter\n",
    "# from lifelines.utils import datetimes_to_durations, concordance_index"
   ]
  },
  {
   "cell_type": "code",
   "execution_count": 4,
   "id": "8af309d7-cdca-4656-87ef-68092c4447f6",
   "metadata": {},
   "outputs": [],
   "source": [
    "from lifelines import CoxPHFitter\n",
    "from lifelines.utils import datetimes_to_durations, concordance_index"
   ]
  },
  {
   "cell_type": "markdown",
   "id": "bbde9375",
   "metadata": {},
   "source": [
    "## Loading models"
   ]
  },
  {
   "cell_type": "code",
   "execution_count": 31,
   "id": "e8ee6b4b",
   "metadata": {},
   "outputs": [],
   "source": [
    "unweighted_cox_pca = pickle.load(open('unweighted_cox_pca.pkl', 'rb'))"
   ]
  },
  {
   "cell_type": "code",
   "execution_count": 32,
   "id": "27b15aba",
   "metadata": {},
   "outputs": [],
   "source": [
    "unweighted_cox = pickle.load(open('unweighted_cox.pkl', 'rb'))"
   ]
  },
  {
   "cell_type": "code",
   "execution_count": 33,
   "id": "c6b42ebf",
   "metadata": {},
   "outputs": [],
   "source": [
    "barlow_cox_pca = pickle.load(open(\"barlow_cox_pca.pkl\", \"rb\"))"
   ]
  },
  {
   "cell_type": "code",
   "execution_count": 34,
   "id": "2fbbc04d",
   "metadata": {},
   "outputs": [],
   "source": [
    "barlow_cox = pickle.load(open(\"barlow_cox.pkl\", \"rb\"))"
   ]
  },
  {
   "cell_type": "code",
   "execution_count": 35,
   "id": "f8857148",
   "metadata": {},
   "outputs": [],
   "source": [
    "prentice_cox_pca = pickle.load(open(\"prentice_cox_pca.pkl\", \"rb\"))"
   ]
  },
  {
   "cell_type": "code",
   "execution_count": 36,
   "id": "9de44061",
   "metadata": {},
   "outputs": [],
   "source": [
    "prentice_cox = pickle.load(open(\"prentice_cox.pkl\", \"rb\"))"
   ]
  },
  {
   "cell_type": "code",
   "execution_count": 37,
   "id": "2bf08d89",
   "metadata": {},
   "outputs": [],
   "source": [
    "selfprentice_cox_pca = pickle.load(open(\"selfprentice_cox_pca.pkl\", \"rb\"))"
   ]
  },
  {
   "cell_type": "code",
   "execution_count": 38,
   "id": "034b0246",
   "metadata": {},
   "outputs": [],
   "source": [
    "selfprentice_cox = pickle.load(open(\"selfprentice_cox.pkl\", \"rb\"))"
   ]
  },
  {
   "cell_type": "code",
   "execution_count": 39,
   "id": "2ce6b163",
   "metadata": {},
   "outputs": [],
   "source": [
    "adjusted_cox_pca = pickle.load(open(\"adjusted_cox_pca.pkl\", \"rb\"))"
   ]
  },
  {
   "cell_type": "code",
   "execution_count": 40,
   "id": "4d83582a",
   "metadata": {},
   "outputs": [],
   "source": [
    "adjusted_cox = pickle.load(open(\"adjusted_cox.pkl\", \"rb\"))"
   ]
  },
  {
   "cell_type": "code",
   "execution_count": 41,
   "id": "fef415df",
   "metadata": {},
   "outputs": [],
   "source": [
    "unweighted_cox_penalised = pickle.load(open(\"unweighted_cox_penalised.pkl\", \"rb\"))"
   ]
  },
  {
   "cell_type": "code",
   "execution_count": 42,
   "id": "b8a0d442",
   "metadata": {},
   "outputs": [],
   "source": [
    "penalised_barlow_cox = pickle.load(open(\"penalised_barlow_cox.pkl\", \"rb\"))"
   ]
  },
  {
   "cell_type": "code",
   "execution_count": 43,
   "id": "96974db5",
   "metadata": {},
   "outputs": [],
   "source": [
    "penalised_prentice_cox = pickle.load(open(\"penalised_prentice_cox.pkl\", \"rb\"))"
   ]
  },
  {
   "cell_type": "code",
   "execution_count": 44,
   "id": "8b8a180d",
   "metadata": {},
   "outputs": [],
   "source": [
    "penalised_selfprentice_cox = pickle.load(open(\"penalised_selfprentice_cox.pkl\", \"rb\"))"
   ]
  },
  {
   "cell_type": "code",
   "execution_count": 45,
   "id": "0ffe2103",
   "metadata": {},
   "outputs": [],
   "source": [
    "penalised_adjusted_cox = pickle.load(open(\"penalised_adjusted_cox.pkl\", \"rb\"))"
   ]
  },
  {
   "cell_type": "markdown",
   "id": "acbd523e",
   "metadata": {},
   "source": [
    "## Loading data"
   ]
  },
  {
   "cell_type": "markdown",
   "id": "937bc569-13b4-4a1f-a3ee-2f740e1ec0c9",
   "metadata": {},
   "source": [
    "### Test data "
   ]
  },
  {
   "cell_type": "code",
   "execution_count": 6,
   "id": "ae241ef1",
   "metadata": {},
   "outputs": [],
   "source": [
    "X_tr_test = pd.read_csv(\"D:/compiled_data/X_tr_test.csv\").set_index(\"csid\")\n",
    "\n",
    "y_test = pd.read_csv(\"D:/compiled_data/y_test.csv\").set_index(\"csid\")"
   ]
  },
  {
   "cell_type": "code",
   "execution_count": 7,
   "id": "11d73603",
   "metadata": {},
   "outputs": [
    {
     "data": {
      "text/plain": [
       "213"
      ]
     },
     "execution_count": 7,
     "metadata": {},
     "output_type": "execute_result"
    }
   ],
   "source": [
    "len(y_test)"
   ]
  },
  {
   "cell_type": "code",
   "execution_count": 8,
   "id": "79d7c131",
   "metadata": {},
   "outputs": [
    {
     "data": {
      "text/html": [
       "<div>\n",
       "<style scoped>\n",
       "    .dataframe tbody tr th:only-of-type {\n",
       "        vertical-align: middle;\n",
       "    }\n",
       "\n",
       "    .dataframe tbody tr th {\n",
       "        vertical-align: top;\n",
       "    }\n",
       "\n",
       "    .dataframe thead th {\n",
       "        text-align: right;\n",
       "    }\n",
       "</style>\n",
       "<table border=\"1\" class=\"dataframe\">\n",
       "  <thead>\n",
       "    <tr style=\"text-align: right;\">\n",
       "      <th></th>\n",
       "      <th>event</th>\n",
       "      <th>duration</th>\n",
       "      <th>subcohort</th>\n",
       "    </tr>\n",
       "    <tr>\n",
       "      <th>csid</th>\n",
       "      <th></th>\n",
       "      <th></th>\n",
       "      <th></th>\n",
       "    </tr>\n",
       "  </thead>\n",
       "  <tbody>\n",
       "    <tr>\n",
       "      <th>2022-00229-3793895</th>\n",
       "      <td>1</td>\n",
       "      <td>3100.0</td>\n",
       "      <td>False</td>\n",
       "    </tr>\n",
       "    <tr>\n",
       "      <th>2022-00229-2146926</th>\n",
       "      <td>1</td>\n",
       "      <td>1229.0</td>\n",
       "      <td>False</td>\n",
       "    </tr>\n",
       "    <tr>\n",
       "      <th>2022-00229-5726795</th>\n",
       "      <td>1</td>\n",
       "      <td>1415.0</td>\n",
       "      <td>False</td>\n",
       "    </tr>\n",
       "    <tr>\n",
       "      <th>2022-00229-2081726</th>\n",
       "      <td>1</td>\n",
       "      <td>1548.0</td>\n",
       "      <td>False</td>\n",
       "    </tr>\n",
       "    <tr>\n",
       "      <th>2022-00229-1019474</th>\n",
       "      <td>1</td>\n",
       "      <td>277.0</td>\n",
       "      <td>False</td>\n",
       "    </tr>\n",
       "    <tr>\n",
       "      <th>...</th>\n",
       "      <td>...</td>\n",
       "      <td>...</td>\n",
       "      <td>...</td>\n",
       "    </tr>\n",
       "    <tr>\n",
       "      <th>2022-00229-4639290</th>\n",
       "      <td>0</td>\n",
       "      <td>4140.0</td>\n",
       "      <td>True</td>\n",
       "    </tr>\n",
       "    <tr>\n",
       "      <th>2022-00229-3940363</th>\n",
       "      <td>0</td>\n",
       "      <td>4407.0</td>\n",
       "      <td>True</td>\n",
       "    </tr>\n",
       "    <tr>\n",
       "      <th>2022-00229-1634360</th>\n",
       "      <td>0</td>\n",
       "      <td>4866.0</td>\n",
       "      <td>True</td>\n",
       "    </tr>\n",
       "    <tr>\n",
       "      <th>2022-00229-4257116</th>\n",
       "      <td>0</td>\n",
       "      <td>4207.0</td>\n",
       "      <td>True</td>\n",
       "    </tr>\n",
       "    <tr>\n",
       "      <th>2022-00229-4441956</th>\n",
       "      <td>0</td>\n",
       "      <td>4304.0</td>\n",
       "      <td>True</td>\n",
       "    </tr>\n",
       "  </tbody>\n",
       "</table>\n",
       "<p>213 rows × 3 columns</p>\n",
       "</div>"
      ],
      "text/plain": [
       "                    event  duration  subcohort\n",
       "csid                                          \n",
       "2022-00229-3793895      1    3100.0      False\n",
       "2022-00229-2146926      1    1229.0      False\n",
       "2022-00229-5726795      1    1415.0      False\n",
       "2022-00229-2081726      1    1548.0      False\n",
       "2022-00229-1019474      1     277.0      False\n",
       "...                   ...       ...        ...\n",
       "2022-00229-4639290      0    4140.0       True\n",
       "2022-00229-3940363      0    4407.0       True\n",
       "2022-00229-1634360      0    4866.0       True\n",
       "2022-00229-4257116      0    4207.0       True\n",
       "2022-00229-4441956      0    4304.0       True\n",
       "\n",
       "[213 rows x 3 columns]"
      ]
     },
     "execution_count": 8,
     "metadata": {},
     "output_type": "execute_result"
    }
   ],
   "source": [
    "def date_time_conversion(date):\n",
    "    return(datetime.strptime(date,\"%Y-%m-%dT%H:%M:%SZ\"))\n",
    "\n",
    "# Coverting the times into datetime format\n",
    "y_tr_test = y_test.assign(\n",
    "    event = y_test.ep_CKB0020_combined_ep,\n",
    "    start_time = y_test.study_date.map(date_time_conversion),\n",
    "    event_time = y_test.ep_CKB0020_combined_datedeveloped.map(date_time_conversion)\n",
    ").drop(columns = y_test.columns)\n",
    "y_tr_test[\"duration\"] = datetimes_to_durations(y_tr_test[\"start_time\"],y_tr_test[\"event_time\"])[0]\n",
    "y_tr_test[\"subcohort\"] = y_test[\"subcohort\"]\n",
    "y_tr_test = y_tr_test.drop(columns = [\"start_time\",\"event_time\"])\n",
    "y_tr_test"
   ]
  },
  {
   "cell_type": "markdown",
   "id": "177d1c4a-e154-4f82-9155-226fc737b18e",
   "metadata": {},
   "source": [
    "### Training\n",
    "For estimating censoring distributino for integrated brier score."
   ]
  },
  {
   "cell_type": "code",
   "execution_count": 9,
   "id": "a6f15211-0c74-4ed2-863d-bf59d19e53ae",
   "metadata": {},
   "outputs": [],
   "source": [
    "y_train = pd.read_csv(\"D:/compiled_data/y.csv\").set_index(\"csid\")"
   ]
  },
  {
   "cell_type": "code",
   "execution_count": 10,
   "id": "e7dda4d2-74ee-476f-b394-ba1d9c765861",
   "metadata": {},
   "outputs": [
    {
     "data": {
      "text/html": [
       "<div>\n",
       "<style scoped>\n",
       "    .dataframe tbody tr th:only-of-type {\n",
       "        vertical-align: middle;\n",
       "    }\n",
       "\n",
       "    .dataframe tbody tr th {\n",
       "        vertical-align: top;\n",
       "    }\n",
       "\n",
       "    .dataframe thead th {\n",
       "        text-align: right;\n",
       "    }\n",
       "</style>\n",
       "<table border=\"1\" class=\"dataframe\">\n",
       "  <thead>\n",
       "    <tr style=\"text-align: right;\">\n",
       "      <th></th>\n",
       "      <th>event</th>\n",
       "      <th>duration</th>\n",
       "      <th>subcohort</th>\n",
       "    </tr>\n",
       "    <tr>\n",
       "      <th>csid</th>\n",
       "      <th></th>\n",
       "      <th></th>\n",
       "      <th></th>\n",
       "    </tr>\n",
       "  </thead>\n",
       "  <tbody>\n",
       "    <tr>\n",
       "      <th>2022-00229-1799093</th>\n",
       "      <td>1</td>\n",
       "      <td>1192.0</td>\n",
       "      <td>False</td>\n",
       "    </tr>\n",
       "    <tr>\n",
       "      <th>2022-00229-4744170</th>\n",
       "      <td>1</td>\n",
       "      <td>1690.0</td>\n",
       "      <td>False</td>\n",
       "    </tr>\n",
       "    <tr>\n",
       "      <th>2022-00229-1082517</th>\n",
       "      <td>1</td>\n",
       "      <td>2035.0</td>\n",
       "      <td>False</td>\n",
       "    </tr>\n",
       "    <tr>\n",
       "      <th>2022-00229-3397875</th>\n",
       "      <td>1</td>\n",
       "      <td>2530.0</td>\n",
       "      <td>False</td>\n",
       "    </tr>\n",
       "    <tr>\n",
       "      <th>2022-00229-4372175</th>\n",
       "      <td>1</td>\n",
       "      <td>2216.0</td>\n",
       "      <td>False</td>\n",
       "    </tr>\n",
       "    <tr>\n",
       "      <th>...</th>\n",
       "      <td>...</td>\n",
       "      <td>...</td>\n",
       "      <td>...</td>\n",
       "    </tr>\n",
       "    <tr>\n",
       "      <th>2022-00229-5565114</th>\n",
       "      <td>0</td>\n",
       "      <td>4495.0</td>\n",
       "      <td>True</td>\n",
       "    </tr>\n",
       "    <tr>\n",
       "      <th>2022-00229-4902412</th>\n",
       "      <td>0</td>\n",
       "      <td>3448.0</td>\n",
       "      <td>True</td>\n",
       "    </tr>\n",
       "    <tr>\n",
       "      <th>2022-00229-4823882</th>\n",
       "      <td>0</td>\n",
       "      <td>895.0</td>\n",
       "      <td>True</td>\n",
       "    </tr>\n",
       "    <tr>\n",
       "      <th>2022-00229-4439450</th>\n",
       "      <td>0</td>\n",
       "      <td>5084.0</td>\n",
       "      <td>True</td>\n",
       "    </tr>\n",
       "    <tr>\n",
       "      <th>2022-00229-3848187</th>\n",
       "      <td>0</td>\n",
       "      <td>4496.0</td>\n",
       "      <td>True</td>\n",
       "    </tr>\n",
       "  </tbody>\n",
       "</table>\n",
       "<p>1188 rows × 3 columns</p>\n",
       "</div>"
      ],
      "text/plain": [
       "                    event  duration  subcohort\n",
       "csid                                          \n",
       "2022-00229-1799093      1    1192.0      False\n",
       "2022-00229-4744170      1    1690.0      False\n",
       "2022-00229-1082517      1    2035.0      False\n",
       "2022-00229-3397875      1    2530.0      False\n",
       "2022-00229-4372175      1    2216.0      False\n",
       "...                   ...       ...        ...\n",
       "2022-00229-5565114      0    4495.0       True\n",
       "2022-00229-4902412      0    3448.0       True\n",
       "2022-00229-4823882      0     895.0       True\n",
       "2022-00229-4439450      0    5084.0       True\n",
       "2022-00229-3848187      0    4496.0       True\n",
       "\n",
       "[1188 rows x 3 columns]"
      ]
     },
     "execution_count": 10,
     "metadata": {},
     "output_type": "execute_result"
    }
   ],
   "source": [
    "# Coverting the times into datetime format\n",
    "y_tr_train = y_train.assign(\n",
    "    event = y_train.ep_CKB0020_combined_ep,\n",
    "    start_time = y_train.study_date.map(date_time_conversion),\n",
    "    event_time = y_train.ep_CKB0020_combined_datedeveloped.map(date_time_conversion)\n",
    ").drop(columns = y_train.columns)\n",
    "y_tr_train[\"duration\"] = datetimes_to_durations(y_tr_train[\"start_time\"],y_tr_train[\"event_time\"])[0]\n",
    "y_tr_train[\"subcohort\"] = y_train[\"subcohort\"]\n",
    "y_tr_train = y_tr_train.drop(columns = [\"start_time\",\"event_time\"])\n",
    "y_tr_train"
   ]
  },
  {
   "cell_type": "markdown",
   "id": "1dc7e9e3",
   "metadata": {},
   "source": [
    "## Predictions"
   ]
  },
  {
   "cell_type": "code",
   "execution_count": 46,
   "id": "e2924939",
   "metadata": {},
   "outputs": [],
   "source": [
    "event_times = y_tr_test[\"duration\"]\n",
    "event_observed = y_tr_test[\"event\"]"
   ]
  },
  {
   "cell_type": "markdown",
   "id": "1fecf0ba",
   "metadata": {},
   "source": [
    "### Unweighted Cox PH"
   ]
  },
  {
   "cell_type": "code",
   "execution_count": 47,
   "id": "a45eb690",
   "metadata": {},
   "outputs": [],
   "source": [
    "unweighted_cox_test_preds = unweighted_cox.predict_partial_hazard(unweighted_cox_pca.transform(X_tr_test))"
   ]
  },
  {
   "cell_type": "markdown",
   "id": "4f877cec",
   "metadata": {},
   "source": [
    "### Cox PH, Barlow Weights"
   ]
  },
  {
   "cell_type": "code",
   "execution_count": 48,
   "id": "6200577a",
   "metadata": {},
   "outputs": [],
   "source": [
    "barlow_cox_test_preds = barlow_cox.predict_partial_hazard(barlow_cox_pca.transform(X_tr_test))"
   ]
  },
  {
   "cell_type": "markdown",
   "id": "65c4c119",
   "metadata": {},
   "source": [
    "### Cox PH, Prentice Weights"
   ]
  },
  {
   "cell_type": "code",
   "execution_count": 49,
   "id": "ba445bd1",
   "metadata": {},
   "outputs": [],
   "source": [
    "prentice_cox_test_preds = prentice_cox.predict_partial_hazard(prentice_cox_pca.transform(X_tr_test))"
   ]
  },
  {
   "cell_type": "markdown",
   "id": "2a42f613",
   "metadata": {},
   "source": [
    "### Cox PH, Self-Prentice Weights"
   ]
  },
  {
   "cell_type": "code",
   "execution_count": 50,
   "id": "573cf501",
   "metadata": {},
   "outputs": [],
   "source": [
    "selfprentice_cox_test_preds = selfprentice_cox.predict_partial_hazard(selfprentice_cox_pca.transform(X_tr_test))"
   ]
  },
  {
   "cell_type": "markdown",
   "id": "871f5a07",
   "metadata": {},
   "source": [
    "### Cox PH, Adjusted Weights"
   ]
  },
  {
   "cell_type": "code",
   "execution_count": 51,
   "id": "a318c3f9",
   "metadata": {},
   "outputs": [],
   "source": [
    "adjusted_cox_test_preds = adjusted_cox.predict_partial_hazard(adjusted_cox_pca.transform(X_tr_test))"
   ]
  },
  {
   "cell_type": "markdown",
   "id": "a141f6f7",
   "metadata": {},
   "source": [
    "### Penalised unweighted Cox PH"
   ]
  },
  {
   "cell_type": "code",
   "execution_count": 52,
   "id": "677fdc08",
   "metadata": {},
   "outputs": [],
   "source": [
    "unweighted_cox_penalised_test_preds = unweighted_cox_penalised.predict_partial_hazard(X_tr_test)"
   ]
  },
  {
   "cell_type": "markdown",
   "id": "e3b802bf",
   "metadata": {},
   "source": [
    "### Penalised Cox PH, Barlow Weights"
   ]
  },
  {
   "cell_type": "code",
   "execution_count": 53,
   "id": "703fb240",
   "metadata": {},
   "outputs": [],
   "source": [
    "penalised_barlow_cox_test_preds = penalised_barlow_cox.predict_partial_hazard(X_tr_test)"
   ]
  },
  {
   "cell_type": "markdown",
   "id": "23186879",
   "metadata": {},
   "source": [
    "### Penalised Cox PH, Prentice Weights"
   ]
  },
  {
   "cell_type": "code",
   "execution_count": 54,
   "id": "27ab3c99",
   "metadata": {},
   "outputs": [],
   "source": [
    "penalised_prentice_cox_test_preds = penalised_prentice_cox.predict_partial_hazard(X_tr_test)"
   ]
  },
  {
   "cell_type": "markdown",
   "id": "5c9bb346",
   "metadata": {},
   "source": [
    "### Penalised Cox PH, Prentice Weights"
   ]
  },
  {
   "cell_type": "code",
   "execution_count": 55,
   "id": "e5f3fd39",
   "metadata": {},
   "outputs": [],
   "source": [
    "penalised_selfprentice_cox_test_preds = penalised_selfprentice_cox.predict_partial_hazard(X_tr_test)"
   ]
  },
  {
   "cell_type": "markdown",
   "id": "2d3c48ed",
   "metadata": {},
   "source": [
    "### Penalised Cox PH, Adjusted Weights"
   ]
  },
  {
   "cell_type": "code",
   "execution_count": 56,
   "id": "28a8eb5f",
   "metadata": {},
   "outputs": [],
   "source": [
    "penalised_adjusted_cox_test_preds = penalised_adjusted_cox.predict_partial_hazard(X_tr_test)"
   ]
  },
  {
   "cell_type": "markdown",
   "id": "0de53768",
   "metadata": {},
   "source": [
    "## Results"
   ]
  },
  {
   "cell_type": "code",
   "execution_count": 20,
   "id": "c6b61dbb",
   "metadata": {},
   "outputs": [
    {
     "data": {
      "text/plain": [
       "0.00041640274943111175"
      ]
     },
     "execution_count": 20,
     "metadata": {},
     "output_type": "execute_result"
    }
   ],
   "source": [
    "sample_fraction = len(y_tr_test)/(512724-1200)\n",
    "sample_fraction"
   ]
  },
  {
   "cell_type": "code",
   "execution_count": 73,
   "id": "8dd54db1",
   "metadata": {},
   "outputs": [
    {
     "data": {
      "text/html": [
       "<div>\n",
       "<style scoped>\n",
       "    .dataframe tbody tr th:only-of-type {\n",
       "        vertical-align: middle;\n",
       "    }\n",
       "\n",
       "    .dataframe tbody tr th {\n",
       "        vertical-align: top;\n",
       "    }\n",
       "\n",
       "    .dataframe thead th {\n",
       "        text-align: right;\n",
       "    }\n",
       "</style>\n",
       "<table border=\"1\" class=\"dataframe\">\n",
       "  <thead>\n",
       "    <tr style=\"text-align: right;\">\n",
       "      <th></th>\n",
       "      <th>model</th>\n",
       "      <th>weighted_concordance</th>\n",
       "      <th>concordance</th>\n",
       "      <th>weighted_integrated_brier_scores</th>\n",
       "      <th>integrated_brier_scores</th>\n",
       "    </tr>\n",
       "  </thead>\n",
       "  <tbody>\n",
       "    <tr>\n",
       "      <th>0</th>\n",
       "      <td>Unweighted Cox PH</td>\n",
       "      <td>0.681771</td>\n",
       "      <td>0.625103</td>\n",
       "      <td>157.291154</td>\n",
       "      <td>0.162683</td>\n",
       "    </tr>\n",
       "    <tr>\n",
       "      <th>1</th>\n",
       "      <td>Cox PH, Barlow Weights</td>\n",
       "      <td>0.671967</td>\n",
       "      <td>0.616854</td>\n",
       "      <td>0.306693</td>\n",
       "      <td>0.305061</td>\n",
       "    </tr>\n",
       "    <tr>\n",
       "      <th>2</th>\n",
       "      <td>Cox PH, Prentice Weights</td>\n",
       "      <td>0.704533</td>\n",
       "      <td>0.659369</td>\n",
       "      <td>126.954077</td>\n",
       "      <td>0.163855</td>\n",
       "    </tr>\n",
       "    <tr>\n",
       "      <th>3</th>\n",
       "      <td>Cox PH, Self-Prentice Weights</td>\n",
       "      <td>0.507916</td>\n",
       "      <td>0.519386</td>\n",
       "      <td>1.830794</td>\n",
       "      <td>0.305627</td>\n",
       "    </tr>\n",
       "    <tr>\n",
       "      <th>4</th>\n",
       "      <td>Cox PH, Adjusted Weights</td>\n",
       "      <td>0.682983</td>\n",
       "      <td>0.641157</td>\n",
       "      <td>101.808395</td>\n",
       "      <td>0.168252</td>\n",
       "    </tr>\n",
       "    <tr>\n",
       "      <th>5</th>\n",
       "      <td>Penalized unweighted Cox PH</td>\n",
       "      <td>0.698799</td>\n",
       "      <td>0.655879</td>\n",
       "      <td>1252.810981</td>\n",
       "      <td>0.524371</td>\n",
       "    </tr>\n",
       "    <tr>\n",
       "      <th>6</th>\n",
       "      <td>Penalized Cox PH, Barlow Weights</td>\n",
       "      <td>0.720715</td>\n",
       "      <td>0.666984</td>\n",
       "      <td>127.554059</td>\n",
       "      <td>0.155176</td>\n",
       "    </tr>\n",
       "    <tr>\n",
       "      <th>7</th>\n",
       "      <td>Penalized Cox PH, Prentice Weights</td>\n",
       "      <td>0.724692</td>\n",
       "      <td>0.671299</td>\n",
       "      <td>212.548105</td>\n",
       "      <td>0.158433</td>\n",
       "    </tr>\n",
       "    <tr>\n",
       "      <th>8</th>\n",
       "      <td>Penalized Cox PH, Self-Prentice Weights</td>\n",
       "      <td>0.513270</td>\n",
       "      <td>0.507900</td>\n",
       "      <td>0.317061</td>\n",
       "      <td>0.303849</td>\n",
       "    </tr>\n",
       "    <tr>\n",
       "      <th>9</th>\n",
       "      <td>Penalized Cox PH, Adjusted Weights</td>\n",
       "      <td>0.724785</td>\n",
       "      <td>0.671299</td>\n",
       "      <td>233.995957</td>\n",
       "      <td>0.161597</td>\n",
       "    </tr>\n",
       "  </tbody>\n",
       "</table>\n",
       "</div>"
      ],
      "text/plain": [
       "                                     model  weighted_concordance  concordance  \\\n",
       "0                        Unweighted Cox PH              0.681771     0.625103   \n",
       "1                   Cox PH, Barlow Weights              0.671967     0.616854   \n",
       "2                 Cox PH, Prentice Weights              0.704533     0.659369   \n",
       "3            Cox PH, Self-Prentice Weights              0.507916     0.519386   \n",
       "4                 Cox PH, Adjusted Weights              0.682983     0.641157   \n",
       "5              Penalized unweighted Cox PH              0.698799     0.655879   \n",
       "6         Penalized Cox PH, Barlow Weights              0.720715     0.666984   \n",
       "7       Penalized Cox PH, Prentice Weights              0.724692     0.671299   \n",
       "8  Penalized Cox PH, Self-Prentice Weights              0.513270     0.507900   \n",
       "9       Penalized Cox PH, Adjusted Weights              0.724785     0.671299   \n",
       "\n",
       "   weighted_integrated_brier_scores  integrated_brier_scores  \n",
       "0                        157.291154                 0.162683  \n",
       "1                          0.306693                 0.305061  \n",
       "2                        126.954077                 0.163855  \n",
       "3                          1.830794                 0.305627  \n",
       "4                        101.808395                 0.168252  \n",
       "5                       1252.810981                 0.524371  \n",
       "6                        127.554059                 0.155176  \n",
       "7                        212.548105                 0.158433  \n",
       "8                          0.317061                 0.303849  \n",
       "9                        233.995957                 0.161597  "
      ]
     },
     "execution_count": 73,
     "metadata": {},
     "output_type": "execute_result"
    }
   ],
   "source": [
    "model_results = pd.DataFrame({\n",
    "    \"model\": [\"Unweighted Cox PH\",\n",
    "             \"Cox PH, Barlow Weights\",\n",
    "             \"Cox PH, Prentice Weights\",\n",
    "             \"Cox PH, Self-Prentice Weights\",\n",
    "             \"Cox PH, Adjusted Weights\",\n",
    "             \"Penalized unweighted Cox PH\",\n",
    "             \"Penalized Cox PH, Barlow Weights\",\n",
    "             \"Penalized Cox PH, Prentice Weights\",\n",
    "             \"Penalized Cox PH, Self-Prentice Weights\",\n",
    "             \"Penalized Cox PH, Adjusted Weights\"],\n",
    "    \"weighted_concordance\": [weighted_concordance(event_times,unweighted_cox_test_preds, event_observed,sample_fraction),\n",
    "                            weighted_concordance(event_times,barlow_cox_test_preds, event_observed,sample_fraction),\n",
    "                             weighted_concordance(event_times,prentice_cox_test_preds, event_observed,sample_fraction),\n",
    "                             weighted_concordance(event_times,selfprentice_cox_test_preds, event_observed,sample_fraction),\n",
    "                             weighted_concordance(event_times,adjusted_cox_test_preds, event_observed,sample_fraction),\n",
    "                             weighted_concordance(event_times,unweighted_cox_penalised_test_preds, event_observed,sample_fraction),\n",
    "                             weighted_concordance(event_times,penalised_barlow_cox_test_preds, event_observed,sample_fraction),\n",
    "                             weighted_concordance(event_times,penalised_prentice_cox_test_preds, event_observed,sample_fraction),\n",
    "                             weighted_concordance(event_times,penalised_selfprentice_cox_test_preds, event_observed,sample_fraction),\n",
    "                             weighted_concordance(event_times,penalised_adjusted_cox_test_preds, event_observed,sample_fraction)],\n",
    "    \"concordance\": [concordance_index(event_times,-unweighted_cox_test_preds, event_observed),\n",
    "                            concordance_index(event_times,-barlow_cox_test_preds, event_observed),\n",
    "                             concordance_index(event_times,-prentice_cox_test_preds, event_observed),\n",
    "                             concordance_index(event_times,-selfprentice_cox_test_preds, event_observed),\n",
    "                             concordance_index(event_times,-adjusted_cox_test_preds, event_observed),\n",
    "                             concordance_index(event_times,-unweighted_cox_penalised_test_preds, event_observed),\n",
    "                             concordance_index(event_times,-penalised_barlow_cox_test_preds, event_observed),\n",
    "                             concordance_index(event_times,-penalised_prentice_cox_test_preds, event_observed),\n",
    "                             concordance_index(event_times,-penalised_selfprentice_cox_test_preds, event_observed),\n",
    "                             concordance_index(event_times,-penalised_adjusted_cox_test_preds, event_observed)],\n",
    "    \"weighted_integrated_brier_scores\": [wibs(unweighted_cox, unweighted_cox_pca.transform(X_tr_test), y_tr_test, y_tr_train, 1/sample_fraction),\n",
    "                                         wibs(barlow_cox, barlow_cox_pca.transform(X_tr_test), y_tr_test, y_tr_train, 1/sample_fraction),\n",
    "                                         wibs(prentice_cox, prentice_cox_pca.transform(X_tr_test), y_tr_test, y_tr_train, 1/sample_fraction),\n",
    "                                         wibs(selfprentice_cox, selfprentice_cox_pca.transform(X_tr_test), y_tr_test, y_tr_train, 1/sample_fraction),\n",
    "                                         wibs(adjusted_cox, adjusted_cox_pca.transform(X_tr_test), y_tr_test, y_tr_train, 1/sample_fraction),\n",
    "                                         wibs(unweighted_cox_penalised, X_tr_test, y_tr_test, y_tr_train, 1/sample_fraction),\n",
    "                                         wibs(penalised_barlow_cox, X_tr_test, y_tr_test, y_tr_train, 1/sample_fraction),\n",
    "                                         wibs(penalised_prentice_cox, X_tr_test, y_tr_test, y_tr_train, 1/sample_fraction),\n",
    "                                         wibs(penalised_selfprentice_cox, X_tr_test, y_tr_test, y_tr_train, 1/sample_fraction),\n",
    "                                         wibs(penalised_adjusted_cox, X_tr_test, y_tr_test, y_tr_train, 1/sample_fraction)],\n",
    "    \"integrated_brier_scores\": [wibs(unweighted_cox, unweighted_cox_pca.transform(X_tr_test), y_tr_test, y_tr_train, 1),\n",
    "                                         wibs(barlow_cox, barlow_cox_pca.transform(X_tr_test), y_tr_test, y_tr_train, 1),\n",
    "                                         wibs(prentice_cox, prentice_cox_pca.transform(X_tr_test), y_tr_test, y_tr_train, 1),\n",
    "                                         wibs(selfprentice_cox, selfprentice_cox_pca.transform(X_tr_test), y_tr_test, y_tr_train, 1),\n",
    "                                         wibs(adjusted_cox, adjusted_cox_pca.transform(X_tr_test), y_tr_test, y_tr_train, 1),\n",
    "                                         wibs(unweighted_cox_penalised, X_tr_test, y_tr_test, y_tr_train, 1),\n",
    "                                         wibs(penalised_barlow_cox, X_tr_test, y_tr_test, y_tr_train, 1),\n",
    "                                         wibs(penalised_prentice_cox, X_tr_test, y_tr_test, y_tr_train, 1),\n",
    "                                         wibs(penalised_selfprentice_cox, X_tr_test, y_tr_test, y_tr_train, 1),\n",
    "                                         wibs(penalised_adjusted_cox, X_tr_test, y_tr_test, y_tr_train, 1)],\n",
    "    \n",
    "})\n",
    "model_results"
   ]
  }
 ],
 "metadata": {
  "kernelspec": {
   "display_name": "Python 3",
   "language": "python",
   "name": "python3"
  },
  "language_info": {
   "codemirror_mode": {
    "name": "ipython",
    "version": 3
   },
   "file_extension": ".py",
   "mimetype": "text/x-python",
   "name": "python",
   "nbconvert_exporter": "python",
   "pygments_lexer": "ipython3",
   "version": "3.8.8"
  }
 },
 "nbformat": 4,
 "nbformat_minor": 5
}

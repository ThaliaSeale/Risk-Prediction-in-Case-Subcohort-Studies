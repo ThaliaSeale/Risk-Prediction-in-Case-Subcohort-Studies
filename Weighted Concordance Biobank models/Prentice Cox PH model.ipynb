{
 "cells": [
  {
   "cell_type": "markdown",
   "id": "e1288b58",
   "metadata": {},
   "source": [
    "# Prentice Cox PH model with PCA\n",
    "Fitting Cox PH model with Prentice weights."
   ]
  },
  {
   "cell_type": "code",
   "execution_count": 1,
   "id": "29318ac0",
   "metadata": {},
   "outputs": [],
   "source": [
    "import numpy as np\n",
    "import pandas as pd\n",
    "from datetime import datetime\n",
    "\n",
    "import pickle\n",
    "\n",
    "from weighted_concordance import * "
   ]
  },
  {
   "cell_type": "code",
   "execution_count": 2,
   "id": "ff18f6b0",
   "metadata": {},
   "outputs": [],
   "source": [
    "# pd.set_option('display.max_columns', None,'display.max_rows',20)"
   ]
  },
  {
   "cell_type": "code",
   "execution_count": 3,
   "id": "e69f69e4",
   "metadata": {},
   "outputs": [],
   "source": [
    "from lifelines import CoxPHFitter\n",
    "from lifelines.utils import datetimes_to_durations"
   ]
  },
  {
   "cell_type": "code",
   "execution_count": 4,
   "id": "1517ecb7",
   "metadata": {},
   "outputs": [],
   "source": [
    "# importing data\n",
    "X_tr = pd.read_csv(\"D:/compiled_data/X_tr.csv\").set_index(\"csid\")\n",
    "\n",
    "y = pd.read_csv(\"D:/compiled_data/y.csv\").set_index(\"csid\")"
   ]
  },
  {
   "cell_type": "markdown",
   "id": "d7968e88-1cf5-473a-a301-6c20d2b066da",
   "metadata": {},
   "source": [
    "Converting date-times from strings to datetime format."
   ]
  },
  {
   "cell_type": "code",
   "execution_count": 5,
   "id": "ebafa040",
   "metadata": {},
   "outputs": [],
   "source": [
    "def date_time_conversion(date):\n",
    "    return(datetime.strptime(date,\"%Y-%m-%dT%H:%M:%SZ\"))"
   ]
  },
  {
   "cell_type": "code",
   "execution_count": 6,
   "id": "defacbf0",
   "metadata": {
    "scrolled": true
   },
   "outputs": [],
   "source": [
    "# Coverting the times into datetime format\n",
    "y_tr = y.assign(\n",
    "    event = y.ep_CKB0020_combined_ep,\n",
    "    start_time = y.study_date.map(date_time_conversion),\n",
    "    event_time = y.ep_CKB0020_combined_datedeveloped.map(date_time_conversion)\n",
    ").drop(columns = y.columns)\n",
    "y_tr[\"duration\"] = datetimes_to_durations(y_tr[\"start_time\"],y_tr[\"event_time\"])[0]\n",
    "y_tr[\"subcohort\"] = y[\"subcohort\"]\n",
    "y_tr = y_tr.drop(columns = [\"start_time\",\"event_time\"])"
   ]
  },
  {
   "cell_type": "markdown",
   "id": "507b015a",
   "metadata": {},
   "source": [
    "## Fitting Model"
   ]
  },
  {
   "cell_type": "markdown",
   "id": "78af08a2-4357-428a-aef8-ade93ba3d9bd",
   "metadata": {},
   "source": [
    "Convergence not reached if naively fit model to all data:"
   ]
  },
  {
   "cell_type": "code",
   "execution_count": 7,
   "id": "586a19ee-9f48-42d6-8d74-57dff1ce739d",
   "metadata": {
    "scrolled": true,
    "tags": []
   },
   "outputs": [
    {
     "name": "stderr",
     "output_type": "stream",
     "text": [
      "C:\\Users\\thali\\anaconda3\\lib\\site-packages\\lifelines\\utils\\__init__.py:1123: ConvergenceWarning: Column cancer_site_1.0 have very low variance when conditioned on death event present or not. This may harm convergence. This could be a form of 'complete separation'. For example, try the following code:\n",
      "\n",
      ">>> events = df['event'].astype(bool)\n",
      ">>> print(df.loc[events, 'cancer_site_1.0'].var())\n",
      ">>> print(df.loc[~events, 'cancer_site_1.0'].var())\n",
      "\n",
      "A very low variance means that the column cancer_site_1.0 completely determines whether a subject dies or not. See https://stats.stackexchange.com/questions/11109/how-to-deal-with-perfect-separation-in-logistic-regression.\n",
      "\n",
      "  warnings.warn(dedent(warning_text), ConvergenceWarning)\n"
     ]
    },
    {
     "ename": "ConvergenceError",
     "evalue": "Convergence halted due to matrix inversion problems. Suspicion is high collinearity. Please see the following tips in the lifelines documentation: https://lifelines.readthedocs.io/en/latest/Examples.html#problems-with-convergence-in-the-cox-proportional-hazard-modelMatrix is singular.",
     "output_type": "error",
     "traceback": [
      "\u001b[1;31m---------------------------------------------------------------------------\u001b[0m",
      "\u001b[1;31mLinAlgError\u001b[0m                               Traceback (most recent call last)",
      "\u001b[1;32m~\\anaconda3\\lib\\site-packages\\lifelines\\fitters\\coxph_fitter.py\u001b[0m in \u001b[0;36m_newton_rhapson_for_efron_model\u001b[1;34m(self, X, T, E, weights, entries, initial_point, show_progress, step_size, precision, max_steps)\u001b[0m\n\u001b[0;32m   1525\u001b[0m             \u001b[1;32mtry\u001b[0m\u001b[1;33m:\u001b[0m\u001b[1;33m\u001b[0m\u001b[1;33m\u001b[0m\u001b[0m\n\u001b[1;32m-> 1526\u001b[1;33m                 \u001b[0minv_h_dot_g_T\u001b[0m \u001b[1;33m=\u001b[0m \u001b[0mspsolve\u001b[0m\u001b[1;33m(\u001b[0m\u001b[1;33m-\u001b[0m\u001b[0mh\u001b[0m\u001b[1;33m,\u001b[0m \u001b[0mg\u001b[0m\u001b[1;33m,\u001b[0m \u001b[0massume_a\u001b[0m\u001b[1;33m=\u001b[0m\u001b[1;34m\"pos\"\u001b[0m\u001b[1;33m,\u001b[0m \u001b[0mcheck_finite\u001b[0m\u001b[1;33m=\u001b[0m\u001b[1;32mFalse\u001b[0m\u001b[1;33m)\u001b[0m\u001b[1;33m\u001b[0m\u001b[1;33m\u001b[0m\u001b[0m\n\u001b[0m\u001b[0;32m   1527\u001b[0m             \u001b[1;32mexcept\u001b[0m \u001b[1;33m(\u001b[0m\u001b[0mValueError\u001b[0m\u001b[1;33m,\u001b[0m \u001b[0mLinAlgError\u001b[0m\u001b[1;33m)\u001b[0m \u001b[1;32mas\u001b[0m \u001b[0me\u001b[0m\u001b[1;33m:\u001b[0m\u001b[1;33m\u001b[0m\u001b[1;33m\u001b[0m\u001b[0m\n",
      "\u001b[1;32m~\\anaconda3\\lib\\site-packages\\scipy\\linalg\\basic.py\u001b[0m in \u001b[0;36msolve\u001b[1;34m(a, b, sym_pos, lower, overwrite_a, overwrite_b, debug, check_finite, assume_a, transposed)\u001b[0m\n\u001b[0;32m    247\u001b[0m                            overwrite_b=overwrite_b)\n\u001b[1;32m--> 248\u001b[1;33m         \u001b[0m_solve_check\u001b[0m\u001b[1;33m(\u001b[0m\u001b[0mn\u001b[0m\u001b[1;33m,\u001b[0m \u001b[0minfo\u001b[0m\u001b[1;33m)\u001b[0m\u001b[1;33m\u001b[0m\u001b[1;33m\u001b[0m\u001b[0m\n\u001b[0m\u001b[0;32m    249\u001b[0m         \u001b[0mrcond\u001b[0m\u001b[1;33m,\u001b[0m \u001b[0minfo\u001b[0m \u001b[1;33m=\u001b[0m \u001b[0mpocon\u001b[0m\u001b[1;33m(\u001b[0m\u001b[0mlu\u001b[0m\u001b[1;33m,\u001b[0m \u001b[0manorm\u001b[0m\u001b[1;33m)\u001b[0m\u001b[1;33m\u001b[0m\u001b[1;33m\u001b[0m\u001b[0m\n",
      "\u001b[1;32m~\\anaconda3\\lib\\site-packages\\scipy\\linalg\\basic.py\u001b[0m in \u001b[0;36m_solve_check\u001b[1;34m(n, info, lamch, rcond)\u001b[0m\n\u001b[0;32m     28\u001b[0m     \u001b[1;32melif\u001b[0m \u001b[1;36m0\u001b[0m \u001b[1;33m<\u001b[0m \u001b[0minfo\u001b[0m\u001b[1;33m:\u001b[0m\u001b[1;33m\u001b[0m\u001b[1;33m\u001b[0m\u001b[0m\n\u001b[1;32m---> 29\u001b[1;33m         \u001b[1;32mraise\u001b[0m \u001b[0mLinAlgError\u001b[0m\u001b[1;33m(\u001b[0m\u001b[1;34m'Matrix is singular.'\u001b[0m\u001b[1;33m)\u001b[0m\u001b[1;33m\u001b[0m\u001b[1;33m\u001b[0m\u001b[0m\n\u001b[0m\u001b[0;32m     30\u001b[0m \u001b[1;33m\u001b[0m\u001b[0m\n",
      "\u001b[1;31mLinAlgError\u001b[0m: Matrix is singular.",
      "\nDuring handling of the above exception, another exception occurred:\n",
      "\u001b[1;31mConvergenceError\u001b[0m                          Traceback (most recent call last)",
      "\u001b[1;32m<ipython-input-7-21a29ce86a70>\u001b[0m in \u001b[0;36m<module>\u001b[1;34m\u001b[0m\n\u001b[0;32m     27\u001b[0m \u001b[1;33m\u001b[0m\u001b[0m\n\u001b[0;32m     28\u001b[0m \u001b[0mcph2\u001b[0m \u001b[1;33m=\u001b[0m \u001b[0mCoxPHFitter\u001b[0m\u001b[1;33m(\u001b[0m\u001b[1;33m)\u001b[0m\u001b[1;33m\u001b[0m\u001b[1;33m\u001b[0m\u001b[0m\n\u001b[1;32m---> 29\u001b[1;33m \u001b[0mcph2\u001b[0m\u001b[1;33m.\u001b[0m\u001b[0mfit\u001b[0m\u001b[1;33m(\u001b[0m\u001b[0mcase_subcohort_prentice_df\u001b[0m\u001b[1;33m,\u001b[0m \u001b[0mentry_col\u001b[0m \u001b[1;33m=\u001b[0m \u001b[1;34m\"start_time\"\u001b[0m\u001b[1;33m,\u001b[0m \u001b[0mduration_col\u001b[0m \u001b[1;33m=\u001b[0m \u001b[1;34m\"duration\"\u001b[0m\u001b[1;33m,\u001b[0m\u001b[0mevent_col\u001b[0m \u001b[1;33m=\u001b[0m \u001b[1;34m\"event\"\u001b[0m\u001b[1;33m,\u001b[0m\u001b[0mweights_col\u001b[0m \u001b[1;33m=\u001b[0m \u001b[1;34m\"weight\"\u001b[0m\u001b[1;33m,\u001b[0m\u001b[0mrobust\u001b[0m \u001b[1;33m=\u001b[0m \u001b[1;32mTrue\u001b[0m\u001b[1;33m)\u001b[0m\u001b[1;33m\u001b[0m\u001b[1;33m\u001b[0m\u001b[0m\n\u001b[0m",
      "\u001b[1;32m~\\anaconda3\\lib\\site-packages\\lifelines\\utils\\__init__.py\u001b[0m in \u001b[0;36mf\u001b[1;34m(model, *args, **kwargs)\u001b[0m\n\u001b[0;32m     54\u001b[0m         \u001b[1;32mdef\u001b[0m \u001b[0mf\u001b[0m\u001b[1;33m(\u001b[0m\u001b[0mmodel\u001b[0m\u001b[1;33m,\u001b[0m \u001b[1;33m*\u001b[0m\u001b[0margs\u001b[0m\u001b[1;33m,\u001b[0m \u001b[1;33m**\u001b[0m\u001b[0mkwargs\u001b[0m\u001b[1;33m)\u001b[0m\u001b[1;33m:\u001b[0m\u001b[1;33m\u001b[0m\u001b[1;33m\u001b[0m\u001b[0m\n\u001b[0;32m     55\u001b[0m             \u001b[0mcls\u001b[0m\u001b[1;33m.\u001b[0m\u001b[0mset_censoring_type\u001b[0m\u001b[1;33m(\u001b[0m\u001b[0mmodel\u001b[0m\u001b[1;33m,\u001b[0m \u001b[0mcls\u001b[0m\u001b[1;33m.\u001b[0m\u001b[0mRIGHT\u001b[0m\u001b[1;33m)\u001b[0m\u001b[1;33m\u001b[0m\u001b[1;33m\u001b[0m\u001b[0m\n\u001b[1;32m---> 56\u001b[1;33m             \u001b[1;32mreturn\u001b[0m \u001b[0mfunction\u001b[0m\u001b[1;33m(\u001b[0m\u001b[0mmodel\u001b[0m\u001b[1;33m,\u001b[0m \u001b[1;33m*\u001b[0m\u001b[0margs\u001b[0m\u001b[1;33m,\u001b[0m \u001b[1;33m**\u001b[0m\u001b[0mkwargs\u001b[0m\u001b[1;33m)\u001b[0m\u001b[1;33m\u001b[0m\u001b[1;33m\u001b[0m\u001b[0m\n\u001b[0m\u001b[0;32m     57\u001b[0m \u001b[1;33m\u001b[0m\u001b[0m\n\u001b[0;32m     58\u001b[0m         \u001b[1;32mreturn\u001b[0m \u001b[0mf\u001b[0m\u001b[1;33m\u001b[0m\u001b[1;33m\u001b[0m\u001b[0m\n",
      "\u001b[1;32m~\\anaconda3\\lib\\site-packages\\lifelines\\fitters\\coxph_fitter.py\u001b[0m in \u001b[0;36mfit\u001b[1;34m(self, df, duration_col, event_col, show_progress, initial_point, strata, weights_col, cluster_col, robust, batch_mode, timeline, formula, entry_col, fit_options)\u001b[0m\n\u001b[0;32m    288\u001b[0m         \"\"\"\n\u001b[0;32m    289\u001b[0m         \u001b[0mself\u001b[0m\u001b[1;33m.\u001b[0m\u001b[0mstrata\u001b[0m \u001b[1;33m=\u001b[0m \u001b[0mutils\u001b[0m\u001b[1;33m.\u001b[0m\u001b[0mcoalesce\u001b[0m\u001b[1;33m(\u001b[0m\u001b[0mstrata\u001b[0m\u001b[1;33m,\u001b[0m \u001b[0mself\u001b[0m\u001b[1;33m.\u001b[0m\u001b[0mstrata\u001b[0m\u001b[1;33m)\u001b[0m\u001b[1;33m\u001b[0m\u001b[1;33m\u001b[0m\u001b[0m\n\u001b[1;32m--> 290\u001b[1;33m         self._model = self._fit_model(\n\u001b[0m\u001b[0;32m    291\u001b[0m             \u001b[0mdf\u001b[0m\u001b[1;33m,\u001b[0m\u001b[1;33m\u001b[0m\u001b[1;33m\u001b[0m\u001b[0m\n\u001b[0;32m    292\u001b[0m             \u001b[0mduration_col\u001b[0m\u001b[1;33m,\u001b[0m\u001b[1;33m\u001b[0m\u001b[1;33m\u001b[0m\u001b[0m\n",
      "\u001b[1;32m~\\anaconda3\\lib\\site-packages\\lifelines\\fitters\\coxph_fitter.py\u001b[0m in \u001b[0;36m_fit_model\u001b[1;34m(self, *args, **kwargs)\u001b[0m\n\u001b[0;32m    608\u001b[0m     \u001b[1;32mdef\u001b[0m \u001b[0m_fit_model\u001b[0m\u001b[1;33m(\u001b[0m\u001b[0mself\u001b[0m\u001b[1;33m,\u001b[0m \u001b[1;33m*\u001b[0m\u001b[0margs\u001b[0m\u001b[1;33m,\u001b[0m \u001b[1;33m**\u001b[0m\u001b[0mkwargs\u001b[0m\u001b[1;33m)\u001b[0m\u001b[1;33m:\u001b[0m\u001b[1;33m\u001b[0m\u001b[1;33m\u001b[0m\u001b[0m\n\u001b[0;32m    609\u001b[0m         \u001b[1;32mif\u001b[0m \u001b[0mself\u001b[0m\u001b[1;33m.\u001b[0m\u001b[0mbaseline_estimation_method\u001b[0m \u001b[1;33m==\u001b[0m \u001b[1;34m\"breslow\"\u001b[0m\u001b[1;33m:\u001b[0m\u001b[1;33m\u001b[0m\u001b[1;33m\u001b[0m\u001b[0m\n\u001b[1;32m--> 610\u001b[1;33m             \u001b[1;32mreturn\u001b[0m \u001b[0mself\u001b[0m\u001b[1;33m.\u001b[0m\u001b[0m_fit_model_breslow\u001b[0m\u001b[1;33m(\u001b[0m\u001b[1;33m*\u001b[0m\u001b[0margs\u001b[0m\u001b[1;33m,\u001b[0m \u001b[1;33m**\u001b[0m\u001b[0mkwargs\u001b[0m\u001b[1;33m)\u001b[0m\u001b[1;33m\u001b[0m\u001b[1;33m\u001b[0m\u001b[0m\n\u001b[0m\u001b[0;32m    611\u001b[0m         \u001b[1;32melif\u001b[0m \u001b[0mself\u001b[0m\u001b[1;33m.\u001b[0m\u001b[0mbaseline_estimation_method\u001b[0m \u001b[1;33m==\u001b[0m \u001b[1;34m\"spline\"\u001b[0m\u001b[1;33m:\u001b[0m\u001b[1;33m\u001b[0m\u001b[1;33m\u001b[0m\u001b[0m\n\u001b[0;32m    612\u001b[0m             \u001b[1;32mreturn\u001b[0m \u001b[0mself\u001b[0m\u001b[1;33m.\u001b[0m\u001b[0m_fit_model_spline\u001b[0m\u001b[1;33m(\u001b[0m\u001b[1;33m*\u001b[0m\u001b[0margs\u001b[0m\u001b[1;33m,\u001b[0m \u001b[1;33m**\u001b[0m\u001b[0mkwargs\u001b[0m\u001b[1;33m)\u001b[0m\u001b[1;33m\u001b[0m\u001b[1;33m\u001b[0m\u001b[0m\n",
      "\u001b[1;32m~\\anaconda3\\lib\\site-packages\\lifelines\\fitters\\coxph_fitter.py\u001b[0m in \u001b[0;36m_fit_model_breslow\u001b[1;34m(self, *args, **kwargs)\u001b[0m\n\u001b[0;32m    621\u001b[0m         )\n\u001b[0;32m    622\u001b[0m         \u001b[1;32mif\u001b[0m \u001b[0mutils\u001b[0m\u001b[1;33m.\u001b[0m\u001b[0mCensoringType\u001b[0m\u001b[1;33m.\u001b[0m\u001b[0mis_right_censoring\u001b[0m\u001b[1;33m(\u001b[0m\u001b[0mself\u001b[0m\u001b[1;33m)\u001b[0m\u001b[1;33m:\u001b[0m\u001b[1;33m\u001b[0m\u001b[1;33m\u001b[0m\u001b[0m\n\u001b[1;32m--> 623\u001b[1;33m             \u001b[0mmodel\u001b[0m\u001b[1;33m.\u001b[0m\u001b[0mfit\u001b[0m\u001b[1;33m(\u001b[0m\u001b[1;33m*\u001b[0m\u001b[0margs\u001b[0m\u001b[1;33m,\u001b[0m \u001b[1;33m**\u001b[0m\u001b[0mkwargs\u001b[0m\u001b[1;33m)\u001b[0m\u001b[1;33m\u001b[0m\u001b[1;33m\u001b[0m\u001b[0m\n\u001b[0m\u001b[0;32m    624\u001b[0m             \u001b[1;32mreturn\u001b[0m \u001b[0mmodel\u001b[0m\u001b[1;33m\u001b[0m\u001b[1;33m\u001b[0m\u001b[0m\n\u001b[0;32m    625\u001b[0m         \u001b[1;32melse\u001b[0m\u001b[1;33m:\u001b[0m\u001b[1;33m\u001b[0m\u001b[1;33m\u001b[0m\u001b[0m\n",
      "\u001b[1;32m~\\anaconda3\\lib\\site-packages\\lifelines\\utils\\__init__.py\u001b[0m in \u001b[0;36mf\u001b[1;34m(model, *args, **kwargs)\u001b[0m\n\u001b[0;32m     54\u001b[0m         \u001b[1;32mdef\u001b[0m \u001b[0mf\u001b[0m\u001b[1;33m(\u001b[0m\u001b[0mmodel\u001b[0m\u001b[1;33m,\u001b[0m \u001b[1;33m*\u001b[0m\u001b[0margs\u001b[0m\u001b[1;33m,\u001b[0m \u001b[1;33m**\u001b[0m\u001b[0mkwargs\u001b[0m\u001b[1;33m)\u001b[0m\u001b[1;33m:\u001b[0m\u001b[1;33m\u001b[0m\u001b[1;33m\u001b[0m\u001b[0m\n\u001b[0;32m     55\u001b[0m             \u001b[0mcls\u001b[0m\u001b[1;33m.\u001b[0m\u001b[0mset_censoring_type\u001b[0m\u001b[1;33m(\u001b[0m\u001b[0mmodel\u001b[0m\u001b[1;33m,\u001b[0m \u001b[0mcls\u001b[0m\u001b[1;33m.\u001b[0m\u001b[0mRIGHT\u001b[0m\u001b[1;33m)\u001b[0m\u001b[1;33m\u001b[0m\u001b[1;33m\u001b[0m\u001b[0m\n\u001b[1;32m---> 56\u001b[1;33m             \u001b[1;32mreturn\u001b[0m \u001b[0mfunction\u001b[0m\u001b[1;33m(\u001b[0m\u001b[0mmodel\u001b[0m\u001b[1;33m,\u001b[0m \u001b[1;33m*\u001b[0m\u001b[0margs\u001b[0m\u001b[1;33m,\u001b[0m \u001b[1;33m**\u001b[0m\u001b[0mkwargs\u001b[0m\u001b[1;33m)\u001b[0m\u001b[1;33m\u001b[0m\u001b[1;33m\u001b[0m\u001b[0m\n\u001b[0m\u001b[0;32m     57\u001b[0m \u001b[1;33m\u001b[0m\u001b[0m\n\u001b[0;32m     58\u001b[0m         \u001b[1;32mreturn\u001b[0m \u001b[0mf\u001b[0m\u001b[1;33m\u001b[0m\u001b[1;33m\u001b[0m\u001b[0m\n",
      "\u001b[1;32m~\\anaconda3\\lib\\site-packages\\lifelines\\fitters\\coxph_fitter.py\u001b[0m in \u001b[0;36mfit\u001b[1;34m(self, df, duration_col, event_col, show_progress, initial_point, strata, weights_col, cluster_col, robust, batch_mode, timeline, formula, entry_col, fit_options)\u001b[0m\n\u001b[0;32m   1250\u001b[0m         )\n\u001b[0;32m   1251\u001b[0m \u001b[1;33m\u001b[0m\u001b[0m\n\u001b[1;32m-> 1252\u001b[1;33m         params_, ll_, variance_matrix_, baseline_hazard_, baseline_cumulative_hazard_, model = self._fit_model(\n\u001b[0m\u001b[0;32m   1253\u001b[0m             \u001b[0mX_norm\u001b[0m\u001b[1;33m,\u001b[0m\u001b[1;33m\u001b[0m\u001b[1;33m\u001b[0m\u001b[0m\n\u001b[0;32m   1254\u001b[0m             \u001b[0mT\u001b[0m\u001b[1;33m,\u001b[0m\u001b[1;33m\u001b[0m\u001b[1;33m\u001b[0m\u001b[0m\n",
      "\u001b[1;32m~\\anaconda3\\lib\\site-packages\\lifelines\\fitters\\coxph_fitter.py\u001b[0m in \u001b[0;36m_fit_model\u001b[1;34m(self, X, T, E, weights, entries, fit_options, initial_point, show_progress)\u001b[0m\n\u001b[0;32m   1378\u001b[0m         \u001b[0mshow_progress\u001b[0m\u001b[1;33m:\u001b[0m \u001b[0mbool\u001b[0m \u001b[1;33m=\u001b[0m \u001b[1;32mTrue\u001b[0m\u001b[1;33m,\u001b[0m\u001b[1;33m\u001b[0m\u001b[1;33m\u001b[0m\u001b[0m\n\u001b[0;32m   1379\u001b[0m     ):\n\u001b[1;32m-> 1380\u001b[1;33m         beta_, ll_, hessian_ = self._newton_rhapson_for_efron_model(\n\u001b[0m\u001b[0;32m   1381\u001b[0m             \u001b[0mX\u001b[0m\u001b[1;33m,\u001b[0m\u001b[1;33m\u001b[0m\u001b[1;33m\u001b[0m\u001b[0m\n\u001b[0;32m   1382\u001b[0m             \u001b[0mT\u001b[0m\u001b[1;33m,\u001b[0m\u001b[1;33m\u001b[0m\u001b[1;33m\u001b[0m\u001b[0m\n",
      "\u001b[1;32m~\\anaconda3\\lib\\site-packages\\lifelines\\fitters\\coxph_fitter.py\u001b[0m in \u001b[0;36m_newton_rhapson_for_efron_model\u001b[1;34m(self, X, T, E, weights, entries, initial_point, show_progress, step_size, precision, max_steps)\u001b[0m\n\u001b[0;32m   1533\u001b[0m                     )\n\u001b[0;32m   1534\u001b[0m                 \u001b[1;32melif\u001b[0m \u001b[0misinstance\u001b[0m\u001b[1;33m(\u001b[0m\u001b[0me\u001b[0m\u001b[1;33m,\u001b[0m \u001b[0mLinAlgError\u001b[0m\u001b[1;33m)\u001b[0m\u001b[1;33m:\u001b[0m\u001b[1;33m\u001b[0m\u001b[1;33m\u001b[0m\u001b[0m\n\u001b[1;32m-> 1535\u001b[1;33m                     raise exceptions.ConvergenceError(\n\u001b[0m\u001b[0;32m   1536\u001b[0m                         \"\"\"Convergence halted due to matrix inversion problems. Suspicion is high collinearity. {0}\"\"\".format(\n\u001b[0;32m   1537\u001b[0m                             \u001b[0mCONVERGENCE_DOCS\u001b[0m\u001b[1;33m\u001b[0m\u001b[1;33m\u001b[0m\u001b[0m\n",
      "\u001b[1;31mConvergenceError\u001b[0m: Convergence halted due to matrix inversion problems. Suspicion is high collinearity. Please see the following tips in the lifelines documentation: https://lifelines.readthedocs.io/en/latest/Examples.html#problems-with-convergence-in-the-cox-proportional-hazard-modelMatrix is singular."
     ]
    }
   ],
   "source": [
    "# creating a case dataframe\n",
    "cases_prentice_df = X_tr.join(y_tr).query(\"subcohort == False\")\n",
    "\n",
    "cases_prentice_df = cases_prentice_df.assign(\n",
    "    # setting events outside subcohort to start just before they occur\n",
    "    start_time = lambda df: df[\"duration\"] - 0.001,\n",
    "    # adding appropriate weight\n",
    "    weight = 1,\n",
    "    subcohort = False\n",
    ")\n",
    "\n",
    "# creating a subcohort dataframe\n",
    "subcohort_prentice_df = X_tr.join(y_tr).query(\"subcohort == True\")\n",
    "\n",
    "\n",
    "subcohort_prentice_df = subcohort_prentice_df.assign(\n",
    "        # if it is a case, the weight should be the same as the subcohort until close to the time of the event. \n",
    "        duration = lambda df: np.where(df[\"event\"], df[\"duration\"] - 0.001, df[\"duration\"]), \n",
    "        # the events start from the origin\n",
    "        start_time = 0, \n",
    "        event = False,\n",
    "        weight = 1,\n",
    "        subcohort = True\n",
    "    )\n",
    "\n",
    "case_subcohort_prentice_df = pd.concat([cases_prentice_df,subcohort_prentice_df]).drop(columns = \"subcohort\")\n",
    "\n",
    "cph2 = CoxPHFitter()\n",
    "cph2.fit(case_subcohort_prentice_df, entry_col = \"start_time\", duration_col = \"duration\",event_col = \"event\",weights_col = \"weight\",robust = True)"
   ]
  },
  {
   "cell_type": "markdown",
   "id": "dfb0597b-68cc-4fc6-bd11-08144196cb3a",
   "metadata": {},
   "source": [
    "We use PCA to reduce dimension to remedy convergence issues. Number of components will be selected by cross-validation:"
   ]
  },
  {
   "cell_type": "code",
   "execution_count": 10,
   "id": "af5e1067",
   "metadata": {},
   "outputs": [],
   "source": [
    "from sklearn.decomposition import PCA\n",
    "from lifelines.utils import k_fold_cross_validation, concordance_index\n",
    "from sklearn.model_selection import KFold"
   ]
  },
  {
   "cell_type": "markdown",
   "id": "2833d926-1b3a-4400-8a76-5d6c6f1e1658",
   "metadata": {},
   "source": [
    "More detailed annotation for cross validation code can be found in \"Unweighted Cox PH with PCA\" file"
   ]
  },
  {
   "cell_type": "code",
   "execution_count": 11,
   "id": "7ee0b950",
   "metadata": {},
   "outputs": [
    {
     "name": "stdout",
     "output_type": "stream",
     "text": [
      "1\n",
      "2\n",
      "3\n",
      "4\n",
      "5\n",
      "6\n",
      "7\n",
      "8\n",
      "9\n",
      "10\n",
      "11\n",
      "12\n",
      "13\n",
      "14\n",
      "15\n",
      "16\n",
      "17\n",
      "18\n",
      "19\n"
     ]
    }
   ],
   "source": [
    "cox_pca_scores = []\n",
    "nfolds = 3\n",
    "\n",
    "for i in range(1,20):\n",
    "    print(i)\n",
    "    \n",
    "    kf = KFold(n_splits=nfolds)\n",
    "    kf.get_n_splits(X_tr)\n",
    "\n",
    "    scores = []\n",
    "    \n",
    "    for train_index, test_index in kf.split(X_tr):\n",
    "        X_tr_train, X_tr_test = X_tr.iloc[train_index], X_tr.iloc[test_index]\n",
    "        y_tr_train, y_tr_test = y_tr.iloc[train_index], y_tr.iloc[test_index]\n",
    "            \n",
    "        pca = PCA(n_components = i/20)\n",
    "        X_tr_train_pca = pd.DataFrame(pca.fit_transform(X_tr_train))\n",
    "        X_tr_train_pca.index = X_tr_train.index\n",
    "\n",
    "        # creating a case dataframe\n",
    "        cases_prentice_df = X_tr_train_pca.join(y_tr_train).query(\"subcohort == False\")\n",
    "\n",
    "        cases_prentice_df = cases_prentice_df.assign(\n",
    "            # setting events outside subcohort to start just before they occur\n",
    "            start_time = lambda df: df[\"duration\"] - 0.001,\n",
    "            # adding appropriate weight\n",
    "            weight = 1,\n",
    "            subcohort = False\n",
    "        )\n",
    "    \n",
    "        # creating a subcohort dataframe\n",
    "        subcohort_prentice_df = X_tr_train_pca.join(y_tr_train).query(\"subcohort == True\")\n",
    "\n",
    "        subcohort_prentice_df = subcohort_prentice_df.assign(\n",
    "                # if it is a case, the weight should be the same as the subcohort until close to the time of the event. \n",
    "                duration = lambda df: np.where(df[\"event\"], df[\"duration\"] - 0.001, df[\"duration\"]), \n",
    "                # the events start from the origin\n",
    "                start_time = 0, \n",
    "                event = False,\n",
    "                weight = 1,\n",
    "                subcohort = True\n",
    "            )\n",
    "\n",
    "        case_subcohort_prentice_df = pd.concat([cases_prentice_df,subcohort_prentice_df]).drop(columns = \"subcohort\")\n",
    "\n",
    "        cph2 = CoxPHFitter()\n",
    "        cph2.fit(case_subcohort_prentice_df, entry_col = \"start_time\", duration_col = \"duration\",event_col = \"event\",weights_col = \"weight\",robust = True)\n",
    "        \n",
    "        event_times = y_tr_test[\"duration\"]\n",
    "        event_observed = y_tr_test[\"event\"]\n",
    "        \n",
    "        X_tr_test_pca = pca.transform(X_tr_test)\n",
    "        \n",
    "        test_preds = cph2.predict_partial_hazard(X_tr_test_pca)\n",
    "        scores.append(weighted_concordance(event_times, test_preds, event_observed, 0.0011604684001529089/nfolds))\n",
    "        \n",
    "    cox_pca_scores.append(np.mean(scores))\n",
    " "
   ]
  },
  {
   "cell_type": "code",
   "execution_count": 12,
   "id": "aa3fd250",
   "metadata": {
    "scrolled": true
   },
   "outputs": [
    {
     "name": "stdout",
     "output_type": "stream",
     "text": [
      "[0.5742394904049702, 0.5742394904049702, 0.5767327777083842, 0.6855417215160036, 0.6932580849543996, 0.6666264318150076, 0.6877038396705873, 0.7182255054707642, 0.6827780584723078, 0.7271178499096678, 0.706688040236104, 0.7273069039882879, 0.7122964381352087, 0.6890665934578935, 0.6774814586369974, 0.545404317118681, 0.6546348118006492, 0.6413076704313297, 0.726558762931978]\n",
      "Best variation percentage: [0.55]\n"
     ]
    }
   ],
   "source": [
    "print(cox_pca_scores)\n",
    "print(\"Best variation percentage:\",np.where(cox_pca_scores == np.max(cox_pca_scores))[0]/20)"
   ]
  },
  {
   "cell_type": "markdown",
   "id": "a484672d",
   "metadata": {},
   "source": [
    "Fitting final model:"
   ]
  },
  {
   "cell_type": "code",
   "execution_count": 25,
   "id": "dee5de03",
   "metadata": {},
   "outputs": [],
   "source": [
    "pca = PCA(n_components = 0.55)\n",
    "X_tr_pca = pd.DataFrame(pca.fit_transform(X_tr))\n",
    "X_tr_pca.index = X_tr.index"
   ]
  },
  {
   "cell_type": "code",
   "execution_count": 26,
   "id": "55a212a7",
   "metadata": {},
   "outputs": [],
   "source": [
    "pickle.dump(pca, open('prentice_cox_pca_wc.pkl', 'wb'))"
   ]
  },
  {
   "cell_type": "code",
   "execution_count": 27,
   "id": "583dc7e7",
   "metadata": {},
   "outputs": [
    {
     "data": {
      "text/plain": [
       "<lifelines.CoxPHFitter: fitted with 1190 total observations, 595 right-censored observations>"
      ]
     },
     "execution_count": 27,
     "metadata": {},
     "output_type": "execute_result"
    }
   ],
   "source": [
    "# creating a case dataframe\n",
    "cases_prentice_df = X_tr_pca.join(y_tr).query(\"subcohort == False\")\n",
    "\n",
    "cases_prentice_df = cases_prentice_df.assign(\n",
    "    # setting events outside subcohort to start just before they occur\n",
    "    start_time = lambda df: df[\"duration\"] - 0.001,\n",
    "    # adding appropriate weight\n",
    "    weight = 1,\n",
    "    subcohort = False\n",
    ")\n",
    "\n",
    "# creating a subcohort dataframe\n",
    "subcohort_prentice_df = X_tr_pca.join(y_tr).query(\"subcohort == True\")\n",
    "\n",
    "\n",
    "subcohort_prentice_df = subcohort_prentice_df.assign(\n",
    "        # if it is a case, the weight should be the same as the subcohort until close to the time of the event. \n",
    "        duration = lambda df: np.where(df[\"event\"], df[\"duration\"] - 0.001, df[\"duration\"]), \n",
    "        # the events start from the origin\n",
    "        start_time = 0, \n",
    "        event = False,\n",
    "        weight = 1,\n",
    "        subcohort = True\n",
    "    )\n",
    "\n",
    "case_subcohort_prentice_df = pd.concat([cases_prentice_df,subcohort_prentice_df]).drop(columns = \"subcohort\")\n",
    "\n",
    "cph2 = CoxPHFitter()\n",
    "cph2.fit(case_subcohort_prentice_df, entry_col = \"start_time\", duration_col = \"duration\",event_col = \"event\",weights_col = \"weight\",robust = True)"
   ]
  },
  {
   "cell_type": "code",
   "execution_count": 28,
   "id": "ccaf8c4e",
   "metadata": {},
   "outputs": [],
   "source": [
    "pickle.dump(cph2, open('prentice_cox_wc.pkl', 'wb'))"
   ]
  }
 ],
 "metadata": {
  "kernelspec": {
   "display_name": "Python 3",
   "language": "python",
   "name": "python3"
  },
  "language_info": {
   "codemirror_mode": {
    "name": "ipython",
    "version": 3
   },
   "file_extension": ".py",
   "mimetype": "text/x-python",
   "name": "python",
   "nbconvert_exporter": "python",
   "pygments_lexer": "ipython3",
   "version": "3.8.8"
  }
 },
 "nbformat": 4,
 "nbformat_minor": 5
}

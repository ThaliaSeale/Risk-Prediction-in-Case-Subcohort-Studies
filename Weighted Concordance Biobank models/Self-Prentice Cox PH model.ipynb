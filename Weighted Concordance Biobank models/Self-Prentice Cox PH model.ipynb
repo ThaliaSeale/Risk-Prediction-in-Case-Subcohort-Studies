{
 "cells": [
  {
   "cell_type": "markdown",
   "id": "e1288b58",
   "metadata": {},
   "source": [
    "# Self-Prentice Cox PH model with PCA\n",
    "Fitting Cox PH model with Self-Prentice weights."
   ]
  },
  {
   "cell_type": "code",
   "execution_count": 1,
   "id": "29318ac0",
   "metadata": {},
   "outputs": [],
   "source": [
    "import numpy as np\n",
    "import pandas as pd\n",
    "from datetime import datetime\n",
    "\n",
    "import pickle\n",
    "from weighted_concordance import *"
   ]
  },
  {
   "cell_type": "code",
   "execution_count": 2,
   "id": "ff18f6b0",
   "metadata": {},
   "outputs": [],
   "source": [
    "# pd.set_option('display.max_columns', None,'display.max_rows',20)"
   ]
  },
  {
   "cell_type": "code",
   "execution_count": 3,
   "id": "e69f69e4",
   "metadata": {},
   "outputs": [],
   "source": [
    "from lifelines import CoxPHFitter\n",
    "from lifelines.utils import datetimes_to_durations"
   ]
  },
  {
   "cell_type": "code",
   "execution_count": 4,
   "id": "1517ecb7",
   "metadata": {},
   "outputs": [],
   "source": [
    "# importing data\n",
    "X_tr = pd.read_csv(\"D:/compiled_data/X_tr.csv\").set_index(\"csid\")\n",
    "\n",
    "y = pd.read_csv(\"D:/compiled_data/y.csv\").set_index(\"csid\")"
   ]
  },
  {
   "cell_type": "markdown",
   "id": "d38ca2a4-3ba2-4598-bc5e-d5c092d9fc5c",
   "metadata": {},
   "source": [
    "Converting date-times from strings to datetime format."
   ]
  },
  {
   "cell_type": "code",
   "execution_count": 5,
   "id": "ebafa040",
   "metadata": {},
   "outputs": [],
   "source": [
    "def date_time_conversion(date):\n",
    "    return(datetime.strptime(date,\"%Y-%m-%dT%H:%M:%SZ\"))"
   ]
  },
  {
   "cell_type": "code",
   "execution_count": 6,
   "id": "defacbf0",
   "metadata": {
    "scrolled": true
   },
   "outputs": [],
   "source": [
    "# Coverting the times into datetime format\n",
    "y_tr = y.assign(\n",
    "    event = y.ep_CKB0020_combined_ep,\n",
    "    start_time = y.study_date.map(date_time_conversion),\n",
    "    event_time = y.ep_CKB0020_combined_datedeveloped.map(date_time_conversion)\n",
    ").drop(columns = y.columns)\n",
    "y_tr[\"duration\"] = datetimes_to_durations(y_tr[\"start_time\"],y_tr[\"event_time\"])[0]\n",
    "y_tr[\"subcohort\"] = y[\"subcohort\"]\n",
    "y_tr = y_tr.drop(columns = [\"start_time\",\"event_time\"])"
   ]
  },
  {
   "cell_type": "markdown",
   "id": "507b015a",
   "metadata": {},
   "source": [
    "## Fitting Model"
   ]
  },
  {
   "cell_type": "markdown",
   "id": "41b931be-2f40-4497-8e28-3ba4c94f4951",
   "metadata": {},
   "source": [
    "Convergence fails if model naively applied to the data."
   ]
  },
  {
   "cell_type": "code",
   "execution_count": 7,
   "id": "2fefe05d-fb7f-4536-8620-e61840993f5c",
   "metadata": {},
   "outputs": [
    {
     "name": "stderr",
     "output_type": "stream",
     "text": [
      "C:\\Users\\thali\\anaconda3\\lib\\site-packages\\lifelines\\utils\\__init__.py:1123: ConvergenceWarning: Column cancer_site_1.0 have very low variance when conditioned on death event present or not. This may harm convergence. This could be a form of 'complete separation'. For example, try the following code:\n",
      "\n",
      ">>> events = df['event'].astype(bool)\n",
      ">>> print(df.loc[events, 'cancer_site_1.0'].var())\n",
      ">>> print(df.loc[~events, 'cancer_site_1.0'].var())\n",
      "\n",
      "A very low variance means that the column cancer_site_1.0 completely determines whether a subject dies or not. See https://stats.stackexchange.com/questions/11109/how-to-deal-with-perfect-separation-in-logistic-regression.\n",
      "\n",
      "  warnings.warn(dedent(warning_text), ConvergenceWarning)\n"
     ]
    },
    {
     "ename": "ConvergenceError",
     "evalue": "Convergence halted due to matrix inversion problems. Suspicion is high collinearity. Please see the following tips in the lifelines documentation: https://lifelines.readthedocs.io/en/latest/Examples.html#problems-with-convergence-in-the-cox-proportional-hazard-modelMatrix is singular.",
     "output_type": "error",
     "traceback": [
      "\u001b[1;31m---------------------------------------------------------------------------\u001b[0m",
      "\u001b[1;31mLinAlgError\u001b[0m                               Traceback (most recent call last)",
      "\u001b[1;32m~\\anaconda3\\lib\\site-packages\\lifelines\\fitters\\coxph_fitter.py\u001b[0m in \u001b[0;36m_newton_rhapson_for_efron_model\u001b[1;34m(self, X, T, E, weights, entries, initial_point, show_progress, step_size, precision, max_steps)\u001b[0m\n\u001b[0;32m   1525\u001b[0m             \u001b[1;32mtry\u001b[0m\u001b[1;33m:\u001b[0m\u001b[1;33m\u001b[0m\u001b[1;33m\u001b[0m\u001b[0m\n\u001b[1;32m-> 1526\u001b[1;33m                 \u001b[0minv_h_dot_g_T\u001b[0m \u001b[1;33m=\u001b[0m \u001b[0mspsolve\u001b[0m\u001b[1;33m(\u001b[0m\u001b[1;33m-\u001b[0m\u001b[0mh\u001b[0m\u001b[1;33m,\u001b[0m \u001b[0mg\u001b[0m\u001b[1;33m,\u001b[0m \u001b[0massume_a\u001b[0m\u001b[1;33m=\u001b[0m\u001b[1;34m\"pos\"\u001b[0m\u001b[1;33m,\u001b[0m \u001b[0mcheck_finite\u001b[0m\u001b[1;33m=\u001b[0m\u001b[1;32mFalse\u001b[0m\u001b[1;33m)\u001b[0m\u001b[1;33m\u001b[0m\u001b[1;33m\u001b[0m\u001b[0m\n\u001b[0m\u001b[0;32m   1527\u001b[0m             \u001b[1;32mexcept\u001b[0m \u001b[1;33m(\u001b[0m\u001b[0mValueError\u001b[0m\u001b[1;33m,\u001b[0m \u001b[0mLinAlgError\u001b[0m\u001b[1;33m)\u001b[0m \u001b[1;32mas\u001b[0m \u001b[0me\u001b[0m\u001b[1;33m:\u001b[0m\u001b[1;33m\u001b[0m\u001b[1;33m\u001b[0m\u001b[0m\n",
      "\u001b[1;32m~\\anaconda3\\lib\\site-packages\\scipy\\linalg\\basic.py\u001b[0m in \u001b[0;36msolve\u001b[1;34m(a, b, sym_pos, lower, overwrite_a, overwrite_b, debug, check_finite, assume_a, transposed)\u001b[0m\n\u001b[0;32m    247\u001b[0m                            overwrite_b=overwrite_b)\n\u001b[1;32m--> 248\u001b[1;33m         \u001b[0m_solve_check\u001b[0m\u001b[1;33m(\u001b[0m\u001b[0mn\u001b[0m\u001b[1;33m,\u001b[0m \u001b[0minfo\u001b[0m\u001b[1;33m)\u001b[0m\u001b[1;33m\u001b[0m\u001b[1;33m\u001b[0m\u001b[0m\n\u001b[0m\u001b[0;32m    249\u001b[0m         \u001b[0mrcond\u001b[0m\u001b[1;33m,\u001b[0m \u001b[0minfo\u001b[0m \u001b[1;33m=\u001b[0m \u001b[0mpocon\u001b[0m\u001b[1;33m(\u001b[0m\u001b[0mlu\u001b[0m\u001b[1;33m,\u001b[0m \u001b[0manorm\u001b[0m\u001b[1;33m)\u001b[0m\u001b[1;33m\u001b[0m\u001b[1;33m\u001b[0m\u001b[0m\n",
      "\u001b[1;32m~\\anaconda3\\lib\\site-packages\\scipy\\linalg\\basic.py\u001b[0m in \u001b[0;36m_solve_check\u001b[1;34m(n, info, lamch, rcond)\u001b[0m\n\u001b[0;32m     28\u001b[0m     \u001b[1;32melif\u001b[0m \u001b[1;36m0\u001b[0m \u001b[1;33m<\u001b[0m \u001b[0minfo\u001b[0m\u001b[1;33m:\u001b[0m\u001b[1;33m\u001b[0m\u001b[1;33m\u001b[0m\u001b[0m\n\u001b[1;32m---> 29\u001b[1;33m         \u001b[1;32mraise\u001b[0m \u001b[0mLinAlgError\u001b[0m\u001b[1;33m(\u001b[0m\u001b[1;34m'Matrix is singular.'\u001b[0m\u001b[1;33m)\u001b[0m\u001b[1;33m\u001b[0m\u001b[1;33m\u001b[0m\u001b[0m\n\u001b[0m\u001b[0;32m     30\u001b[0m \u001b[1;33m\u001b[0m\u001b[0m\n",
      "\u001b[1;31mLinAlgError\u001b[0m: Matrix is singular.",
      "\nDuring handling of the above exception, another exception occurred:\n",
      "\u001b[1;31mConvergenceError\u001b[0m                          Traceback (most recent call last)",
      "\u001b[1;32m<ipython-input-7-c8a23f04bf6f>\u001b[0m in \u001b[0;36m<module>\u001b[1;34m\u001b[0m\n\u001b[0;32m      8\u001b[0m \u001b[1;33m\u001b[0m\u001b[0m\n\u001b[0;32m      9\u001b[0m \u001b[0mcph3\u001b[0m \u001b[1;33m=\u001b[0m \u001b[0mCoxPHFitter\u001b[0m\u001b[1;33m(\u001b[0m\u001b[1;33m)\u001b[0m\u001b[1;33m\u001b[0m\u001b[1;33m\u001b[0m\u001b[0m\n\u001b[1;32m---> 10\u001b[1;33m \u001b[0mcph3\u001b[0m\u001b[1;33m.\u001b[0m\u001b[0mfit\u001b[0m\u001b[1;33m(\u001b[0m\u001b[0mcase_subcohort_selfprentice_df\u001b[0m\u001b[1;33m,\u001b[0m \u001b[0mduration_col\u001b[0m \u001b[1;33m=\u001b[0m \u001b[1;34m\"duration\"\u001b[0m\u001b[1;33m,\u001b[0m\u001b[0mevent_col\u001b[0m \u001b[1;33m=\u001b[0m \u001b[1;34m\"event\"\u001b[0m\u001b[1;33m,\u001b[0m\u001b[0mweights_col\u001b[0m \u001b[1;33m=\u001b[0m \u001b[1;34m\"weight\"\u001b[0m\u001b[1;33m,\u001b[0m\u001b[0mrobust\u001b[0m \u001b[1;33m=\u001b[0m \u001b[1;32mTrue\u001b[0m\u001b[1;33m)\u001b[0m\u001b[1;33m\u001b[0m\u001b[1;33m\u001b[0m\u001b[0m\n\u001b[0m",
      "\u001b[1;32m~\\anaconda3\\lib\\site-packages\\lifelines\\utils\\__init__.py\u001b[0m in \u001b[0;36mf\u001b[1;34m(model, *args, **kwargs)\u001b[0m\n\u001b[0;32m     54\u001b[0m         \u001b[1;32mdef\u001b[0m \u001b[0mf\u001b[0m\u001b[1;33m(\u001b[0m\u001b[0mmodel\u001b[0m\u001b[1;33m,\u001b[0m \u001b[1;33m*\u001b[0m\u001b[0margs\u001b[0m\u001b[1;33m,\u001b[0m \u001b[1;33m**\u001b[0m\u001b[0mkwargs\u001b[0m\u001b[1;33m)\u001b[0m\u001b[1;33m:\u001b[0m\u001b[1;33m\u001b[0m\u001b[1;33m\u001b[0m\u001b[0m\n\u001b[0;32m     55\u001b[0m             \u001b[0mcls\u001b[0m\u001b[1;33m.\u001b[0m\u001b[0mset_censoring_type\u001b[0m\u001b[1;33m(\u001b[0m\u001b[0mmodel\u001b[0m\u001b[1;33m,\u001b[0m \u001b[0mcls\u001b[0m\u001b[1;33m.\u001b[0m\u001b[0mRIGHT\u001b[0m\u001b[1;33m)\u001b[0m\u001b[1;33m\u001b[0m\u001b[1;33m\u001b[0m\u001b[0m\n\u001b[1;32m---> 56\u001b[1;33m             \u001b[1;32mreturn\u001b[0m \u001b[0mfunction\u001b[0m\u001b[1;33m(\u001b[0m\u001b[0mmodel\u001b[0m\u001b[1;33m,\u001b[0m \u001b[1;33m*\u001b[0m\u001b[0margs\u001b[0m\u001b[1;33m,\u001b[0m \u001b[1;33m**\u001b[0m\u001b[0mkwargs\u001b[0m\u001b[1;33m)\u001b[0m\u001b[1;33m\u001b[0m\u001b[1;33m\u001b[0m\u001b[0m\n\u001b[0m\u001b[0;32m     57\u001b[0m \u001b[1;33m\u001b[0m\u001b[0m\n\u001b[0;32m     58\u001b[0m         \u001b[1;32mreturn\u001b[0m \u001b[0mf\u001b[0m\u001b[1;33m\u001b[0m\u001b[1;33m\u001b[0m\u001b[0m\n",
      "\u001b[1;32m~\\anaconda3\\lib\\site-packages\\lifelines\\fitters\\coxph_fitter.py\u001b[0m in \u001b[0;36mfit\u001b[1;34m(self, df, duration_col, event_col, show_progress, initial_point, strata, weights_col, cluster_col, robust, batch_mode, timeline, formula, entry_col, fit_options)\u001b[0m\n\u001b[0;32m    288\u001b[0m         \"\"\"\n\u001b[0;32m    289\u001b[0m         \u001b[0mself\u001b[0m\u001b[1;33m.\u001b[0m\u001b[0mstrata\u001b[0m \u001b[1;33m=\u001b[0m \u001b[0mutils\u001b[0m\u001b[1;33m.\u001b[0m\u001b[0mcoalesce\u001b[0m\u001b[1;33m(\u001b[0m\u001b[0mstrata\u001b[0m\u001b[1;33m,\u001b[0m \u001b[0mself\u001b[0m\u001b[1;33m.\u001b[0m\u001b[0mstrata\u001b[0m\u001b[1;33m)\u001b[0m\u001b[1;33m\u001b[0m\u001b[1;33m\u001b[0m\u001b[0m\n\u001b[1;32m--> 290\u001b[1;33m         self._model = self._fit_model(\n\u001b[0m\u001b[0;32m    291\u001b[0m             \u001b[0mdf\u001b[0m\u001b[1;33m,\u001b[0m\u001b[1;33m\u001b[0m\u001b[1;33m\u001b[0m\u001b[0m\n\u001b[0;32m    292\u001b[0m             \u001b[0mduration_col\u001b[0m\u001b[1;33m,\u001b[0m\u001b[1;33m\u001b[0m\u001b[1;33m\u001b[0m\u001b[0m\n",
      "\u001b[1;32m~\\anaconda3\\lib\\site-packages\\lifelines\\fitters\\coxph_fitter.py\u001b[0m in \u001b[0;36m_fit_model\u001b[1;34m(self, *args, **kwargs)\u001b[0m\n\u001b[0;32m    608\u001b[0m     \u001b[1;32mdef\u001b[0m \u001b[0m_fit_model\u001b[0m\u001b[1;33m(\u001b[0m\u001b[0mself\u001b[0m\u001b[1;33m,\u001b[0m \u001b[1;33m*\u001b[0m\u001b[0margs\u001b[0m\u001b[1;33m,\u001b[0m \u001b[1;33m**\u001b[0m\u001b[0mkwargs\u001b[0m\u001b[1;33m)\u001b[0m\u001b[1;33m:\u001b[0m\u001b[1;33m\u001b[0m\u001b[1;33m\u001b[0m\u001b[0m\n\u001b[0;32m    609\u001b[0m         \u001b[1;32mif\u001b[0m \u001b[0mself\u001b[0m\u001b[1;33m.\u001b[0m\u001b[0mbaseline_estimation_method\u001b[0m \u001b[1;33m==\u001b[0m \u001b[1;34m\"breslow\"\u001b[0m\u001b[1;33m:\u001b[0m\u001b[1;33m\u001b[0m\u001b[1;33m\u001b[0m\u001b[0m\n\u001b[1;32m--> 610\u001b[1;33m             \u001b[1;32mreturn\u001b[0m \u001b[0mself\u001b[0m\u001b[1;33m.\u001b[0m\u001b[0m_fit_model_breslow\u001b[0m\u001b[1;33m(\u001b[0m\u001b[1;33m*\u001b[0m\u001b[0margs\u001b[0m\u001b[1;33m,\u001b[0m \u001b[1;33m**\u001b[0m\u001b[0mkwargs\u001b[0m\u001b[1;33m)\u001b[0m\u001b[1;33m\u001b[0m\u001b[1;33m\u001b[0m\u001b[0m\n\u001b[0m\u001b[0;32m    611\u001b[0m         \u001b[1;32melif\u001b[0m \u001b[0mself\u001b[0m\u001b[1;33m.\u001b[0m\u001b[0mbaseline_estimation_method\u001b[0m \u001b[1;33m==\u001b[0m \u001b[1;34m\"spline\"\u001b[0m\u001b[1;33m:\u001b[0m\u001b[1;33m\u001b[0m\u001b[1;33m\u001b[0m\u001b[0m\n\u001b[0;32m    612\u001b[0m             \u001b[1;32mreturn\u001b[0m \u001b[0mself\u001b[0m\u001b[1;33m.\u001b[0m\u001b[0m_fit_model_spline\u001b[0m\u001b[1;33m(\u001b[0m\u001b[1;33m*\u001b[0m\u001b[0margs\u001b[0m\u001b[1;33m,\u001b[0m \u001b[1;33m**\u001b[0m\u001b[0mkwargs\u001b[0m\u001b[1;33m)\u001b[0m\u001b[1;33m\u001b[0m\u001b[1;33m\u001b[0m\u001b[0m\n",
      "\u001b[1;32m~\\anaconda3\\lib\\site-packages\\lifelines\\fitters\\coxph_fitter.py\u001b[0m in \u001b[0;36m_fit_model_breslow\u001b[1;34m(self, *args, **kwargs)\u001b[0m\n\u001b[0;32m    621\u001b[0m         )\n\u001b[0;32m    622\u001b[0m         \u001b[1;32mif\u001b[0m \u001b[0mutils\u001b[0m\u001b[1;33m.\u001b[0m\u001b[0mCensoringType\u001b[0m\u001b[1;33m.\u001b[0m\u001b[0mis_right_censoring\u001b[0m\u001b[1;33m(\u001b[0m\u001b[0mself\u001b[0m\u001b[1;33m)\u001b[0m\u001b[1;33m:\u001b[0m\u001b[1;33m\u001b[0m\u001b[1;33m\u001b[0m\u001b[0m\n\u001b[1;32m--> 623\u001b[1;33m             \u001b[0mmodel\u001b[0m\u001b[1;33m.\u001b[0m\u001b[0mfit\u001b[0m\u001b[1;33m(\u001b[0m\u001b[1;33m*\u001b[0m\u001b[0margs\u001b[0m\u001b[1;33m,\u001b[0m \u001b[1;33m**\u001b[0m\u001b[0mkwargs\u001b[0m\u001b[1;33m)\u001b[0m\u001b[1;33m\u001b[0m\u001b[1;33m\u001b[0m\u001b[0m\n\u001b[0m\u001b[0;32m    624\u001b[0m             \u001b[1;32mreturn\u001b[0m \u001b[0mmodel\u001b[0m\u001b[1;33m\u001b[0m\u001b[1;33m\u001b[0m\u001b[0m\n\u001b[0;32m    625\u001b[0m         \u001b[1;32melse\u001b[0m\u001b[1;33m:\u001b[0m\u001b[1;33m\u001b[0m\u001b[1;33m\u001b[0m\u001b[0m\n",
      "\u001b[1;32m~\\anaconda3\\lib\\site-packages\\lifelines\\utils\\__init__.py\u001b[0m in \u001b[0;36mf\u001b[1;34m(model, *args, **kwargs)\u001b[0m\n\u001b[0;32m     54\u001b[0m         \u001b[1;32mdef\u001b[0m \u001b[0mf\u001b[0m\u001b[1;33m(\u001b[0m\u001b[0mmodel\u001b[0m\u001b[1;33m,\u001b[0m \u001b[1;33m*\u001b[0m\u001b[0margs\u001b[0m\u001b[1;33m,\u001b[0m \u001b[1;33m**\u001b[0m\u001b[0mkwargs\u001b[0m\u001b[1;33m)\u001b[0m\u001b[1;33m:\u001b[0m\u001b[1;33m\u001b[0m\u001b[1;33m\u001b[0m\u001b[0m\n\u001b[0;32m     55\u001b[0m             \u001b[0mcls\u001b[0m\u001b[1;33m.\u001b[0m\u001b[0mset_censoring_type\u001b[0m\u001b[1;33m(\u001b[0m\u001b[0mmodel\u001b[0m\u001b[1;33m,\u001b[0m \u001b[0mcls\u001b[0m\u001b[1;33m.\u001b[0m\u001b[0mRIGHT\u001b[0m\u001b[1;33m)\u001b[0m\u001b[1;33m\u001b[0m\u001b[1;33m\u001b[0m\u001b[0m\n\u001b[1;32m---> 56\u001b[1;33m             \u001b[1;32mreturn\u001b[0m \u001b[0mfunction\u001b[0m\u001b[1;33m(\u001b[0m\u001b[0mmodel\u001b[0m\u001b[1;33m,\u001b[0m \u001b[1;33m*\u001b[0m\u001b[0margs\u001b[0m\u001b[1;33m,\u001b[0m \u001b[1;33m**\u001b[0m\u001b[0mkwargs\u001b[0m\u001b[1;33m)\u001b[0m\u001b[1;33m\u001b[0m\u001b[1;33m\u001b[0m\u001b[0m\n\u001b[0m\u001b[0;32m     57\u001b[0m \u001b[1;33m\u001b[0m\u001b[0m\n\u001b[0;32m     58\u001b[0m         \u001b[1;32mreturn\u001b[0m \u001b[0mf\u001b[0m\u001b[1;33m\u001b[0m\u001b[1;33m\u001b[0m\u001b[0m\n",
      "\u001b[1;32m~\\anaconda3\\lib\\site-packages\\lifelines\\fitters\\coxph_fitter.py\u001b[0m in \u001b[0;36mfit\u001b[1;34m(self, df, duration_col, event_col, show_progress, initial_point, strata, weights_col, cluster_col, robust, batch_mode, timeline, formula, entry_col, fit_options)\u001b[0m\n\u001b[0;32m   1250\u001b[0m         )\n\u001b[0;32m   1251\u001b[0m \u001b[1;33m\u001b[0m\u001b[0m\n\u001b[1;32m-> 1252\u001b[1;33m         params_, ll_, variance_matrix_, baseline_hazard_, baseline_cumulative_hazard_, model = self._fit_model(\n\u001b[0m\u001b[0;32m   1253\u001b[0m             \u001b[0mX_norm\u001b[0m\u001b[1;33m,\u001b[0m\u001b[1;33m\u001b[0m\u001b[1;33m\u001b[0m\u001b[0m\n\u001b[0;32m   1254\u001b[0m             \u001b[0mT\u001b[0m\u001b[1;33m,\u001b[0m\u001b[1;33m\u001b[0m\u001b[1;33m\u001b[0m\u001b[0m\n",
      "\u001b[1;32m~\\anaconda3\\lib\\site-packages\\lifelines\\fitters\\coxph_fitter.py\u001b[0m in \u001b[0;36m_fit_model\u001b[1;34m(self, X, T, E, weights, entries, fit_options, initial_point, show_progress)\u001b[0m\n\u001b[0;32m   1378\u001b[0m         \u001b[0mshow_progress\u001b[0m\u001b[1;33m:\u001b[0m \u001b[0mbool\u001b[0m \u001b[1;33m=\u001b[0m \u001b[1;32mTrue\u001b[0m\u001b[1;33m,\u001b[0m\u001b[1;33m\u001b[0m\u001b[1;33m\u001b[0m\u001b[0m\n\u001b[0;32m   1379\u001b[0m     ):\n\u001b[1;32m-> 1380\u001b[1;33m         beta_, ll_, hessian_ = self._newton_rhapson_for_efron_model(\n\u001b[0m\u001b[0;32m   1381\u001b[0m             \u001b[0mX\u001b[0m\u001b[1;33m,\u001b[0m\u001b[1;33m\u001b[0m\u001b[1;33m\u001b[0m\u001b[0m\n\u001b[0;32m   1382\u001b[0m             \u001b[0mT\u001b[0m\u001b[1;33m,\u001b[0m\u001b[1;33m\u001b[0m\u001b[1;33m\u001b[0m\u001b[0m\n",
      "\u001b[1;32m~\\anaconda3\\lib\\site-packages\\lifelines\\fitters\\coxph_fitter.py\u001b[0m in \u001b[0;36m_newton_rhapson_for_efron_model\u001b[1;34m(self, X, T, E, weights, entries, initial_point, show_progress, step_size, precision, max_steps)\u001b[0m\n\u001b[0;32m   1533\u001b[0m                     )\n\u001b[0;32m   1534\u001b[0m                 \u001b[1;32melif\u001b[0m \u001b[0misinstance\u001b[0m\u001b[1;33m(\u001b[0m\u001b[0me\u001b[0m\u001b[1;33m,\u001b[0m \u001b[0mLinAlgError\u001b[0m\u001b[1;33m)\u001b[0m\u001b[1;33m:\u001b[0m\u001b[1;33m\u001b[0m\u001b[1;33m\u001b[0m\u001b[0m\n\u001b[1;32m-> 1535\u001b[1;33m                     raise exceptions.ConvergenceError(\n\u001b[0m\u001b[0;32m   1536\u001b[0m                         \"\"\"Convergence halted due to matrix inversion problems. Suspicion is high collinearity. {0}\"\"\".format(\n\u001b[0;32m   1537\u001b[0m                             \u001b[0mCONVERGENCE_DOCS\u001b[0m\u001b[1;33m\u001b[0m\u001b[1;33m\u001b[0m\u001b[0m\n",
      "\u001b[1;31mConvergenceError\u001b[0m: Convergence halted due to matrix inversion problems. Suspicion is high collinearity. Please see the following tips in the lifelines documentation: https://lifelines.readthedocs.io/en/latest/Examples.html#problems-with-convergence-in-the-cox-proportional-hazard-modelMatrix is singular."
     ]
    }
   ],
   "source": [
    "# creating a case-subcohort dataframe\n",
    "case_subcohort_selfprentice_df = X_tr.join(y_tr)\n",
    "\n",
    "case_subcohort_selfprentice_df[\"weight\"] = np.where(case_subcohort_selfprentice_df[\"subcohort\"],1,0.001)\n",
    "\n",
    "case_subcohort_selfprentice_df = case_subcohort_selfprentice_df.drop(columns = \"subcohort\")\n",
    "\n",
    "\n",
    "cph3 = CoxPHFitter()\n",
    "cph3.fit(case_subcohort_selfprentice_df, duration_col = \"duration\",event_col = \"event\",weights_col = \"weight\",robust = True)"
   ]
  },
  {
   "cell_type": "markdown",
   "id": "281b1628-0c97-45f9-8da5-0fbc08ceb51c",
   "metadata": {},
   "source": [
    "We use PCA to reduce dimension to remedy convergence issues. Number of components will be selected by cross-validation:"
   ]
  },
  {
   "cell_type": "code",
   "execution_count": 12,
   "id": "967ec19e",
   "metadata": {},
   "outputs": [],
   "source": [
    "from sklearn.decomposition import PCA\n",
    "from lifelines.utils import k_fold_cross_validation, concordance_index\n",
    "from sklearn.model_selection import KFold"
   ]
  },
  {
   "cell_type": "markdown",
   "id": "8bd23814-c103-4306-ae8c-4a4790aaf134",
   "metadata": {},
   "source": [
    "More detailed annotation for cross validation code can be found in \"Unweighted Cox PH with PCA\" file"
   ]
  },
  {
   "cell_type": "code",
   "execution_count": 13,
   "id": "1dc7215e",
   "metadata": {},
   "outputs": [
    {
     "name": "stdout",
     "output_type": "stream",
     "text": [
      "1\n",
      "2\n",
      "3\n",
      "4\n",
      "5\n",
      "6\n",
      "7\n",
      "8\n",
      "9\n",
      "10\n",
      "11\n",
      "12\n",
      "13\n"
     ]
    },
    {
     "name": "stderr",
     "output_type": "stream",
     "text": [
      "C:/Users/thseale/Documents/Python Packages\\lifelines\\fitters\\coxph_fitter.py:1610: ConvergenceWarning: Newton-Rhaphson failed to converge sufficiently. Please see the following tips in the lifelines documentation: https://lifelines.readthedocs.io/en/latest/Examples.html#problems-with-convergence-in-the-cox-proportional-hazard-model\n",
      "  warnings.warn(\n"
     ]
    },
    {
     "name": "stdout",
     "output_type": "stream",
     "text": [
      "14\n"
     ]
    },
    {
     "name": "stderr",
     "output_type": "stream",
     "text": [
      "C:/Users/thseale/Documents/Python Packages\\lifelines\\fitters\\coxph_fitter.py:1675: RuntimeWarning: overflow encountered in exp\n",
      "  scores = weights * exp(dot(X, beta))\n",
      "C:/Users/thseale/Documents/Python Packages\\lifelines\\fitters\\coxph_fitter.py:1696: RuntimeWarning: invalid value encountered in add\n",
      "  risk_phi_x = risk_phi_x + phi_x_i\n",
      "C:/Users/thseale/Documents/Python Packages\\lifelines\\fitters\\coxph_fitter.py:1697: RuntimeWarning: invalid value encountered in add\n",
      "  risk_phi_x_x = risk_phi_x_x + phi_x_x_i\n",
      "C:/Users/thseale/Documents/Python Packages\\lifelines\\fitters\\coxph_fitter.py:1729: RuntimeWarning: invalid value encountered in multiply\n",
      "  a1 = risk_phi_x_x * denom\n",
      "C:/Users/thseale/Documents/Python Packages\\lifelines\\fitters\\coxph_fitter.py:1736: RuntimeWarning: divide by zero encountered in log\n",
      "  log_lik = log_lik + dot(x_death_sum, beta) + weighted_average * log(denom).sum()\n",
      "C:/Users/thseale/Documents/Python Packages\\lifelines\\fitters\\coxph_fitter.py:1703: RuntimeWarning: invalid value encountered in add\n",
      "  tie_phi_x = tie_phi_x + phi_x_i\n",
      "C:/Users/thseale/Documents/Python Packages\\lifelines\\fitters\\coxph_fitter.py:1704: RuntimeWarning: invalid value encountered in add\n",
      "  tie_phi_x_x = tie_phi_x_x + phi_x_x_i\n",
      "C:/Users/thseale/Documents/Python Packages\\lifelines\\fitters\\coxph_fitter.py:1723: RuntimeWarning: invalid value encountered in multiply\n",
      "  denom = 1.0 / (risk_phi - increasing_proportion * tie_phi)\n",
      "C:/Users/thseale/Documents/Python Packages\\lifelines\\fitters\\coxph_fitter.py:1723: RuntimeWarning: invalid value encountered in subtract\n",
      "  denom = 1.0 / (risk_phi - increasing_proportion * tie_phi)\n",
      "C:/Users/thseale/Documents/Python Packages\\lifelines\\fitters\\coxph_fitter.py:1724: RuntimeWarning: invalid value encountered in multiply\n",
      "  numer = risk_phi_x - multiply.outer(increasing_proportion, tie_phi_x)\n"
     ]
    },
    {
     "name": "stdout",
     "output_type": "stream",
     "text": [
      "15\n",
      "16\n",
      "17\n",
      "18\n"
     ]
    },
    {
     "name": "stderr",
     "output_type": "stream",
     "text": [
      "C:/Users/thseale/Documents/Python Packages\\lifelines\\fitters\\coxph_fitter.py:1610: ConvergenceWarning: Newton-Rhaphson failed to converge sufficiently. Please see the following tips in the lifelines documentation: https://lifelines.readthedocs.io/en/latest/Examples.html#problems-with-convergence-in-the-cox-proportional-hazard-model\n",
      "  warnings.warn(\n"
     ]
    },
    {
     "name": "stdout",
     "output_type": "stream",
     "text": [
      "19\n"
     ]
    },
    {
     "name": "stderr",
     "output_type": "stream",
     "text": [
      "C:/Users/thseale/Documents/Python Packages\\lifelines\\fitters\\coxph_fitter.py:1675: RuntimeWarning: overflow encountered in exp\n",
      "  scores = weights * exp(dot(X, beta))\n",
      "C:/Users/thseale/Documents/Python Packages\\lifelines\\fitters\\coxph_fitter.py:1696: RuntimeWarning: invalid value encountered in add\n",
      "  risk_phi_x = risk_phi_x + phi_x_i\n",
      "C:/Users/thseale/Documents/Python Packages\\lifelines\\fitters\\coxph_fitter.py:1697: RuntimeWarning: invalid value encountered in add\n",
      "  risk_phi_x_x = risk_phi_x_x + phi_x_x_i\n",
      "C:/Users/thseale/Documents/Python Packages\\lifelines\\fitters\\coxph_fitter.py:1729: RuntimeWarning: invalid value encountered in multiply\n",
      "  a1 = risk_phi_x_x * denom\n",
      "C:/Users/thseale/Documents/Python Packages\\lifelines\\fitters\\coxph_fitter.py:1736: RuntimeWarning: divide by zero encountered in log\n",
      "  log_lik = log_lik + dot(x_death_sum, beta) + weighted_average * log(denom).sum()\n",
      "C:/Users/thseale/Documents/Python Packages\\lifelines\\fitters\\coxph_fitter.py:1723: RuntimeWarning: invalid value encountered in multiply\n",
      "  denom = 1.0 / (risk_phi - increasing_proportion * tie_phi)\n",
      "C:/Users/thseale/Documents/Python Packages\\lifelines\\fitters\\coxph_fitter.py:1723: RuntimeWarning: invalid value encountered in subtract\n",
      "  denom = 1.0 / (risk_phi - increasing_proportion * tie_phi)\n",
      "C:/Users/thseale/Documents/Python Packages\\lifelines\\fitters\\coxph_fitter.py:1724: RuntimeWarning: invalid value encountered in multiply\n",
      "  numer = risk_phi_x - multiply.outer(increasing_proportion, tie_phi_x)\n",
      "C:/Users/thseale/Documents/Python Packages\\lifelines\\fitters\\coxph_fitter.py:1675: RuntimeWarning: overflow encountered in exp\n",
      "  scores = weights * exp(dot(X, beta))\n",
      "C:/Users/thseale/Documents/Python Packages\\lifelines\\fitters\\coxph_fitter.py:1696: RuntimeWarning: invalid value encountered in add\n",
      "  risk_phi_x = risk_phi_x + phi_x_i\n",
      "C:/Users/thseale/Documents/Python Packages\\lifelines\\fitters\\coxph_fitter.py:1697: RuntimeWarning: invalid value encountered in add\n",
      "  risk_phi_x_x = risk_phi_x_x + phi_x_x_i\n",
      "C:/Users/thseale/Documents/Python Packages\\lifelines\\fitters\\coxph_fitter.py:1729: RuntimeWarning: invalid value encountered in multiply\n",
      "  a1 = risk_phi_x_x * denom\n",
      "C:/Users/thseale/Documents/Python Packages\\lifelines\\fitters\\coxph_fitter.py:1736: RuntimeWarning: divide by zero encountered in log\n",
      "  log_lik = log_lik + dot(x_death_sum, beta) + weighted_average * log(denom).sum()\n",
      "C:/Users/thseale/Documents/Python Packages\\lifelines\\fitters\\coxph_fitter.py:1723: RuntimeWarning: invalid value encountered in multiply\n",
      "  denom = 1.0 / (risk_phi - increasing_proportion * tie_phi)\n",
      "C:/Users/thseale/Documents/Python Packages\\lifelines\\fitters\\coxph_fitter.py:1723: RuntimeWarning: invalid value encountered in subtract\n",
      "  denom = 1.0 / (risk_phi - increasing_proportion * tie_phi)\n",
      "C:/Users/thseale/Documents/Python Packages\\lifelines\\fitters\\coxph_fitter.py:1724: RuntimeWarning: invalid value encountered in multiply\n",
      "  numer = risk_phi_x - multiply.outer(increasing_proportion, tie_phi_x)\n",
      "C:/Users/thseale/Documents/Python Packages\\lifelines\\fitters\\coxph_fitter.py:1703: RuntimeWarning: invalid value encountered in add\n",
      "  tie_phi_x = tie_phi_x + phi_x_i\n",
      "C:/Users/thseale/Documents/Python Packages\\lifelines\\fitters\\coxph_fitter.py:1704: RuntimeWarning: invalid value encountered in add\n",
      "  tie_phi_x_x = tie_phi_x_x + phi_x_x_i\n"
     ]
    },
    {
     "name": "stdout",
     "output_type": "stream",
     "text": [
      "[0.5742394904049702, 0.5742394904049702, 0.5726156571355673, 0.6611702575381145, 0.6588693956692813, 0.6426794844711677, 0.6504995822370834, 0.6640186192020541, 0.6246213681830853, 0.671520531773793, 0.6802285057328051, 0.6839915425189198, 0.7271349422245156, 0.6699488657128445, 0.6608008722730141, 0.5349941857848938, 0.6166034094909597, 0.6076228569875614, 0.8556430446194226]\n",
      "Best variation percentage: [0.9]\n"
     ]
    }
   ],
   "source": [
    "cox_pca_scores = []\n",
    "nfolds = 3\n",
    "\n",
    "for i in range(1,20):\n",
    "    \n",
    "    print(i)\n",
    "    \n",
    "    kf = KFold(n_splits=nfolds)\n",
    "    kf.get_n_splits(X_tr)\n",
    "\n",
    "    scores = []\n",
    "    \n",
    "    for train_index, test_index in kf.split(X_tr):\n",
    "        X_tr_train, X_tr_test = X_tr.iloc[train_index], X_tr.iloc[test_index]\n",
    "        y_tr_train, y_tr_test = y_tr.iloc[train_index], y_tr.iloc[test_index]\n",
    "            \n",
    "        pca = PCA(n_components = i/20)\n",
    "        X_tr_train_pca = pd.DataFrame(pca.fit_transform(X_tr_train))\n",
    "        X_tr_train_pca.index = X_tr_train.index\n",
    "\n",
    "         # creating a case-subcohort dataframe\n",
    "        case_subcohort_selfprentice_df = X_tr_train_pca.join(y_tr_train)\n",
    "\n",
    "        case_subcohort_selfprentice_df[\"weight\"] = np.where(case_subcohort_selfprentice_df[\"subcohort\"],1,0.001)\n",
    "\n",
    "        case_subcohort_selfprentice_df = case_subcohort_selfprentice_df.drop(columns = \"subcohort\")\n",
    "\n",
    "        try:\n",
    "            cph3 = CoxPHFitter()\n",
    "            cph3.fit(case_subcohort_selfprentice_df, duration_col = \"duration\",event_col = \"event\",weights_col = \"weight\",robust = True)\n",
    "\n",
    "            event_times = y_tr_test[\"duration\"]\n",
    "            event_observed = y_tr_test[\"event\"]\n",
    "            \n",
    "            X_tr_pca_test = pca.transform(X_tr_test)\n",
    "\n",
    "            test_preds = cph3.predict_partial_hazard(X_tr_pca_test)\n",
    "            scores.append(weighted_concordance(event_times,test_preds, event_observed,0.0011604684001529089/nfolds))\n",
    "        except:\n",
    "            pass\n",
    "        \n",
    "    cox_pca_scores.append(np.mean(scores))\n",
    "    \n",
    "print(cox_pca_scores)\n",
    "print(\"Best variation percentage:\",np.where(cox_pca_scores == np.max(cox_pca_scores))[0]/20)"
   ]
  },
  {
   "cell_type": "markdown",
   "id": "4a594f0b",
   "metadata": {},
   "source": [
    "Fitting final model:"
   ]
  },
  {
   "cell_type": "code",
   "execution_count": 31,
   "id": "5463cb21",
   "metadata": {},
   "outputs": [],
   "source": [
    "pca = PCA(n_components = 0.895)\n",
    "X_tr_pca = pd.DataFrame(pca.fit_transform(X_tr))\n",
    "X_tr_pca.index = X_tr.index"
   ]
  },
  {
   "cell_type": "code",
   "execution_count": 32,
   "id": "b0b6596f",
   "metadata": {},
   "outputs": [],
   "source": [
    "pickle.dump(pca, open('selfprentice_cox_pca_wc.pkl', 'wb'))"
   ]
  },
  {
   "cell_type": "code",
   "execution_count": 33,
   "id": "2c4543c4",
   "metadata": {},
   "outputs": [
    {
     "data": {
      "text/plain": [
       "<lifelines.CoxPHFitter: fitted with 595.595 total observations, 593 right-censored observations>"
      ]
     },
     "execution_count": 33,
     "metadata": {},
     "output_type": "execute_result"
    }
   ],
   "source": [
    "# creating a case-subcohort dataframe\n",
    "case_subcohort_selfprentice_df = X_tr_pca.join(y_tr)\n",
    "\n",
    "case_subcohort_selfprentice_df[\"weight\"] = np.where(case_subcohort_selfprentice_df[\"subcohort\"],1,0.001)\n",
    "\n",
    "case_subcohort_selfprentice_df = case_subcohort_selfprentice_df.drop(columns = \"subcohort\")\n",
    "\n",
    "\n",
    "cph3 = CoxPHFitter()\n",
    "cph3.fit(case_subcohort_selfprentice_df, duration_col = \"duration\",event_col = \"event\",weights_col = \"weight\",robust = True)"
   ]
  },
  {
   "cell_type": "markdown",
   "id": "f12462e9",
   "metadata": {},
   "source": [
    "0.895 is the closest value that works."
   ]
  },
  {
   "cell_type": "code",
   "execution_count": 34,
   "id": "c206ad15",
   "metadata": {},
   "outputs": [],
   "source": [
    "pickle.dump(cph3, open('selfprentice_cox_wc.pkl', 'wb'))"
   ]
  }
 ],
 "metadata": {
  "kernelspec": {
   "display_name": "Python 3",
   "language": "python",
   "name": "python3"
  },
  "language_info": {
   "codemirror_mode": {
    "name": "ipython",
    "version": 3
   },
   "file_extension": ".py",
   "mimetype": "text/x-python",
   "name": "python",
   "nbconvert_exporter": "python",
   "pygments_lexer": "ipython3",
   "version": "3.8.8"
  }
 },
 "nbformat": 4,
 "nbformat_minor": 5
}

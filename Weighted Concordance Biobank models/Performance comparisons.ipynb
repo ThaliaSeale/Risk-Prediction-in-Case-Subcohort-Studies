{
 "cells": [
  {
   "cell_type": "markdown",
   "id": "68ca9048",
   "metadata": {},
   "source": [
    "# Performance comparisons"
   ]
  },
  {
   "cell_type": "code",
   "execution_count": 4,
   "id": "0835fc90",
   "metadata": {},
   "outputs": [],
   "source": [
    "import pandas as pd\n",
    "import numpy as np\n",
    "import pickle\n",
    "from datetime import datetime"
   ]
  },
  {
   "cell_type": "code",
   "execution_count": 5,
   "id": "8a27ecec",
   "metadata": {},
   "outputs": [],
   "source": [
    "from weighted_concordance import *\n",
    "from score_functions import wibs"
   ]
  },
  {
   "cell_type": "code",
   "execution_count": 6,
   "id": "a30900b0",
   "metadata": {},
   "outputs": [],
   "source": [
    "# # importing module\n",
    "# import sys\n",
    "\n",
    "# # appending a path\n",
    "# sys.path.append('C:/Users/thseale/Documents/Python Packages')\n",
    "\n",
    "# from lifelines import CoxPHFitter\n",
    "# from lifelines.utils import datetimes_to_durations, concordance_index"
   ]
  },
  {
   "cell_type": "code",
   "execution_count": 7,
   "id": "8af309d7-cdca-4656-87ef-68092c4447f6",
   "metadata": {},
   "outputs": [],
   "source": [
    "from lifelines import CoxPHFitter\n",
    "from lifelines.utils import datetimes_to_durations, concordance_index\n",
    "from sksurv.ensemble import RandomSurvivalForest"
   ]
  },
  {
   "cell_type": "markdown",
   "id": "bbde9375",
   "metadata": {},
   "source": [
    "## Loading models"
   ]
  },
  {
   "cell_type": "code",
   "execution_count": 8,
   "id": "e8ee6b4b",
   "metadata": {},
   "outputs": [],
   "source": [
    "unweighted_cox_pca = pickle.load(open('unweighted_cox_pca_wc.pkl', 'rb'))"
   ]
  },
  {
   "cell_type": "code",
   "execution_count": 9,
   "id": "27b15aba",
   "metadata": {},
   "outputs": [],
   "source": [
    "unweighted_cox = pickle.load(open('unweighted_cox_wc.pkl', 'rb'))"
   ]
  },
  {
   "cell_type": "code",
   "execution_count": 10,
   "id": "c6b42ebf",
   "metadata": {},
   "outputs": [],
   "source": [
    "barlow_cox_pca = pickle.load(open(\"barlow_cox_pca_wc.pkl\", \"rb\"))"
   ]
  },
  {
   "cell_type": "code",
   "execution_count": 11,
   "id": "2fbbc04d",
   "metadata": {},
   "outputs": [],
   "source": [
    "barlow_cox = pickle.load(open(\"barlow_cox_wc.pkl\", \"rb\"))"
   ]
  },
  {
   "cell_type": "code",
   "execution_count": 12,
   "id": "f8857148",
   "metadata": {},
   "outputs": [],
   "source": [
    "prentice_cox_pca = pickle.load(open(\"prentice_cox_pca_wc.pkl\", \"rb\"))"
   ]
  },
  {
   "cell_type": "code",
   "execution_count": 13,
   "id": "9de44061",
   "metadata": {},
   "outputs": [],
   "source": [
    "prentice_cox = pickle.load(open(\"prentice_cox_wc.pkl\", \"rb\"))"
   ]
  },
  {
   "cell_type": "code",
   "execution_count": 14,
   "id": "2bf08d89",
   "metadata": {},
   "outputs": [],
   "source": [
    "selfprentice_cox_pca = pickle.load(open(\"selfprentice_cox_pca_wc.pkl\", \"rb\"))"
   ]
  },
  {
   "cell_type": "code",
   "execution_count": 15,
   "id": "034b0246",
   "metadata": {},
   "outputs": [],
   "source": [
    "selfprentice_cox = pickle.load(open(\"selfprentice_cox_wc.pkl\", \"rb\"))"
   ]
  },
  {
   "cell_type": "code",
   "execution_count": 16,
   "id": "2ce6b163",
   "metadata": {},
   "outputs": [],
   "source": [
    "adjusted_cox_pca = pickle.load(open(\"adjusted_cox_pca_wc.pkl\", \"rb\"))"
   ]
  },
  {
   "cell_type": "code",
   "execution_count": 17,
   "id": "4d83582a",
   "metadata": {},
   "outputs": [],
   "source": [
    "adjusted_cox = pickle.load(open(\"adjusted_cox_wc.pkl\", \"rb\"))"
   ]
  },
  {
   "cell_type": "code",
   "execution_count": 18,
   "id": "fef415df",
   "metadata": {},
   "outputs": [],
   "source": [
    "unweighted_cox_penalised = pickle.load(open(\"unweighted_cox_penalised_wc.pkl\", \"rb\"))"
   ]
  },
  {
   "cell_type": "code",
   "execution_count": 19,
   "id": "b8a0d442",
   "metadata": {},
   "outputs": [],
   "source": [
    "penalised_barlow_cox = pickle.load(open(\"penalised_barlow_cox_wc.pkl\", \"rb\"))"
   ]
  },
  {
   "cell_type": "code",
   "execution_count": 20,
   "id": "96974db5",
   "metadata": {},
   "outputs": [],
   "source": [
    "penalised_prentice_cox = pickle.load(open(\"penalised_prentice_cox_wc.pkl\", \"rb\"))"
   ]
  },
  {
   "cell_type": "code",
   "execution_count": 21,
   "id": "8b8a180d",
   "metadata": {},
   "outputs": [],
   "source": [
    "penalised_selfprentice_cox = pickle.load(open(\"penalized_selfprentice_cox_wc.pkl\", \"rb\"))"
   ]
  },
  {
   "cell_type": "code",
   "execution_count": 22,
   "id": "0ffe2103",
   "metadata": {},
   "outputs": [],
   "source": [
    "penalised_adjusted_cox = pickle.load(open(\"penalised_adjusted_cox_wc.pkl\", \"rb\"))"
   ]
  },
  {
   "cell_type": "code",
   "execution_count": 23,
   "id": "8b191513-e366-4be0-a76a-02a3992d6aa5",
   "metadata": {},
   "outputs": [],
   "source": [
    "unweighted_rsf = pickle.load(open(\"unweighted_rsf.pkl\", \"rb\"))"
   ]
  },
  {
   "cell_type": "markdown",
   "id": "acbd523e",
   "metadata": {},
   "source": [
    "## Loading data"
   ]
  },
  {
   "cell_type": "markdown",
   "id": "937bc569-13b4-4a1f-a3ee-2f740e1ec0c9",
   "metadata": {},
   "source": [
    "### Test data "
   ]
  },
  {
   "cell_type": "code",
   "execution_count": 24,
   "id": "ae241ef1",
   "metadata": {},
   "outputs": [],
   "source": [
    "X_tr_test = pd.read_csv(\"D:/compiled_data/X_tr_test.csv\").set_index(\"csid\")\n",
    "\n",
    "y_test = pd.read_csv(\"D:/compiled_data/y_test.csv\").set_index(\"csid\")"
   ]
  },
  {
   "cell_type": "code",
   "execution_count": 25,
   "id": "11d73603",
   "metadata": {},
   "outputs": [
    {
     "data": {
      "text/plain": [
       "213"
      ]
     },
     "execution_count": 25,
     "metadata": {},
     "output_type": "execute_result"
    }
   ],
   "source": [
    "len(y_test)"
   ]
  },
  {
   "cell_type": "code",
   "execution_count": 26,
   "id": "79d7c131",
   "metadata": {},
   "outputs": [
    {
     "data": {
      "text/html": [
       "<div>\n",
       "<style scoped>\n",
       "    .dataframe tbody tr th:only-of-type {\n",
       "        vertical-align: middle;\n",
       "    }\n",
       "\n",
       "    .dataframe tbody tr th {\n",
       "        vertical-align: top;\n",
       "    }\n",
       "\n",
       "    .dataframe thead th {\n",
       "        text-align: right;\n",
       "    }\n",
       "</style>\n",
       "<table border=\"1\" class=\"dataframe\">\n",
       "  <thead>\n",
       "    <tr style=\"text-align: right;\">\n",
       "      <th></th>\n",
       "      <th>event</th>\n",
       "      <th>duration</th>\n",
       "      <th>subcohort</th>\n",
       "    </tr>\n",
       "    <tr>\n",
       "      <th>csid</th>\n",
       "      <th></th>\n",
       "      <th></th>\n",
       "      <th></th>\n",
       "    </tr>\n",
       "  </thead>\n",
       "  <tbody>\n",
       "    <tr>\n",
       "      <th>2022-00229-3793895</th>\n",
       "      <td>1</td>\n",
       "      <td>3100.0</td>\n",
       "      <td>False</td>\n",
       "    </tr>\n",
       "    <tr>\n",
       "      <th>2022-00229-2146926</th>\n",
       "      <td>1</td>\n",
       "      <td>1229.0</td>\n",
       "      <td>False</td>\n",
       "    </tr>\n",
       "    <tr>\n",
       "      <th>2022-00229-5726795</th>\n",
       "      <td>1</td>\n",
       "      <td>1415.0</td>\n",
       "      <td>False</td>\n",
       "    </tr>\n",
       "    <tr>\n",
       "      <th>2022-00229-2081726</th>\n",
       "      <td>1</td>\n",
       "      <td>1548.0</td>\n",
       "      <td>False</td>\n",
       "    </tr>\n",
       "    <tr>\n",
       "      <th>2022-00229-1019474</th>\n",
       "      <td>1</td>\n",
       "      <td>277.0</td>\n",
       "      <td>False</td>\n",
       "    </tr>\n",
       "    <tr>\n",
       "      <th>...</th>\n",
       "      <td>...</td>\n",
       "      <td>...</td>\n",
       "      <td>...</td>\n",
       "    </tr>\n",
       "    <tr>\n",
       "      <th>2022-00229-4639290</th>\n",
       "      <td>0</td>\n",
       "      <td>4140.0</td>\n",
       "      <td>True</td>\n",
       "    </tr>\n",
       "    <tr>\n",
       "      <th>2022-00229-3940363</th>\n",
       "      <td>0</td>\n",
       "      <td>4407.0</td>\n",
       "      <td>True</td>\n",
       "    </tr>\n",
       "    <tr>\n",
       "      <th>2022-00229-1634360</th>\n",
       "      <td>0</td>\n",
       "      <td>4866.0</td>\n",
       "      <td>True</td>\n",
       "    </tr>\n",
       "    <tr>\n",
       "      <th>2022-00229-4257116</th>\n",
       "      <td>0</td>\n",
       "      <td>4207.0</td>\n",
       "      <td>True</td>\n",
       "    </tr>\n",
       "    <tr>\n",
       "      <th>2022-00229-4441956</th>\n",
       "      <td>0</td>\n",
       "      <td>4304.0</td>\n",
       "      <td>True</td>\n",
       "    </tr>\n",
       "  </tbody>\n",
       "</table>\n",
       "<p>213 rows × 3 columns</p>\n",
       "</div>"
      ],
      "text/plain": [
       "                    event  duration  subcohort\n",
       "csid                                          \n",
       "2022-00229-3793895      1    3100.0      False\n",
       "2022-00229-2146926      1    1229.0      False\n",
       "2022-00229-5726795      1    1415.0      False\n",
       "2022-00229-2081726      1    1548.0      False\n",
       "2022-00229-1019474      1     277.0      False\n",
       "...                   ...       ...        ...\n",
       "2022-00229-4639290      0    4140.0       True\n",
       "2022-00229-3940363      0    4407.0       True\n",
       "2022-00229-1634360      0    4866.0       True\n",
       "2022-00229-4257116      0    4207.0       True\n",
       "2022-00229-4441956      0    4304.0       True\n",
       "\n",
       "[213 rows x 3 columns]"
      ]
     },
     "execution_count": 26,
     "metadata": {},
     "output_type": "execute_result"
    }
   ],
   "source": [
    "def date_time_conversion(date):\n",
    "    return(datetime.strptime(date,\"%Y-%m-%dT%H:%M:%SZ\"))\n",
    "\n",
    "# Coverting the times into datetime format\n",
    "y_tr_test = y_test.assign(\n",
    "    event = y_test.ep_CKB0020_combined_ep,\n",
    "    start_time = y_test.study_date.map(date_time_conversion),\n",
    "    event_time = y_test.ep_CKB0020_combined_datedeveloped.map(date_time_conversion)\n",
    ").drop(columns = y_test.columns)\n",
    "y_tr_test[\"duration\"] = datetimes_to_durations(y_tr_test[\"start_time\"],y_tr_test[\"event_time\"])[0]\n",
    "y_tr_test[\"subcohort\"] = y_test[\"subcohort\"]\n",
    "y_tr_test = y_tr_test.drop(columns = [\"start_time\",\"event_time\"])\n",
    "y_tr_test"
   ]
  },
  {
   "cell_type": "markdown",
   "id": "177d1c4a-e154-4f82-9155-226fc737b18e",
   "metadata": {},
   "source": [
    "### Training\n",
    "For estimating censoring distributino for integrated brier score."
   ]
  },
  {
   "cell_type": "code",
   "execution_count": 27,
   "id": "a6f15211-0c74-4ed2-863d-bf59d19e53ae",
   "metadata": {},
   "outputs": [],
   "source": [
    "y_train = pd.read_csv(\"D:/compiled_data/y.csv\").set_index(\"csid\")"
   ]
  },
  {
   "cell_type": "code",
   "execution_count": 28,
   "id": "e7dda4d2-74ee-476f-b394-ba1d9c765861",
   "metadata": {},
   "outputs": [
    {
     "data": {
      "text/html": [
       "<div>\n",
       "<style scoped>\n",
       "    .dataframe tbody tr th:only-of-type {\n",
       "        vertical-align: middle;\n",
       "    }\n",
       "\n",
       "    .dataframe tbody tr th {\n",
       "        vertical-align: top;\n",
       "    }\n",
       "\n",
       "    .dataframe thead th {\n",
       "        text-align: right;\n",
       "    }\n",
       "</style>\n",
       "<table border=\"1\" class=\"dataframe\">\n",
       "  <thead>\n",
       "    <tr style=\"text-align: right;\">\n",
       "      <th></th>\n",
       "      <th>event</th>\n",
       "      <th>duration</th>\n",
       "      <th>subcohort</th>\n",
       "    </tr>\n",
       "    <tr>\n",
       "      <th>csid</th>\n",
       "      <th></th>\n",
       "      <th></th>\n",
       "      <th></th>\n",
       "    </tr>\n",
       "  </thead>\n",
       "  <tbody>\n",
       "    <tr>\n",
       "      <th>2022-00229-1799093</th>\n",
       "      <td>1</td>\n",
       "      <td>1192.0</td>\n",
       "      <td>False</td>\n",
       "    </tr>\n",
       "    <tr>\n",
       "      <th>2022-00229-4744170</th>\n",
       "      <td>1</td>\n",
       "      <td>1690.0</td>\n",
       "      <td>False</td>\n",
       "    </tr>\n",
       "    <tr>\n",
       "      <th>2022-00229-1082517</th>\n",
       "      <td>1</td>\n",
       "      <td>2035.0</td>\n",
       "      <td>False</td>\n",
       "    </tr>\n",
       "    <tr>\n",
       "      <th>2022-00229-3397875</th>\n",
       "      <td>1</td>\n",
       "      <td>2530.0</td>\n",
       "      <td>False</td>\n",
       "    </tr>\n",
       "    <tr>\n",
       "      <th>2022-00229-4372175</th>\n",
       "      <td>1</td>\n",
       "      <td>2216.0</td>\n",
       "      <td>False</td>\n",
       "    </tr>\n",
       "    <tr>\n",
       "      <th>...</th>\n",
       "      <td>...</td>\n",
       "      <td>...</td>\n",
       "      <td>...</td>\n",
       "    </tr>\n",
       "    <tr>\n",
       "      <th>2022-00229-5565114</th>\n",
       "      <td>0</td>\n",
       "      <td>4495.0</td>\n",
       "      <td>True</td>\n",
       "    </tr>\n",
       "    <tr>\n",
       "      <th>2022-00229-4902412</th>\n",
       "      <td>0</td>\n",
       "      <td>3448.0</td>\n",
       "      <td>True</td>\n",
       "    </tr>\n",
       "    <tr>\n",
       "      <th>2022-00229-4823882</th>\n",
       "      <td>0</td>\n",
       "      <td>895.0</td>\n",
       "      <td>True</td>\n",
       "    </tr>\n",
       "    <tr>\n",
       "      <th>2022-00229-4439450</th>\n",
       "      <td>0</td>\n",
       "      <td>5084.0</td>\n",
       "      <td>True</td>\n",
       "    </tr>\n",
       "    <tr>\n",
       "      <th>2022-00229-3848187</th>\n",
       "      <td>0</td>\n",
       "      <td>4496.0</td>\n",
       "      <td>True</td>\n",
       "    </tr>\n",
       "  </tbody>\n",
       "</table>\n",
       "<p>1188 rows × 3 columns</p>\n",
       "</div>"
      ],
      "text/plain": [
       "                    event  duration  subcohort\n",
       "csid                                          \n",
       "2022-00229-1799093      1    1192.0      False\n",
       "2022-00229-4744170      1    1690.0      False\n",
       "2022-00229-1082517      1    2035.0      False\n",
       "2022-00229-3397875      1    2530.0      False\n",
       "2022-00229-4372175      1    2216.0      False\n",
       "...                   ...       ...        ...\n",
       "2022-00229-5565114      0    4495.0       True\n",
       "2022-00229-4902412      0    3448.0       True\n",
       "2022-00229-4823882      0     895.0       True\n",
       "2022-00229-4439450      0    5084.0       True\n",
       "2022-00229-3848187      0    4496.0       True\n",
       "\n",
       "[1188 rows x 3 columns]"
      ]
     },
     "execution_count": 28,
     "metadata": {},
     "output_type": "execute_result"
    }
   ],
   "source": [
    "# Coverting the times into datetime format\n",
    "y_tr_train = y_train.assign(\n",
    "    event = y_train.ep_CKB0020_combined_ep,\n",
    "    start_time = y_train.study_date.map(date_time_conversion),\n",
    "    event_time = y_train.ep_CKB0020_combined_datedeveloped.map(date_time_conversion)\n",
    ").drop(columns = y_train.columns)\n",
    "y_tr_train[\"duration\"] = datetimes_to_durations(y_tr_train[\"start_time\"],y_tr_train[\"event_time\"])[0]\n",
    "y_tr_train[\"subcohort\"] = y_train[\"subcohort\"]\n",
    "y_tr_train = y_tr_train.drop(columns = [\"start_time\",\"event_time\"])\n",
    "y_tr_train"
   ]
  },
  {
   "cell_type": "markdown",
   "id": "1dc7e9e3",
   "metadata": {},
   "source": [
    "## Predictions"
   ]
  },
  {
   "cell_type": "code",
   "execution_count": 29,
   "id": "e2924939",
   "metadata": {},
   "outputs": [],
   "source": [
    "event_times = y_tr_test[\"duration\"]\n",
    "event_observed = y_tr_test[\"event\"]"
   ]
  },
  {
   "cell_type": "markdown",
   "id": "1fecf0ba",
   "metadata": {},
   "source": [
    "### Unweighted Cox PH"
   ]
  },
  {
   "cell_type": "code",
   "execution_count": 30,
   "id": "a45eb690",
   "metadata": {},
   "outputs": [],
   "source": [
    "unweighted_cox_test_preds = unweighted_cox.predict_partial_hazard(unweighted_cox_pca.transform(X_tr_test))"
   ]
  },
  {
   "cell_type": "markdown",
   "id": "4f877cec",
   "metadata": {},
   "source": [
    "### Cox PH, Barlow Weights"
   ]
  },
  {
   "cell_type": "code",
   "execution_count": 31,
   "id": "6200577a",
   "metadata": {},
   "outputs": [],
   "source": [
    "barlow_cox_test_preds = barlow_cox.predict_partial_hazard(barlow_cox_pca.transform(X_tr_test))"
   ]
  },
  {
   "cell_type": "markdown",
   "id": "65c4c119",
   "metadata": {},
   "source": [
    "### Cox PH, Prentice Weights"
   ]
  },
  {
   "cell_type": "code",
   "execution_count": 32,
   "id": "ba445bd1",
   "metadata": {},
   "outputs": [],
   "source": [
    "prentice_cox_test_preds = prentice_cox.predict_partial_hazard(prentice_cox_pca.transform(X_tr_test))"
   ]
  },
  {
   "cell_type": "markdown",
   "id": "2a42f613",
   "metadata": {},
   "source": [
    "### Cox PH, Self-Prentice Weights"
   ]
  },
  {
   "cell_type": "code",
   "execution_count": 33,
   "id": "573cf501",
   "metadata": {},
   "outputs": [],
   "source": [
    "selfprentice_cox_test_preds = selfprentice_cox.predict_partial_hazard(selfprentice_cox_pca.transform(X_tr_test))"
   ]
  },
  {
   "cell_type": "markdown",
   "id": "871f5a07",
   "metadata": {},
   "source": [
    "### Cox PH, Adjusted Weights"
   ]
  },
  {
   "cell_type": "code",
   "execution_count": 34,
   "id": "a318c3f9",
   "metadata": {},
   "outputs": [],
   "source": [
    "adjusted_cox_test_preds = adjusted_cox.predict_partial_hazard(adjusted_cox_pca.transform(X_tr_test))"
   ]
  },
  {
   "cell_type": "markdown",
   "id": "a141f6f7",
   "metadata": {},
   "source": [
    "### Penalised unweighted Cox PH"
   ]
  },
  {
   "cell_type": "code",
   "execution_count": 35,
   "id": "677fdc08",
   "metadata": {},
   "outputs": [],
   "source": [
    "unweighted_cox_penalised_test_preds = unweighted_cox_penalised.predict_partial_hazard(X_tr_test)"
   ]
  },
  {
   "cell_type": "markdown",
   "id": "e3b802bf",
   "metadata": {},
   "source": [
    "### Penalised Cox PH, Barlow Weights"
   ]
  },
  {
   "cell_type": "code",
   "execution_count": 36,
   "id": "703fb240",
   "metadata": {},
   "outputs": [],
   "source": [
    "penalised_barlow_cox_test_preds = penalised_barlow_cox.predict_partial_hazard(X_tr_test)"
   ]
  },
  {
   "cell_type": "markdown",
   "id": "23186879",
   "metadata": {},
   "source": [
    "### Penalised Cox PH, Prentice Weights"
   ]
  },
  {
   "cell_type": "code",
   "execution_count": 37,
   "id": "27ab3c99",
   "metadata": {},
   "outputs": [],
   "source": [
    "penalised_prentice_cox_test_preds = penalised_prentice_cox.predict_partial_hazard(X_tr_test)"
   ]
  },
  {
   "cell_type": "markdown",
   "id": "5c9bb346",
   "metadata": {},
   "source": [
    "### Penalised Cox PH, Prentice Weights"
   ]
  },
  {
   "cell_type": "code",
   "execution_count": 38,
   "id": "e5f3fd39",
   "metadata": {},
   "outputs": [],
   "source": [
    "penalised_selfprentice_cox_test_preds = penalised_selfprentice_cox.predict_partial_hazard(X_tr_test)"
   ]
  },
  {
   "cell_type": "markdown",
   "id": "2d3c48ed",
   "metadata": {},
   "source": [
    "### Penalised Cox PH, Adjusted Weights"
   ]
  },
  {
   "cell_type": "code",
   "execution_count": 39,
   "id": "28a8eb5f",
   "metadata": {},
   "outputs": [],
   "source": [
    "penalised_adjusted_cox_test_preds = penalised_adjusted_cox.predict_partial_hazard(X_tr_test)"
   ]
  },
  {
   "cell_type": "markdown",
   "id": "2e270068-fb0a-4909-96a1-7d42530d1f22",
   "metadata": {},
   "source": [
    "# Random Survival Forest, unweighted"
   ]
  },
  {
   "cell_type": "code",
   "execution_count": 40,
   "id": "8828425a-6333-4173-b5e2-5f7ca206a13d",
   "metadata": {},
   "outputs": [],
   "source": [
    "unweighted_rsf_test_preds = unweighted_rsf.predict(X_tr_test)"
   ]
  },
  {
   "cell_type": "markdown",
   "id": "0de53768",
   "metadata": {},
   "source": [
    "## Results"
   ]
  },
  {
   "cell_type": "code",
   "execution_count": 41,
   "id": "c6b61dbb",
   "metadata": {},
   "outputs": [
    {
     "data": {
      "text/plain": [
       "0.00041640274943111175"
      ]
     },
     "execution_count": 41,
     "metadata": {},
     "output_type": "execute_result"
    }
   ],
   "source": [
    "sample_fraction = len(y_tr_test)/(512724-1200)\n",
    "sample_fraction"
   ]
  },
  {
   "cell_type": "code",
   "execution_count": 51,
   "id": "8dd54db1",
   "metadata": {},
   "outputs": [
    {
     "data": {
      "text/html": [
       "<div>\n",
       "<style scoped>\n",
       "    .dataframe tbody tr th:only-of-type {\n",
       "        vertical-align: middle;\n",
       "    }\n",
       "\n",
       "    .dataframe tbody tr th {\n",
       "        vertical-align: top;\n",
       "    }\n",
       "\n",
       "    .dataframe thead th {\n",
       "        text-align: right;\n",
       "    }\n",
       "</style>\n",
       "<table border=\"1\" class=\"dataframe\">\n",
       "  <thead>\n",
       "    <tr style=\"text-align: right;\">\n",
       "      <th></th>\n",
       "      <th>model</th>\n",
       "      <th>weighted_concordance</th>\n",
       "      <th>concordance</th>\n",
       "      <th>weighted_integrated_brier_scores</th>\n",
       "      <th>integrated_brier_scores</th>\n",
       "    </tr>\n",
       "  </thead>\n",
       "  <tbody>\n",
       "    <tr>\n",
       "      <th>0</th>\n",
       "      <td>Unweighted Cox PH, PCA</td>\n",
       "      <td>0.710541</td>\n",
       "      <td>0.658544</td>\n",
       "      <td>0.000617</td>\n",
       "      <td>0.154842</td>\n",
       "    </tr>\n",
       "    <tr>\n",
       "      <th>1</th>\n",
       "      <td>Cox PH, Barlow Weights, PCA</td>\n",
       "      <td>0.671967</td>\n",
       "      <td>0.616854</td>\n",
       "      <td>0.000001</td>\n",
       "      <td>0.305061</td>\n",
       "    </tr>\n",
       "    <tr>\n",
       "      <th>2</th>\n",
       "      <td>Cox PH, Prentice Weights, PCA</td>\n",
       "      <td>0.704533</td>\n",
       "      <td>0.659369</td>\n",
       "      <td>0.000528</td>\n",
       "      <td>0.163855</td>\n",
       "    </tr>\n",
       "    <tr>\n",
       "      <th>3</th>\n",
       "      <td>Cox PH, Self-Prentice Weights, PCA</td>\n",
       "      <td>0.644608</td>\n",
       "      <td>0.622375</td>\n",
       "      <td>0.000003</td>\n",
       "      <td>0.294786</td>\n",
       "    </tr>\n",
       "    <tr>\n",
       "      <th>4</th>\n",
       "      <td>Cox PH, Adjusted Weights, PCA</td>\n",
       "      <td>0.682983</td>\n",
       "      <td>0.641157</td>\n",
       "      <td>0.000424</td>\n",
       "      <td>0.168252</td>\n",
       "    </tr>\n",
       "    <tr>\n",
       "      <th>5</th>\n",
       "      <td>Penalized unweighted Cox PH</td>\n",
       "      <td>0.698799</td>\n",
       "      <td>0.655879</td>\n",
       "      <td>0.005215</td>\n",
       "      <td>0.524371</td>\n",
       "    </tr>\n",
       "    <tr>\n",
       "      <th>6</th>\n",
       "      <td>Penalized Cox PH, Barlow Weights</td>\n",
       "      <td>0.725155</td>\n",
       "      <td>0.671553</td>\n",
       "      <td>0.000001</td>\n",
       "      <td>0.305979</td>\n",
       "    </tr>\n",
       "    <tr>\n",
       "      <th>7</th>\n",
       "      <td>Penalized Cox PH, Prentice Weights</td>\n",
       "      <td>0.724692</td>\n",
       "      <td>0.671299</td>\n",
       "      <td>0.000885</td>\n",
       "      <td>0.158433</td>\n",
       "    </tr>\n",
       "    <tr>\n",
       "      <th>8</th>\n",
       "      <td>Penalized Cox PH, Self-Prentice Weights</td>\n",
       "      <td>0.512993</td>\n",
       "      <td>0.507456</td>\n",
       "      <td>0.000001</td>\n",
       "      <td>0.303846</td>\n",
       "    </tr>\n",
       "    <tr>\n",
       "      <th>9</th>\n",
       "      <td>Penalized Cox PH, Adjusted Weights</td>\n",
       "      <td>0.724785</td>\n",
       "      <td>0.671299</td>\n",
       "      <td>0.000974</td>\n",
       "      <td>0.161597</td>\n",
       "    </tr>\n",
       "    <tr>\n",
       "      <th>10</th>\n",
       "      <td>Unweighted Random Survival Forest</td>\n",
       "      <td>0.662907</td>\n",
       "      <td>0.615267</td>\n",
       "      <td>0.000561</td>\n",
       "      <td>0.156744</td>\n",
       "    </tr>\n",
       "  </tbody>\n",
       "</table>\n",
       "</div>"
      ],
      "text/plain": [
       "                                      model  weighted_concordance  \\\n",
       "0                    Unweighted Cox PH, PCA              0.710541   \n",
       "1               Cox PH, Barlow Weights, PCA              0.671967   \n",
       "2             Cox PH, Prentice Weights, PCA              0.704533   \n",
       "3        Cox PH, Self-Prentice Weights, PCA              0.644608   \n",
       "4             Cox PH, Adjusted Weights, PCA              0.682983   \n",
       "5               Penalized unweighted Cox PH              0.698799   \n",
       "6          Penalized Cox PH, Barlow Weights              0.725155   \n",
       "7        Penalized Cox PH, Prentice Weights              0.724692   \n",
       "8   Penalized Cox PH, Self-Prentice Weights              0.512993   \n",
       "9        Penalized Cox PH, Adjusted Weights              0.724785   \n",
       "10        Unweighted Random Survival Forest              0.662907   \n",
       "\n",
       "    concordance  weighted_integrated_brier_scores  integrated_brier_scores  \n",
       "0      0.658544                          0.000617                 0.154842  \n",
       "1      0.616854                          0.000001                 0.305061  \n",
       "2      0.659369                          0.000528                 0.163855  \n",
       "3      0.622375                          0.000003                 0.294786  \n",
       "4      0.641157                          0.000424                 0.168252  \n",
       "5      0.655879                          0.005215                 0.524371  \n",
       "6      0.671553                          0.000001                 0.305979  \n",
       "7      0.671299                          0.000885                 0.158433  \n",
       "8      0.507456                          0.000001                 0.303846  \n",
       "9      0.671299                          0.000974                 0.161597  \n",
       "10     0.615267                          0.000561                 0.156744  "
      ]
     },
     "execution_count": 51,
     "metadata": {},
     "output_type": "execute_result"
    }
   ],
   "source": [
    "model_results = pd.DataFrame({\n",
    "    \"model\": [\"Unweighted Cox PH, PCA\",\n",
    "             \"Cox PH, Barlow Weights, PCA\",\n",
    "             \"Cox PH, Prentice Weights, PCA\",\n",
    "             \"Cox PH, Self-Prentice Weights, PCA\",\n",
    "             \"Cox PH, Adjusted Weights, PCA\",\n",
    "             \"Penalized unweighted Cox PH\",\n",
    "             \"Penalized Cox PH, Barlow Weights\",\n",
    "             \"Penalized Cox PH, Prentice Weights\",\n",
    "             \"Penalized Cox PH, Self-Prentice Weights\",\n",
    "             \"Penalized Cox PH, Adjusted Weights\",\n",
    "             \"Unweighted Random Survival Forest\"],\n",
    "    \"weighted_concordance\": [weighted_concordance(event_times,unweighted_cox_test_preds, event_observed,sample_fraction),\n",
    "                            weighted_concordance(event_times,barlow_cox_test_preds, event_observed,sample_fraction),\n",
    "                             weighted_concordance(event_times,prentice_cox_test_preds, event_observed,sample_fraction),\n",
    "                             weighted_concordance(event_times,selfprentice_cox_test_preds, event_observed,sample_fraction),\n",
    "                             weighted_concordance(event_times,adjusted_cox_test_preds, event_observed,sample_fraction),\n",
    "                             weighted_concordance(event_times,unweighted_cox_penalised_test_preds, event_observed,sample_fraction),\n",
    "                             weighted_concordance(event_times,penalised_barlow_cox_test_preds, event_observed,sample_fraction),\n",
    "                             weighted_concordance(event_times,penalised_prentice_cox_test_preds, event_observed,sample_fraction),\n",
    "                             weighted_concordance(event_times,penalised_selfprentice_cox_test_preds, event_observed,sample_fraction),\n",
    "                             weighted_concordance(event_times,penalised_adjusted_cox_test_preds, event_observed,sample_fraction),\n",
    "                             weighted_concordance(event_times,unweighted_rsf_test_preds, event_observed,sample_fraction)],\n",
    "    \"concordance\": [concordance_index(event_times,-unweighted_cox_test_preds, event_observed),\n",
    "                            concordance_index(event_times,-barlow_cox_test_preds, event_observed),\n",
    "                             concordance_index(event_times,-prentice_cox_test_preds, event_observed),\n",
    "                             concordance_index(event_times,-selfprentice_cox_test_preds, event_observed),\n",
    "                             concordance_index(event_times,-adjusted_cox_test_preds, event_observed),\n",
    "                             concordance_index(event_times,-unweighted_cox_penalised_test_preds, event_observed),\n",
    "                             concordance_index(event_times,-penalised_barlow_cox_test_preds, event_observed),\n",
    "                             concordance_index(event_times,-penalised_prentice_cox_test_preds, event_observed),\n",
    "                             concordance_index(event_times,-penalised_selfprentice_cox_test_preds, event_observed),\n",
    "                             concordance_index(event_times,-penalised_adjusted_cox_test_preds, event_observed),\n",
    "                            concordance_index(event_times,-unweighted_rsf_test_preds, event_observed)],\n",
    "    \"weighted_integrated_brier_scores\": [wibs(unweighted_cox, unweighted_cox_pca.transform(X_tr_test), y_tr_test, y_tr_train, 1/sample_fraction)/(1+ 100*1/sample_fraction),\n",
    "                                         wibs(barlow_cox, barlow_cox_pca.transform(X_tr_test), y_tr_test, y_tr_train, 1/sample_fraction)/(100 + 100*1/sample_fraction),\n",
    "                                         wibs(prentice_cox, prentice_cox_pca.transform(X_tr_test), y_tr_test, y_tr_train, 1/sample_fraction)/(100 + 100*1/sample_fraction),\n",
    "                                         wibs(selfprentice_cox, selfprentice_cox_pca.transform(X_tr_test), y_tr_test, y_tr_train, 1/sample_fraction)/(100 + 100*1/sample_fraction),\n",
    "                                         wibs(adjusted_cox, adjusted_cox_pca.transform(X_tr_test), y_tr_test, y_tr_train, 1/sample_fraction)/(100 + 100*1/sample_fraction),\n",
    "                                         wibs(unweighted_cox_penalised, X_tr_test, y_tr_test, y_tr_train, 1/sample_fraction)/(100 + 100*1/sample_fraction),\n",
    "                                         wibs(penalised_barlow_cox, X_tr_test, y_tr_test, y_tr_train, 1/sample_fraction)/(100 + 100*1/sample_fraction),\n",
    "                                         wibs(penalised_prentice_cox, X_tr_test, y_tr_test, y_tr_train, 1/sample_fraction)/(100 + 100*1/sample_fraction),\n",
    "                                         wibs(penalised_selfprentice_cox, X_tr_test, y_tr_test, y_tr_train, 1/sample_fraction)/(100 + 100*1/sample_fraction),\n",
    "                                         wibs(penalised_adjusted_cox, X_tr_test, y_tr_test, y_tr_train, 1/sample_fraction)/(100 + 100*1/sample_fraction),\n",
    "                                         wibs(unweighted_rsf, X_tr_test, y_tr_test, y_tr_train, 1/sample_fraction, False)/(100 + 100*1/sample_fraction)],\n",
    "    \"integrated_brier_scores\": [wibs(unweighted_cox, unweighted_cox_pca.transform(X_tr_test), y_tr_test, y_tr_train, 1),\n",
    "                                         wibs(barlow_cox, barlow_cox_pca.transform(X_tr_test), y_tr_test, y_tr_train, 1),\n",
    "                                         wibs(prentice_cox, prentice_cox_pca.transform(X_tr_test), y_tr_test, y_tr_train, 1),\n",
    "                                         wibs(selfprentice_cox, selfprentice_cox_pca.transform(X_tr_test), y_tr_test, y_tr_train, 1),\n",
    "                                         wibs(adjusted_cox, adjusted_cox_pca.transform(X_tr_test), y_tr_test, y_tr_train, 1),\n",
    "                                         wibs(unweighted_cox_penalised, X_tr_test, y_tr_test, y_tr_train, 1),\n",
    "                                         wibs(penalised_barlow_cox, X_tr_test, y_tr_test, y_tr_train, 1),\n",
    "                                         wibs(penalised_prentice_cox, X_tr_test, y_tr_test, y_tr_train, 1),\n",
    "                                         wibs(penalised_selfprentice_cox, X_tr_test, y_tr_test, y_tr_train, 1),\n",
    "                                         wibs(penalised_adjusted_cox, X_tr_test, y_tr_test, y_tr_train, 1),\n",
    "                                        wibs(unweighted_rsf, X_tr_test, y_tr_test, y_tr_train, 1, False)],\n",
    "    \n",
    "})\n",
    "model_results"
   ]
  },
  {
   "cell_type": "code",
   "execution_count": 54,
   "id": "a7282907-0e98-43c4-b75d-20e2ac40dc48",
   "metadata": {},
   "outputs": [],
   "source": [
    "model_results[\"weighted_integrated_brier_scores\"] = model_results[\"weighted_integrated_brier_scores\"]*100"
   ]
  },
  {
   "cell_type": "code",
   "execution_count": 55,
   "id": "a532b507-3d0a-472c-ad07-0fe8d7b1fa42",
   "metadata": {},
   "outputs": [
    {
     "data": {
      "text/html": [
       "<div>\n",
       "<style scoped>\n",
       "    .dataframe tbody tr th:only-of-type {\n",
       "        vertical-align: middle;\n",
       "    }\n",
       "\n",
       "    .dataframe tbody tr th {\n",
       "        vertical-align: top;\n",
       "    }\n",
       "\n",
       "    .dataframe thead th {\n",
       "        text-align: right;\n",
       "    }\n",
       "</style>\n",
       "<table border=\"1\" class=\"dataframe\">\n",
       "  <thead>\n",
       "    <tr style=\"text-align: right;\">\n",
       "      <th></th>\n",
       "      <th>Weighted Concordance</th>\n",
       "      <th>Concordance</th>\n",
       "      <th>Weighted IBS</th>\n",
       "      <th>IBS</th>\n",
       "    </tr>\n",
       "    <tr>\n",
       "      <th>model</th>\n",
       "      <th></th>\n",
       "      <th></th>\n",
       "      <th></th>\n",
       "      <th></th>\n",
       "    </tr>\n",
       "  </thead>\n",
       "  <tbody>\n",
       "    <tr>\n",
       "      <th>Unweighted Cox PH, PCA</th>\n",
       "      <td>0.710541</td>\n",
       "      <td>0.658544</td>\n",
       "      <td>0.061710</td>\n",
       "      <td>0.154842</td>\n",
       "    </tr>\n",
       "    <tr>\n",
       "      <th>Cox PH, Barlow Weights, PCA</th>\n",
       "      <td>0.671967</td>\n",
       "      <td>0.616854</td>\n",
       "      <td>0.000128</td>\n",
       "      <td>0.305061</td>\n",
       "    </tr>\n",
       "    <tr>\n",
       "      <th>Cox PH, Prentice Weights, PCA</th>\n",
       "      <td>0.704533</td>\n",
       "      <td>0.659369</td>\n",
       "      <td>0.052842</td>\n",
       "      <td>0.163855</td>\n",
       "    </tr>\n",
       "    <tr>\n",
       "      <th>Cox PH, Self-Prentice Weights, PCA</th>\n",
       "      <td>0.644608</td>\n",
       "      <td>0.622375</td>\n",
       "      <td>0.000314</td>\n",
       "      <td>0.294786</td>\n",
       "    </tr>\n",
       "    <tr>\n",
       "      <th>Cox PH, Adjusted Weights, PCA</th>\n",
       "      <td>0.682983</td>\n",
       "      <td>0.641157</td>\n",
       "      <td>0.042376</td>\n",
       "      <td>0.168252</td>\n",
       "    </tr>\n",
       "    <tr>\n",
       "      <th>Penalized unweighted Cox PH</th>\n",
       "      <td>0.698799</td>\n",
       "      <td>0.655879</td>\n",
       "      <td>0.521457</td>\n",
       "      <td>0.524371</td>\n",
       "    </tr>\n",
       "    <tr>\n",
       "      <th>Penalized Cox PH, Barlow Weights</th>\n",
       "      <td>0.725155</td>\n",
       "      <td>0.671553</td>\n",
       "      <td>0.000127</td>\n",
       "      <td>0.305979</td>\n",
       "    </tr>\n",
       "    <tr>\n",
       "      <th>Penalized Cox PH, Prentice Weights</th>\n",
       "      <td>0.724692</td>\n",
       "      <td>0.671299</td>\n",
       "      <td>0.088469</td>\n",
       "      <td>0.158433</td>\n",
       "    </tr>\n",
       "    <tr>\n",
       "      <th>Penalized Cox PH, Self-Prentice Weights</th>\n",
       "      <td>0.512993</td>\n",
       "      <td>0.507456</td>\n",
       "      <td>0.000132</td>\n",
       "      <td>0.303846</td>\n",
       "    </tr>\n",
       "    <tr>\n",
       "      <th>Penalized Cox PH, Adjusted Weights</th>\n",
       "      <td>0.724785</td>\n",
       "      <td>0.671299</td>\n",
       "      <td>0.097396</td>\n",
       "      <td>0.161597</td>\n",
       "    </tr>\n",
       "    <tr>\n",
       "      <th>Unweighted Random Survival Forest</th>\n",
       "      <td>0.662907</td>\n",
       "      <td>0.615267</td>\n",
       "      <td>0.056110</td>\n",
       "      <td>0.156744</td>\n",
       "    </tr>\n",
       "  </tbody>\n",
       "</table>\n",
       "</div>"
      ],
      "text/plain": [
       "                                         Weighted Concordance  Concordance  \\\n",
       "model                                                                        \n",
       "Unweighted Cox PH, PCA                               0.710541     0.658544   \n",
       "Cox PH, Barlow Weights, PCA                          0.671967     0.616854   \n",
       "Cox PH, Prentice Weights, PCA                        0.704533     0.659369   \n",
       "Cox PH, Self-Prentice Weights, PCA                   0.644608     0.622375   \n",
       "Cox PH, Adjusted Weights, PCA                        0.682983     0.641157   \n",
       "Penalized unweighted Cox PH                          0.698799     0.655879   \n",
       "Penalized Cox PH, Barlow Weights                     0.725155     0.671553   \n",
       "Penalized Cox PH, Prentice Weights                   0.724692     0.671299   \n",
       "Penalized Cox PH, Self-Prentice Weights              0.512993     0.507456   \n",
       "Penalized Cox PH, Adjusted Weights                   0.724785     0.671299   \n",
       "Unweighted Random Survival Forest                    0.662907     0.615267   \n",
       "\n",
       "                                         Weighted IBS       IBS  \n",
       "model                                                            \n",
       "Unweighted Cox PH, PCA                       0.061710  0.154842  \n",
       "Cox PH, Barlow Weights, PCA                  0.000128  0.305061  \n",
       "Cox PH, Prentice Weights, PCA                0.052842  0.163855  \n",
       "Cox PH, Self-Prentice Weights, PCA           0.000314  0.294786  \n",
       "Cox PH, Adjusted Weights, PCA                0.042376  0.168252  \n",
       "Penalized unweighted Cox PH                  0.521457  0.524371  \n",
       "Penalized Cox PH, Barlow Weights             0.000127  0.305979  \n",
       "Penalized Cox PH, Prentice Weights           0.088469  0.158433  \n",
       "Penalized Cox PH, Self-Prentice Weights      0.000132  0.303846  \n",
       "Penalized Cox PH, Adjusted Weights           0.097396  0.161597  \n",
       "Unweighted Random Survival Forest            0.056110  0.156744  "
      ]
     },
     "execution_count": 55,
     "metadata": {},
     "output_type": "execute_result"
    }
   ],
   "source": [
    "model_results.columns = [\"Weighted Concordance\", \"Concordance\", \"Weighted IBS\", \"IBS\"]\n",
    "\n",
    "model_results"
   ]
  },
  {
   "cell_type": "code",
   "execution_count": 46,
   "id": "4772d80b-0d07-48b9-867b-f87f62a02be2",
   "metadata": {},
   "outputs": [],
   "source": [
    "import seaborn as sns\n",
    "import matplotlib.pyplot as plt"
   ]
  },
  {
   "cell_type": "code",
   "execution_count": 90,
   "id": "02149ddf-2ee9-4415-980a-cbb4406c1d1b",
   "metadata": {},
   "outputs": [
    {
     "data": {
      "text/html": [
       "<div>\n",
       "<style scoped>\n",
       "    .dataframe tbody tr th:only-of-type {\n",
       "        vertical-align: middle;\n",
       "    }\n",
       "\n",
       "    .dataframe tbody tr th {\n",
       "        vertical-align: top;\n",
       "    }\n",
       "\n",
       "    .dataframe thead th {\n",
       "        text-align: right;\n",
       "    }\n",
       "</style>\n",
       "<table border=\"1\" class=\"dataframe\">\n",
       "  <thead>\n",
       "    <tr style=\"text-align: right;\">\n",
       "      <th></th>\n",
       "      <th>Model</th>\n",
       "      <th>Scorer</th>\n",
       "      <th>Score</th>\n",
       "    </tr>\n",
       "  </thead>\n",
       "  <tbody>\n",
       "    <tr>\n",
       "      <th>0</th>\n",
       "      <td>Unweighted Cox PH, PCA</td>\n",
       "      <td>Weighted Concordance</td>\n",
       "      <td>0.710541</td>\n",
       "    </tr>\n",
       "    <tr>\n",
       "      <th>1</th>\n",
       "      <td>Cox PH, Barlow Weights, PCA</td>\n",
       "      <td>Weighted Concordance</td>\n",
       "      <td>0.671967</td>\n",
       "    </tr>\n",
       "    <tr>\n",
       "      <th>2</th>\n",
       "      <td>Cox PH, Prentice Weights, PCA</td>\n",
       "      <td>Weighted Concordance</td>\n",
       "      <td>0.704533</td>\n",
       "    </tr>\n",
       "    <tr>\n",
       "      <th>3</th>\n",
       "      <td>Cox PH, Self-Prentice Weights, PCA</td>\n",
       "      <td>Weighted Concordance</td>\n",
       "      <td>0.644608</td>\n",
       "    </tr>\n",
       "    <tr>\n",
       "      <th>4</th>\n",
       "      <td>Cox PH, Adjusted Weights, PCA</td>\n",
       "      <td>Weighted Concordance</td>\n",
       "      <td>0.682983</td>\n",
       "    </tr>\n",
       "    <tr>\n",
       "      <th>5</th>\n",
       "      <td>Penalized unweighted Cox PH</td>\n",
       "      <td>Weighted Concordance</td>\n",
       "      <td>0.698799</td>\n",
       "    </tr>\n",
       "    <tr>\n",
       "      <th>6</th>\n",
       "      <td>Penalized Cox PH, Barlow Weights</td>\n",
       "      <td>Weighted Concordance</td>\n",
       "      <td>0.725155</td>\n",
       "    </tr>\n",
       "    <tr>\n",
       "      <th>7</th>\n",
       "      <td>Penalized Cox PH, Prentice Weights</td>\n",
       "      <td>Weighted Concordance</td>\n",
       "      <td>0.724692</td>\n",
       "    </tr>\n",
       "    <tr>\n",
       "      <th>8</th>\n",
       "      <td>Penalized Cox PH, Self-Prentice Weights</td>\n",
       "      <td>Weighted Concordance</td>\n",
       "      <td>0.512993</td>\n",
       "    </tr>\n",
       "    <tr>\n",
       "      <th>9</th>\n",
       "      <td>Penalized Cox PH, Adjusted Weights</td>\n",
       "      <td>Weighted Concordance</td>\n",
       "      <td>0.724785</td>\n",
       "    </tr>\n",
       "    <tr>\n",
       "      <th>10</th>\n",
       "      <td>Unweighted Random Survival Forest</td>\n",
       "      <td>Weighted Concordance</td>\n",
       "      <td>0.662907</td>\n",
       "    </tr>\n",
       "    <tr>\n",
       "      <th>11</th>\n",
       "      <td>Unweighted Cox PH, PCA</td>\n",
       "      <td>Concordance</td>\n",
       "      <td>0.658544</td>\n",
       "    </tr>\n",
       "    <tr>\n",
       "      <th>12</th>\n",
       "      <td>Cox PH, Barlow Weights, PCA</td>\n",
       "      <td>Concordance</td>\n",
       "      <td>0.616854</td>\n",
       "    </tr>\n",
       "    <tr>\n",
       "      <th>13</th>\n",
       "      <td>Cox PH, Prentice Weights, PCA</td>\n",
       "      <td>Concordance</td>\n",
       "      <td>0.659369</td>\n",
       "    </tr>\n",
       "    <tr>\n",
       "      <th>14</th>\n",
       "      <td>Cox PH, Self-Prentice Weights, PCA</td>\n",
       "      <td>Concordance</td>\n",
       "      <td>0.622375</td>\n",
       "    </tr>\n",
       "    <tr>\n",
       "      <th>15</th>\n",
       "      <td>Cox PH, Adjusted Weights, PCA</td>\n",
       "      <td>Concordance</td>\n",
       "      <td>0.641157</td>\n",
       "    </tr>\n",
       "    <tr>\n",
       "      <th>16</th>\n",
       "      <td>Penalized unweighted Cox PH</td>\n",
       "      <td>Concordance</td>\n",
       "      <td>0.655879</td>\n",
       "    </tr>\n",
       "    <tr>\n",
       "      <th>17</th>\n",
       "      <td>Penalized Cox PH, Barlow Weights</td>\n",
       "      <td>Concordance</td>\n",
       "      <td>0.671553</td>\n",
       "    </tr>\n",
       "    <tr>\n",
       "      <th>18</th>\n",
       "      <td>Penalized Cox PH, Prentice Weights</td>\n",
       "      <td>Concordance</td>\n",
       "      <td>0.671299</td>\n",
       "    </tr>\n",
       "    <tr>\n",
       "      <th>19</th>\n",
       "      <td>Penalized Cox PH, Self-Prentice Weights</td>\n",
       "      <td>Concordance</td>\n",
       "      <td>0.507456</td>\n",
       "    </tr>\n",
       "    <tr>\n",
       "      <th>20</th>\n",
       "      <td>Penalized Cox PH, Adjusted Weights</td>\n",
       "      <td>Concordance</td>\n",
       "      <td>0.671299</td>\n",
       "    </tr>\n",
       "    <tr>\n",
       "      <th>21</th>\n",
       "      <td>Unweighted Random Survival Forest</td>\n",
       "      <td>Concordance</td>\n",
       "      <td>0.615267</td>\n",
       "    </tr>\n",
       "    <tr>\n",
       "      <th>22</th>\n",
       "      <td>Unweighted Cox PH, PCA</td>\n",
       "      <td>Weighted IBS</td>\n",
       "      <td>0.061710</td>\n",
       "    </tr>\n",
       "    <tr>\n",
       "      <th>23</th>\n",
       "      <td>Cox PH, Barlow Weights, PCA</td>\n",
       "      <td>Weighted IBS</td>\n",
       "      <td>0.000128</td>\n",
       "    </tr>\n",
       "    <tr>\n",
       "      <th>24</th>\n",
       "      <td>Cox PH, Prentice Weights, PCA</td>\n",
       "      <td>Weighted IBS</td>\n",
       "      <td>0.052842</td>\n",
       "    </tr>\n",
       "    <tr>\n",
       "      <th>25</th>\n",
       "      <td>Cox PH, Self-Prentice Weights, PCA</td>\n",
       "      <td>Weighted IBS</td>\n",
       "      <td>0.000314</td>\n",
       "    </tr>\n",
       "    <tr>\n",
       "      <th>26</th>\n",
       "      <td>Cox PH, Adjusted Weights, PCA</td>\n",
       "      <td>Weighted IBS</td>\n",
       "      <td>0.042376</td>\n",
       "    </tr>\n",
       "    <tr>\n",
       "      <th>27</th>\n",
       "      <td>Penalized unweighted Cox PH</td>\n",
       "      <td>Weighted IBS</td>\n",
       "      <td>0.521457</td>\n",
       "    </tr>\n",
       "    <tr>\n",
       "      <th>28</th>\n",
       "      <td>Penalized Cox PH, Barlow Weights</td>\n",
       "      <td>Weighted IBS</td>\n",
       "      <td>0.000127</td>\n",
       "    </tr>\n",
       "    <tr>\n",
       "      <th>29</th>\n",
       "      <td>Penalized Cox PH, Prentice Weights</td>\n",
       "      <td>Weighted IBS</td>\n",
       "      <td>0.088469</td>\n",
       "    </tr>\n",
       "    <tr>\n",
       "      <th>30</th>\n",
       "      <td>Penalized Cox PH, Self-Prentice Weights</td>\n",
       "      <td>Weighted IBS</td>\n",
       "      <td>0.000132</td>\n",
       "    </tr>\n",
       "    <tr>\n",
       "      <th>31</th>\n",
       "      <td>Penalized Cox PH, Adjusted Weights</td>\n",
       "      <td>Weighted IBS</td>\n",
       "      <td>0.097396</td>\n",
       "    </tr>\n",
       "    <tr>\n",
       "      <th>32</th>\n",
       "      <td>Unweighted Random Survival Forest</td>\n",
       "      <td>Weighted IBS</td>\n",
       "      <td>0.056110</td>\n",
       "    </tr>\n",
       "    <tr>\n",
       "      <th>33</th>\n",
       "      <td>Unweighted Cox PH, PCA</td>\n",
       "      <td>IBS</td>\n",
       "      <td>0.154842</td>\n",
       "    </tr>\n",
       "    <tr>\n",
       "      <th>34</th>\n",
       "      <td>Cox PH, Barlow Weights, PCA</td>\n",
       "      <td>IBS</td>\n",
       "      <td>0.305061</td>\n",
       "    </tr>\n",
       "    <tr>\n",
       "      <th>35</th>\n",
       "      <td>Cox PH, Prentice Weights, PCA</td>\n",
       "      <td>IBS</td>\n",
       "      <td>0.163855</td>\n",
       "    </tr>\n",
       "    <tr>\n",
       "      <th>36</th>\n",
       "      <td>Cox PH, Self-Prentice Weights, PCA</td>\n",
       "      <td>IBS</td>\n",
       "      <td>0.294786</td>\n",
       "    </tr>\n",
       "    <tr>\n",
       "      <th>37</th>\n",
       "      <td>Cox PH, Adjusted Weights, PCA</td>\n",
       "      <td>IBS</td>\n",
       "      <td>0.168252</td>\n",
       "    </tr>\n",
       "    <tr>\n",
       "      <th>38</th>\n",
       "      <td>Penalized unweighted Cox PH</td>\n",
       "      <td>IBS</td>\n",
       "      <td>0.524371</td>\n",
       "    </tr>\n",
       "    <tr>\n",
       "      <th>39</th>\n",
       "      <td>Penalized Cox PH, Barlow Weights</td>\n",
       "      <td>IBS</td>\n",
       "      <td>0.305979</td>\n",
       "    </tr>\n",
       "    <tr>\n",
       "      <th>40</th>\n",
       "      <td>Penalized Cox PH, Prentice Weights</td>\n",
       "      <td>IBS</td>\n",
       "      <td>0.158433</td>\n",
       "    </tr>\n",
       "    <tr>\n",
       "      <th>41</th>\n",
       "      <td>Penalized Cox PH, Self-Prentice Weights</td>\n",
       "      <td>IBS</td>\n",
       "      <td>0.303846</td>\n",
       "    </tr>\n",
       "    <tr>\n",
       "      <th>42</th>\n",
       "      <td>Penalized Cox PH, Adjusted Weights</td>\n",
       "      <td>IBS</td>\n",
       "      <td>0.161597</td>\n",
       "    </tr>\n",
       "    <tr>\n",
       "      <th>43</th>\n",
       "      <td>Unweighted Random Survival Forest</td>\n",
       "      <td>IBS</td>\n",
       "      <td>0.156744</td>\n",
       "    </tr>\n",
       "  </tbody>\n",
       "</table>\n",
       "</div>"
      ],
      "text/plain": [
       "                                      Model                Scorer     Score\n",
       "0                    Unweighted Cox PH, PCA  Weighted Concordance  0.710541\n",
       "1               Cox PH, Barlow Weights, PCA  Weighted Concordance  0.671967\n",
       "2             Cox PH, Prentice Weights, PCA  Weighted Concordance  0.704533\n",
       "3        Cox PH, Self-Prentice Weights, PCA  Weighted Concordance  0.644608\n",
       "4             Cox PH, Adjusted Weights, PCA  Weighted Concordance  0.682983\n",
       "5               Penalized unweighted Cox PH  Weighted Concordance  0.698799\n",
       "6          Penalized Cox PH, Barlow Weights  Weighted Concordance  0.725155\n",
       "7        Penalized Cox PH, Prentice Weights  Weighted Concordance  0.724692\n",
       "8   Penalized Cox PH, Self-Prentice Weights  Weighted Concordance  0.512993\n",
       "9        Penalized Cox PH, Adjusted Weights  Weighted Concordance  0.724785\n",
       "10        Unweighted Random Survival Forest  Weighted Concordance  0.662907\n",
       "11                   Unweighted Cox PH, PCA           Concordance  0.658544\n",
       "12              Cox PH, Barlow Weights, PCA           Concordance  0.616854\n",
       "13            Cox PH, Prentice Weights, PCA           Concordance  0.659369\n",
       "14       Cox PH, Self-Prentice Weights, PCA           Concordance  0.622375\n",
       "15            Cox PH, Adjusted Weights, PCA           Concordance  0.641157\n",
       "16              Penalized unweighted Cox PH           Concordance  0.655879\n",
       "17         Penalized Cox PH, Barlow Weights           Concordance  0.671553\n",
       "18       Penalized Cox PH, Prentice Weights           Concordance  0.671299\n",
       "19  Penalized Cox PH, Self-Prentice Weights           Concordance  0.507456\n",
       "20       Penalized Cox PH, Adjusted Weights           Concordance  0.671299\n",
       "21        Unweighted Random Survival Forest           Concordance  0.615267\n",
       "22                   Unweighted Cox PH, PCA          Weighted IBS  0.061710\n",
       "23              Cox PH, Barlow Weights, PCA          Weighted IBS  0.000128\n",
       "24            Cox PH, Prentice Weights, PCA          Weighted IBS  0.052842\n",
       "25       Cox PH, Self-Prentice Weights, PCA          Weighted IBS  0.000314\n",
       "26            Cox PH, Adjusted Weights, PCA          Weighted IBS  0.042376\n",
       "27              Penalized unweighted Cox PH          Weighted IBS  0.521457\n",
       "28         Penalized Cox PH, Barlow Weights          Weighted IBS  0.000127\n",
       "29       Penalized Cox PH, Prentice Weights          Weighted IBS  0.088469\n",
       "30  Penalized Cox PH, Self-Prentice Weights          Weighted IBS  0.000132\n",
       "31       Penalized Cox PH, Adjusted Weights          Weighted IBS  0.097396\n",
       "32        Unweighted Random Survival Forest          Weighted IBS  0.056110\n",
       "33                   Unweighted Cox PH, PCA                   IBS  0.154842\n",
       "34              Cox PH, Barlow Weights, PCA                   IBS  0.305061\n",
       "35            Cox PH, Prentice Weights, PCA                   IBS  0.163855\n",
       "36       Cox PH, Self-Prentice Weights, PCA                   IBS  0.294786\n",
       "37            Cox PH, Adjusted Weights, PCA                   IBS  0.168252\n",
       "38              Penalized unweighted Cox PH                   IBS  0.524371\n",
       "39         Penalized Cox PH, Barlow Weights                   IBS  0.305979\n",
       "40       Penalized Cox PH, Prentice Weights                   IBS  0.158433\n",
       "41  Penalized Cox PH, Self-Prentice Weights                   IBS  0.303846\n",
       "42       Penalized Cox PH, Adjusted Weights                   IBS  0.161597\n",
       "43        Unweighted Random Survival Forest                   IBS  0.156744"
      ]
     },
     "execution_count": 90,
     "metadata": {},
     "output_type": "execute_result"
    }
   ],
   "source": [
    "model_results_figure = model_results.melt(ignore_index = False).reset_index()\n",
    "model_results_figure.columns = [\"Model\", \"Scorer\", \"Score\"]\n",
    "model_results_figure"
   ]
  },
  {
   "cell_type": "code",
   "execution_count": 113,
   "id": "391a2b74-4e63-42ad-a8cd-a28db4752ab8",
   "metadata": {},
   "outputs": [
    {
     "data": {
      "image/png": "[encoded data removed]",
      "text/plain": [
       "<Figure size 720x360 with 2 Axes>"
      ]
     },
     "metadata": {},
     "output_type": "display_data"
    }
   ],
   "source": [
    "sns.set(rc = {'figure.figsize':(10.5,7)})\n",
    "sns.set_theme(style = \"whitegrid\")\n",
    "ax = sns.catplot(y = \"Model\", x = \"Score\", col = \"Scorer\" ,data = model_results_figure.query('Scorer.str.contains(\"Concordance\")',engine=\"python\"), kind = \"bar\", palette = \"magma\", orient = \"h\")\n",
    "ax.set_axis_labels(\"Value\",\"Model\")\n",
    "plt.suptitle(\"Concordance scores of fitted models on the validation data from the China Kadoorie Biobank\", y = 1.025)\n",
    "plt.savefig(\"../Project_file/diagrams/concordance_score_comparison.pdf\", bbox_inches = \"tight\")"
   ]
  },
  {
   "cell_type": "code",
   "execution_count": 112,
   "id": "200734d0-96c5-43d6-8757-dc17d955bda9",
   "metadata": {},
   "outputs": [
    {
     "data": {
      "image/png": "[encoded data removed]",
      "text/plain": [
       "<Figure size 720x360 with 2 Axes>"
      ]
     },
     "metadata": {},
     "output_type": "display_data"
    }
   ],
   "source": [
    "sns.set(rc = {'figure.figsize':(10.5,7)})\n",
    "sns.set_theme(style = \"whitegrid\")\n",
    "ax = sns.catplot(y = \"Model\", x = \"Score\", col = \"Scorer\" ,data = model_results_figure.query('Scorer.str.contains(\"IBS\")',engine=\"python\"), kind = \"bar\", palette = \"viridis\", orient = \"h\")\n",
    "ax.set_axis_labels(\"Value\",\"Model\")\n",
    "plt.suptitle(\"Integrated Brier scores of fitted models on the validation data from the China Kadoorie Biobank\", y = 1.025)\n",
    "plt.savefig(\"../Project_file/diagrams/concordance_score_comparison.pdf\", bbox_inches = \"tight\")"
   ]
  },
  {
   "cell_type": "code",
   "execution_count": 49,
   "id": "5f66d826-b897-44c9-bdf2-8e8798c47f34",
   "metadata": {},
   "outputs": [],
   "source": [
    "with open('../Project_file/tables/model_fits.tex', 'w') as tf:\n",
    "     tf.write(model_results.to_latex(float_format=\"%.4f\", bold_rows = True,multicolumn_format = \"c\",\n",
    "                                                  caption = \"(Weighted) concordance and integrated Brier scores on the validation data from the China Kadoorie Biobank.\"))"
   ]
  }
 ],
 "metadata": {
  "kernelspec": {
   "display_name": "Python 3",
   "language": "python",
   "name": "python3"
  },
  "language_info": {
   "codemirror_mode": {
    "name": "ipython",
    "version": 3
   },
   "file_extension": ".py",
   "mimetype": "text/x-python",
   "name": "python",
   "nbconvert_exporter": "python",
   "pygments_lexer": "ipython3",
   "version": "3.8.8"
  }
 },
 "nbformat": 4,
 "nbformat_minor": 5
}

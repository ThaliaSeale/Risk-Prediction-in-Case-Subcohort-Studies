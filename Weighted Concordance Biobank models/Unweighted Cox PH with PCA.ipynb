{
 "cells": [
  {
   "cell_type": "markdown",
   "id": "e1288b58",
   "metadata": {},
   "source": [
    "# Unweighted Cox PH with PCA\n",
    "Fitting the unweighted Cox PH model."
   ]
  },
  {
   "cell_type": "code",
   "execution_count": 1,
   "id": "d5e3804f",
   "metadata": {},
   "outputs": [],
   "source": [
    "import numpy as np\n",
    "import pandas as pd\n",
    "from datetime import datetime\n",
    "\n",
    "import pickle"
   ]
  },
  {
   "cell_type": "code",
   "execution_count": 2,
   "id": "a7ab34ea",
   "metadata": {},
   "outputs": [],
   "source": [
    "from weighted_concordance import *"
   ]
  },
  {
   "cell_type": "code",
   "execution_count": 3,
   "id": "e1777159",
   "metadata": {},
   "outputs": [],
   "source": [
    "pd.set_option('display.max_columns', None,'display.max_rows',20)"
   ]
  },
  {
   "cell_type": "code",
   "execution_count": 4,
   "id": "e69f69e4",
   "metadata": {},
   "outputs": [],
   "source": [
    "from lifelines import CoxPHFitter\n",
    "from lifelines.utils import datetimes_to_durations, concordance_index"
   ]
  },
  {
   "cell_type": "code",
   "execution_count": 5,
   "id": "1517ecb7",
   "metadata": {},
   "outputs": [],
   "source": [
    "# importing data\n",
    "X_tr = pd.read_csv(\"D:/compiled_data/X_tr.csv\").set_index(\"csid\")\n",
    "\n",
    "y = pd.read_csv(\"D:/compiled_data/y.csv\").set_index(\"csid\")"
   ]
  },
  {
   "cell_type": "markdown",
   "id": "9a7e5f9e-4229-4865-9641-1ad435f2d50a",
   "metadata": {},
   "source": [
    "Convert date-time from text format to datetime format:"
   ]
  },
  {
   "cell_type": "code",
   "execution_count": 6,
   "id": "ebafa040",
   "metadata": {},
   "outputs": [],
   "source": [
    "def date_time_conversion(date):\n",
    "    return(datetime.strptime(date,\"%Y-%m-%dT%H:%M:%SZ\"))"
   ]
  },
  {
   "cell_type": "code",
   "execution_count": 7,
   "id": "defacbf0",
   "metadata": {
    "scrolled": true
   },
   "outputs": [],
   "source": [
    "# Coverting the times into datetime format\n",
    "y_tr = y.assign(\n",
    "    event = y.ep_CKB0020_combined_ep,\n",
    "    start_time = y.study_date.map(date_time_conversion),\n",
    "    event_time = y.ep_CKB0020_combined_datedeveloped.map(date_time_conversion)\n",
    ").drop(columns = y.columns)\n",
    "y_tr[\"duration\"] = datetimes_to_durations(y_tr[\"start_time\"],y_tr[\"event_time\"])[0]\n",
    "y_tr[\"subcohort\"] = y[\"subcohort\"]\n",
    "y_tr = y_tr.drop(columns = [\"start_time\",\"event_time\"])"
   ]
  },
  {
   "cell_type": "markdown",
   "id": "507b015a",
   "metadata": {},
   "source": [
    "## Fitting Model"
   ]
  },
  {
   "cell_type": "markdown",
   "id": "dde24c95-eccc-4361-8955-7ea3925bb365",
   "metadata": {},
   "source": [
    "Running the model on the original dataset causes convergence error:"
   ]
  },
  {
   "cell_type": "code",
   "execution_count": 8,
   "id": "87ea0ed4-bb4c-419d-b5a3-bfd3676b4e30",
   "metadata": {},
   "outputs": [
    {
     "name": "stderr",
     "output_type": "stream",
     "text": [
      "C:\\Users\\thali\\anaconda3\\lib\\site-packages\\lifelines\\utils\\__init__.py:1123: ConvergenceWarning: Column cancer_site_1.0 have very low variance when conditioned on death event present or not. This may harm convergence. This could be a form of 'complete separation'. For example, try the following code:\n",
      "\n",
      ">>> events = df['event'].astype(bool)\n",
      ">>> print(df.loc[events, 'cancer_site_1.0'].var())\n",
      ">>> print(df.loc[~events, 'cancer_site_1.0'].var())\n",
      "\n",
      "A very low variance means that the column cancer_site_1.0 completely determines whether a subject dies or not. See https://stats.stackexchange.com/questions/11109/how-to-deal-with-perfect-separation-in-logistic-regression.\n",
      "\n",
      "  warnings.warn(dedent(warning_text), ConvergenceWarning)\n"
     ]
    },
    {
     "ename": "ConvergenceError",
     "evalue": "Convergence halted due to matrix inversion problems. Suspicion is high collinearity. Please see the following tips in the lifelines documentation: https://lifelines.readthedocs.io/en/latest/Examples.html#problems-with-convergence-in-the-cox-proportional-hazard-modelMatrix is singular.",
     "output_type": "error",
     "traceback": [
      "\u001b[1;31m---------------------------------------------------------------------------\u001b[0m",
      "\u001b[1;31mLinAlgError\u001b[0m                               Traceback (most recent call last)",
      "\u001b[1;32m~\\anaconda3\\lib\\site-packages\\lifelines\\fitters\\coxph_fitter.py\u001b[0m in \u001b[0;36m_newton_rhapson_for_efron_model\u001b[1;34m(self, X, T, E, weights, entries, initial_point, show_progress, step_size, precision, max_steps)\u001b[0m\n\u001b[0;32m   1525\u001b[0m             \u001b[1;32mtry\u001b[0m\u001b[1;33m:\u001b[0m\u001b[1;33m\u001b[0m\u001b[1;33m\u001b[0m\u001b[0m\n\u001b[1;32m-> 1526\u001b[1;33m                 \u001b[0minv_h_dot_g_T\u001b[0m \u001b[1;33m=\u001b[0m \u001b[0mspsolve\u001b[0m\u001b[1;33m(\u001b[0m\u001b[1;33m-\u001b[0m\u001b[0mh\u001b[0m\u001b[1;33m,\u001b[0m \u001b[0mg\u001b[0m\u001b[1;33m,\u001b[0m \u001b[0massume_a\u001b[0m\u001b[1;33m=\u001b[0m\u001b[1;34m\"pos\"\u001b[0m\u001b[1;33m,\u001b[0m \u001b[0mcheck_finite\u001b[0m\u001b[1;33m=\u001b[0m\u001b[1;32mFalse\u001b[0m\u001b[1;33m)\u001b[0m\u001b[1;33m\u001b[0m\u001b[1;33m\u001b[0m\u001b[0m\n\u001b[0m\u001b[0;32m   1527\u001b[0m             \u001b[1;32mexcept\u001b[0m \u001b[1;33m(\u001b[0m\u001b[0mValueError\u001b[0m\u001b[1;33m,\u001b[0m \u001b[0mLinAlgError\u001b[0m\u001b[1;33m)\u001b[0m \u001b[1;32mas\u001b[0m \u001b[0me\u001b[0m\u001b[1;33m:\u001b[0m\u001b[1;33m\u001b[0m\u001b[1;33m\u001b[0m\u001b[0m\n",
      "\u001b[1;32m~\\anaconda3\\lib\\site-packages\\scipy\\linalg\\basic.py\u001b[0m in \u001b[0;36msolve\u001b[1;34m(a, b, sym_pos, lower, overwrite_a, overwrite_b, debug, check_finite, assume_a, transposed)\u001b[0m\n\u001b[0;32m    247\u001b[0m                            overwrite_b=overwrite_b)\n\u001b[1;32m--> 248\u001b[1;33m         \u001b[0m_solve_check\u001b[0m\u001b[1;33m(\u001b[0m\u001b[0mn\u001b[0m\u001b[1;33m,\u001b[0m \u001b[0minfo\u001b[0m\u001b[1;33m)\u001b[0m\u001b[1;33m\u001b[0m\u001b[1;33m\u001b[0m\u001b[0m\n\u001b[0m\u001b[0;32m    249\u001b[0m         \u001b[0mrcond\u001b[0m\u001b[1;33m,\u001b[0m \u001b[0minfo\u001b[0m \u001b[1;33m=\u001b[0m \u001b[0mpocon\u001b[0m\u001b[1;33m(\u001b[0m\u001b[0mlu\u001b[0m\u001b[1;33m,\u001b[0m \u001b[0manorm\u001b[0m\u001b[1;33m)\u001b[0m\u001b[1;33m\u001b[0m\u001b[1;33m\u001b[0m\u001b[0m\n",
      "\u001b[1;32m~\\anaconda3\\lib\\site-packages\\scipy\\linalg\\basic.py\u001b[0m in \u001b[0;36m_solve_check\u001b[1;34m(n, info, lamch, rcond)\u001b[0m\n\u001b[0;32m     28\u001b[0m     \u001b[1;32melif\u001b[0m \u001b[1;36m0\u001b[0m \u001b[1;33m<\u001b[0m \u001b[0minfo\u001b[0m\u001b[1;33m:\u001b[0m\u001b[1;33m\u001b[0m\u001b[1;33m\u001b[0m\u001b[0m\n\u001b[1;32m---> 29\u001b[1;33m         \u001b[1;32mraise\u001b[0m \u001b[0mLinAlgError\u001b[0m\u001b[1;33m(\u001b[0m\u001b[1;34m'Matrix is singular.'\u001b[0m\u001b[1;33m)\u001b[0m\u001b[1;33m\u001b[0m\u001b[1;33m\u001b[0m\u001b[0m\n\u001b[0m\u001b[0;32m     30\u001b[0m \u001b[1;33m\u001b[0m\u001b[0m\n",
      "\u001b[1;31mLinAlgError\u001b[0m: Matrix is singular.",
      "\nDuring handling of the above exception, another exception occurred:\n",
      "\u001b[1;31mConvergenceError\u001b[0m                          Traceback (most recent call last)",
      "\u001b[1;32m<ipython-input-8-035a12d9183a>\u001b[0m in \u001b[0;36m<module>\u001b[1;34m\u001b[0m\n\u001b[0;32m      2\u001b[0m \u001b[1;33m\u001b[0m\u001b[0m\n\u001b[0;32m      3\u001b[0m \u001b[0mcph\u001b[0m \u001b[1;33m=\u001b[0m \u001b[0mCoxPHFitter\u001b[0m\u001b[1;33m(\u001b[0m\u001b[1;33m)\u001b[0m\u001b[1;33m\u001b[0m\u001b[1;33m\u001b[0m\u001b[0m\n\u001b[1;32m----> 4\u001b[1;33m \u001b[0mcph\u001b[0m\u001b[1;33m.\u001b[0m\u001b[0mfit\u001b[0m\u001b[1;33m(\u001b[0m\u001b[0mcase_subcohort_df\u001b[0m\u001b[1;33m,\u001b[0m \u001b[0mduration_col\u001b[0m \u001b[1;33m=\u001b[0m \u001b[1;34m\"duration\"\u001b[0m\u001b[1;33m,\u001b[0m \u001b[0mevent_col\u001b[0m \u001b[1;33m=\u001b[0m \u001b[1;34m\"event\"\u001b[0m\u001b[1;33m)\u001b[0m\u001b[1;33m\u001b[0m\u001b[1;33m\u001b[0m\u001b[0m\n\u001b[0m",
      "\u001b[1;32m~\\anaconda3\\lib\\site-packages\\lifelines\\utils\\__init__.py\u001b[0m in \u001b[0;36mf\u001b[1;34m(model, *args, **kwargs)\u001b[0m\n\u001b[0;32m     54\u001b[0m         \u001b[1;32mdef\u001b[0m \u001b[0mf\u001b[0m\u001b[1;33m(\u001b[0m\u001b[0mmodel\u001b[0m\u001b[1;33m,\u001b[0m \u001b[1;33m*\u001b[0m\u001b[0margs\u001b[0m\u001b[1;33m,\u001b[0m \u001b[1;33m**\u001b[0m\u001b[0mkwargs\u001b[0m\u001b[1;33m)\u001b[0m\u001b[1;33m:\u001b[0m\u001b[1;33m\u001b[0m\u001b[1;33m\u001b[0m\u001b[0m\n\u001b[0;32m     55\u001b[0m             \u001b[0mcls\u001b[0m\u001b[1;33m.\u001b[0m\u001b[0mset_censoring_type\u001b[0m\u001b[1;33m(\u001b[0m\u001b[0mmodel\u001b[0m\u001b[1;33m,\u001b[0m \u001b[0mcls\u001b[0m\u001b[1;33m.\u001b[0m\u001b[0mRIGHT\u001b[0m\u001b[1;33m)\u001b[0m\u001b[1;33m\u001b[0m\u001b[1;33m\u001b[0m\u001b[0m\n\u001b[1;32m---> 56\u001b[1;33m             \u001b[1;32mreturn\u001b[0m \u001b[0mfunction\u001b[0m\u001b[1;33m(\u001b[0m\u001b[0mmodel\u001b[0m\u001b[1;33m,\u001b[0m \u001b[1;33m*\u001b[0m\u001b[0margs\u001b[0m\u001b[1;33m,\u001b[0m \u001b[1;33m**\u001b[0m\u001b[0mkwargs\u001b[0m\u001b[1;33m)\u001b[0m\u001b[1;33m\u001b[0m\u001b[1;33m\u001b[0m\u001b[0m\n\u001b[0m\u001b[0;32m     57\u001b[0m \u001b[1;33m\u001b[0m\u001b[0m\n\u001b[0;32m     58\u001b[0m         \u001b[1;32mreturn\u001b[0m \u001b[0mf\u001b[0m\u001b[1;33m\u001b[0m\u001b[1;33m\u001b[0m\u001b[0m\n",
      "\u001b[1;32m~\\anaconda3\\lib\\site-packages\\lifelines\\fitters\\coxph_fitter.py\u001b[0m in \u001b[0;36mfit\u001b[1;34m(self, df, duration_col, event_col, show_progress, initial_point, strata, weights_col, cluster_col, robust, batch_mode, timeline, formula, entry_col, fit_options)\u001b[0m\n\u001b[0;32m    288\u001b[0m         \"\"\"\n\u001b[0;32m    289\u001b[0m         \u001b[0mself\u001b[0m\u001b[1;33m.\u001b[0m\u001b[0mstrata\u001b[0m \u001b[1;33m=\u001b[0m \u001b[0mutils\u001b[0m\u001b[1;33m.\u001b[0m\u001b[0mcoalesce\u001b[0m\u001b[1;33m(\u001b[0m\u001b[0mstrata\u001b[0m\u001b[1;33m,\u001b[0m \u001b[0mself\u001b[0m\u001b[1;33m.\u001b[0m\u001b[0mstrata\u001b[0m\u001b[1;33m)\u001b[0m\u001b[1;33m\u001b[0m\u001b[1;33m\u001b[0m\u001b[0m\n\u001b[1;32m--> 290\u001b[1;33m         self._model = self._fit_model(\n\u001b[0m\u001b[0;32m    291\u001b[0m             \u001b[0mdf\u001b[0m\u001b[1;33m,\u001b[0m\u001b[1;33m\u001b[0m\u001b[1;33m\u001b[0m\u001b[0m\n\u001b[0;32m    292\u001b[0m             \u001b[0mduration_col\u001b[0m\u001b[1;33m,\u001b[0m\u001b[1;33m\u001b[0m\u001b[1;33m\u001b[0m\u001b[0m\n",
      "\u001b[1;32m~\\anaconda3\\lib\\site-packages\\lifelines\\fitters\\coxph_fitter.py\u001b[0m in \u001b[0;36m_fit_model\u001b[1;34m(self, *args, **kwargs)\u001b[0m\n\u001b[0;32m    608\u001b[0m     \u001b[1;32mdef\u001b[0m \u001b[0m_fit_model\u001b[0m\u001b[1;33m(\u001b[0m\u001b[0mself\u001b[0m\u001b[1;33m,\u001b[0m \u001b[1;33m*\u001b[0m\u001b[0margs\u001b[0m\u001b[1;33m,\u001b[0m \u001b[1;33m**\u001b[0m\u001b[0mkwargs\u001b[0m\u001b[1;33m)\u001b[0m\u001b[1;33m:\u001b[0m\u001b[1;33m\u001b[0m\u001b[1;33m\u001b[0m\u001b[0m\n\u001b[0;32m    609\u001b[0m         \u001b[1;32mif\u001b[0m \u001b[0mself\u001b[0m\u001b[1;33m.\u001b[0m\u001b[0mbaseline_estimation_method\u001b[0m \u001b[1;33m==\u001b[0m \u001b[1;34m\"breslow\"\u001b[0m\u001b[1;33m:\u001b[0m\u001b[1;33m\u001b[0m\u001b[1;33m\u001b[0m\u001b[0m\n\u001b[1;32m--> 610\u001b[1;33m             \u001b[1;32mreturn\u001b[0m \u001b[0mself\u001b[0m\u001b[1;33m.\u001b[0m\u001b[0m_fit_model_breslow\u001b[0m\u001b[1;33m(\u001b[0m\u001b[1;33m*\u001b[0m\u001b[0margs\u001b[0m\u001b[1;33m,\u001b[0m \u001b[1;33m**\u001b[0m\u001b[0mkwargs\u001b[0m\u001b[1;33m)\u001b[0m\u001b[1;33m\u001b[0m\u001b[1;33m\u001b[0m\u001b[0m\n\u001b[0m\u001b[0;32m    611\u001b[0m         \u001b[1;32melif\u001b[0m \u001b[0mself\u001b[0m\u001b[1;33m.\u001b[0m\u001b[0mbaseline_estimation_method\u001b[0m \u001b[1;33m==\u001b[0m \u001b[1;34m\"spline\"\u001b[0m\u001b[1;33m:\u001b[0m\u001b[1;33m\u001b[0m\u001b[1;33m\u001b[0m\u001b[0m\n\u001b[0;32m    612\u001b[0m             \u001b[1;32mreturn\u001b[0m \u001b[0mself\u001b[0m\u001b[1;33m.\u001b[0m\u001b[0m_fit_model_spline\u001b[0m\u001b[1;33m(\u001b[0m\u001b[1;33m*\u001b[0m\u001b[0margs\u001b[0m\u001b[1;33m,\u001b[0m \u001b[1;33m**\u001b[0m\u001b[0mkwargs\u001b[0m\u001b[1;33m)\u001b[0m\u001b[1;33m\u001b[0m\u001b[1;33m\u001b[0m\u001b[0m\n",
      "\u001b[1;32m~\\anaconda3\\lib\\site-packages\\lifelines\\fitters\\coxph_fitter.py\u001b[0m in \u001b[0;36m_fit_model_breslow\u001b[1;34m(self, *args, **kwargs)\u001b[0m\n\u001b[0;32m    621\u001b[0m         )\n\u001b[0;32m    622\u001b[0m         \u001b[1;32mif\u001b[0m \u001b[0mutils\u001b[0m\u001b[1;33m.\u001b[0m\u001b[0mCensoringType\u001b[0m\u001b[1;33m.\u001b[0m\u001b[0mis_right_censoring\u001b[0m\u001b[1;33m(\u001b[0m\u001b[0mself\u001b[0m\u001b[1;33m)\u001b[0m\u001b[1;33m:\u001b[0m\u001b[1;33m\u001b[0m\u001b[1;33m\u001b[0m\u001b[0m\n\u001b[1;32m--> 623\u001b[1;33m             \u001b[0mmodel\u001b[0m\u001b[1;33m.\u001b[0m\u001b[0mfit\u001b[0m\u001b[1;33m(\u001b[0m\u001b[1;33m*\u001b[0m\u001b[0margs\u001b[0m\u001b[1;33m,\u001b[0m \u001b[1;33m**\u001b[0m\u001b[0mkwargs\u001b[0m\u001b[1;33m)\u001b[0m\u001b[1;33m\u001b[0m\u001b[1;33m\u001b[0m\u001b[0m\n\u001b[0m\u001b[0;32m    624\u001b[0m             \u001b[1;32mreturn\u001b[0m \u001b[0mmodel\u001b[0m\u001b[1;33m\u001b[0m\u001b[1;33m\u001b[0m\u001b[0m\n\u001b[0;32m    625\u001b[0m         \u001b[1;32melse\u001b[0m\u001b[1;33m:\u001b[0m\u001b[1;33m\u001b[0m\u001b[1;33m\u001b[0m\u001b[0m\n",
      "\u001b[1;32m~\\anaconda3\\lib\\site-packages\\lifelines\\utils\\__init__.py\u001b[0m in \u001b[0;36mf\u001b[1;34m(model, *args, **kwargs)\u001b[0m\n\u001b[0;32m     54\u001b[0m         \u001b[1;32mdef\u001b[0m \u001b[0mf\u001b[0m\u001b[1;33m(\u001b[0m\u001b[0mmodel\u001b[0m\u001b[1;33m,\u001b[0m \u001b[1;33m*\u001b[0m\u001b[0margs\u001b[0m\u001b[1;33m,\u001b[0m \u001b[1;33m**\u001b[0m\u001b[0mkwargs\u001b[0m\u001b[1;33m)\u001b[0m\u001b[1;33m:\u001b[0m\u001b[1;33m\u001b[0m\u001b[1;33m\u001b[0m\u001b[0m\n\u001b[0;32m     55\u001b[0m             \u001b[0mcls\u001b[0m\u001b[1;33m.\u001b[0m\u001b[0mset_censoring_type\u001b[0m\u001b[1;33m(\u001b[0m\u001b[0mmodel\u001b[0m\u001b[1;33m,\u001b[0m \u001b[0mcls\u001b[0m\u001b[1;33m.\u001b[0m\u001b[0mRIGHT\u001b[0m\u001b[1;33m)\u001b[0m\u001b[1;33m\u001b[0m\u001b[1;33m\u001b[0m\u001b[0m\n\u001b[1;32m---> 56\u001b[1;33m             \u001b[1;32mreturn\u001b[0m \u001b[0mfunction\u001b[0m\u001b[1;33m(\u001b[0m\u001b[0mmodel\u001b[0m\u001b[1;33m,\u001b[0m \u001b[1;33m*\u001b[0m\u001b[0margs\u001b[0m\u001b[1;33m,\u001b[0m \u001b[1;33m**\u001b[0m\u001b[0mkwargs\u001b[0m\u001b[1;33m)\u001b[0m\u001b[1;33m\u001b[0m\u001b[1;33m\u001b[0m\u001b[0m\n\u001b[0m\u001b[0;32m     57\u001b[0m \u001b[1;33m\u001b[0m\u001b[0m\n\u001b[0;32m     58\u001b[0m         \u001b[1;32mreturn\u001b[0m \u001b[0mf\u001b[0m\u001b[1;33m\u001b[0m\u001b[1;33m\u001b[0m\u001b[0m\n",
      "\u001b[1;32m~\\anaconda3\\lib\\site-packages\\lifelines\\fitters\\coxph_fitter.py\u001b[0m in \u001b[0;36mfit\u001b[1;34m(self, df, duration_col, event_col, show_progress, initial_point, strata, weights_col, cluster_col, robust, batch_mode, timeline, formula, entry_col, fit_options)\u001b[0m\n\u001b[0;32m   1250\u001b[0m         )\n\u001b[0;32m   1251\u001b[0m \u001b[1;33m\u001b[0m\u001b[0m\n\u001b[1;32m-> 1252\u001b[1;33m         params_, ll_, variance_matrix_, baseline_hazard_, baseline_cumulative_hazard_, model = self._fit_model(\n\u001b[0m\u001b[0;32m   1253\u001b[0m             \u001b[0mX_norm\u001b[0m\u001b[1;33m,\u001b[0m\u001b[1;33m\u001b[0m\u001b[1;33m\u001b[0m\u001b[0m\n\u001b[0;32m   1254\u001b[0m             \u001b[0mT\u001b[0m\u001b[1;33m,\u001b[0m\u001b[1;33m\u001b[0m\u001b[1;33m\u001b[0m\u001b[0m\n",
      "\u001b[1;32m~\\anaconda3\\lib\\site-packages\\lifelines\\fitters\\coxph_fitter.py\u001b[0m in \u001b[0;36m_fit_model\u001b[1;34m(self, X, T, E, weights, entries, fit_options, initial_point, show_progress)\u001b[0m\n\u001b[0;32m   1378\u001b[0m         \u001b[0mshow_progress\u001b[0m\u001b[1;33m:\u001b[0m \u001b[0mbool\u001b[0m \u001b[1;33m=\u001b[0m \u001b[1;32mTrue\u001b[0m\u001b[1;33m,\u001b[0m\u001b[1;33m\u001b[0m\u001b[1;33m\u001b[0m\u001b[0m\n\u001b[0;32m   1379\u001b[0m     ):\n\u001b[1;32m-> 1380\u001b[1;33m         beta_, ll_, hessian_ = self._newton_rhapson_for_efron_model(\n\u001b[0m\u001b[0;32m   1381\u001b[0m             \u001b[0mX\u001b[0m\u001b[1;33m,\u001b[0m\u001b[1;33m\u001b[0m\u001b[1;33m\u001b[0m\u001b[0m\n\u001b[0;32m   1382\u001b[0m             \u001b[0mT\u001b[0m\u001b[1;33m,\u001b[0m\u001b[1;33m\u001b[0m\u001b[1;33m\u001b[0m\u001b[0m\n",
      "\u001b[1;32m~\\anaconda3\\lib\\site-packages\\lifelines\\fitters\\coxph_fitter.py\u001b[0m in \u001b[0;36m_newton_rhapson_for_efron_model\u001b[1;34m(self, X, T, E, weights, entries, initial_point, show_progress, step_size, precision, max_steps)\u001b[0m\n\u001b[0;32m   1533\u001b[0m                     )\n\u001b[0;32m   1534\u001b[0m                 \u001b[1;32melif\u001b[0m \u001b[0misinstance\u001b[0m\u001b[1;33m(\u001b[0m\u001b[0me\u001b[0m\u001b[1;33m,\u001b[0m \u001b[0mLinAlgError\u001b[0m\u001b[1;33m)\u001b[0m\u001b[1;33m:\u001b[0m\u001b[1;33m\u001b[0m\u001b[1;33m\u001b[0m\u001b[0m\n\u001b[1;32m-> 1535\u001b[1;33m                     raise exceptions.ConvergenceError(\n\u001b[0m\u001b[0;32m   1536\u001b[0m                         \"\"\"Convergence halted due to matrix inversion problems. Suspicion is high collinearity. {0}\"\"\".format(\n\u001b[0;32m   1537\u001b[0m                             \u001b[0mCONVERGENCE_DOCS\u001b[0m\u001b[1;33m\u001b[0m\u001b[1;33m\u001b[0m\u001b[0m\n",
      "\u001b[1;31mConvergenceError\u001b[0m: Convergence halted due to matrix inversion problems. Suspicion is high collinearity. Please see the following tips in the lifelines documentation: https://lifelines.readthedocs.io/en/latest/Examples.html#problems-with-convergence-in-the-cox-proportional-hazard-modelMatrix is singular."
     ]
    }
   ],
   "source": [
    "case_subcohort_df = X_tr.join(y_tr).drop(columns = \"subcohort\").drop_duplicates()\n",
    "\n",
    "cph = CoxPHFitter()\n",
    "cph.fit(case_subcohort_df, duration_col = \"duration\", event_col = \"event\")"
   ]
  },
  {
   "cell_type": "markdown",
   "id": "4c7f4f75-4c4e-4d66-ac20-3f2e7ab8097d",
   "metadata": {},
   "source": [
    "We use PCA to reduce dimension to remedy convergence issues. Number of components will be selected by cross-validation:"
   ]
  },
  {
   "cell_type": "code",
   "execution_count": 10,
   "id": "0e53a3da",
   "metadata": {},
   "outputs": [],
   "source": [
    "from sklearn.model_selection import KFold\n",
    "from sklearn.decomposition import PCA"
   ]
  },
  {
   "cell_type": "code",
   "execution_count": 15,
   "id": "d3af9527",
   "metadata": {},
   "outputs": [
    {
     "name": "stdout",
     "output_type": "stream",
     "text": [
      "[0.6331830468305198, 0.6334525767640352, 0.6436833504274709, 0.6523320907856919, 0.6690591810745591, 0.6924871346572421, 0.7019508318677893, 0.7026587382127785, 0.7186831004733568, 0.7403933774769605, 0.7319112210617921, 0.7472116102446741, 0.7468810977582917, 0.7387952736994302, 0.7479126526509329, 0.7295796846268602, 0.7184389176569698, 0.7092828556812312, 0.7270595367179107]\n",
      "Best variation percentage: [0.7]\n"
     ]
    }
   ],
   "source": [
    "cox_pca_scores = []\n",
    "nfolds = 3\n",
    "\n",
    "for i in range(1,20):\n",
    "    \n",
    "    \n",
    "    # Configuring the folds on the data\n",
    "    kf = KFold(n_splits=3,shuffle = True)\n",
    "    kf.get_n_splits(X_tr)\n",
    "    \n",
    "    # Scores for the model on each fold\n",
    "    scores = [] \n",
    "    \n",
    "    # fitting the model on each fold\n",
    "    for train_index, test_index in kf.split(X_tr):\n",
    "        X_tr_train, X_tr_test = X_tr.iloc[train_index], X_tr.iloc[test_index]\n",
    "        y_tr_train, y_tr_test = y_tr.iloc[train_index], y_tr.iloc[test_index]\n",
    "            \n",
    "        pca = PCA(n_components = i/20)\n",
    "        X_tr_train_pca = pd.DataFrame(pca.fit_transform(X_tr_train))\n",
    "        X_tr_train_pca.index = X_tr_train.index\n",
    "\n",
    "        # creating a single case subcohort dataframe\n",
    "        case_subcohort_df_pca = X_tr_train_pca.join(y_tr_train).drop(columns = \"subcohort\").drop_duplicates()\n",
    "        \n",
    "        # fitting model\n",
    "        cph = CoxPHFitter()\n",
    "        cph.fit(case_subcohort_df_pca, duration_col = \"duration\", event_col = \"event\")\n",
    "        \n",
    "        # evaluating performance using weighted concordance\n",
    "        event_times = y_tr_test[\"duration\"]\n",
    "        event_observed = y_tr_test[\"event\"]\n",
    "        \n",
    "        X_tr_test_pca = pca.transform(X_tr_test)\n",
    "\n",
    "        test_preds = cph.predict_partial_hazard(X_tr_test_pca)\n",
    "        \n",
    "        scores.append(weighted_concordance(event_times, test_preds, event_observed, samp_fraction = \n",
    "0.0011604684001529089/nfolds))\n",
    "        \n",
    "    cox_pca_scores.append(np.mean(scores))\n",
    "    \n",
    "print(cox_pca_scores)\n",
    "print(\"Best variation percentage:\",np.where(cox_pca_scores == np.max(cox_pca_scores))[0]/20)"
   ]
  },
  {
   "cell_type": "markdown",
   "id": "25874650",
   "metadata": {},
   "source": [
    "So it seems like 0.7 of the variance has the best concordance scores. The final model:"
   ]
  },
  {
   "cell_type": "code",
   "execution_count": 11,
   "id": "54760f5b",
   "metadata": {},
   "outputs": [],
   "source": [
    "pca = PCA(n_components = 0.7)\n",
    "X_tr_pca = pd.DataFrame(pca.fit_transform(X_tr))\n",
    "X_tr_pca.index = X_tr.index"
   ]
  },
  {
   "cell_type": "code",
   "execution_count": 12,
   "id": "95e0b86a",
   "metadata": {},
   "outputs": [],
   "source": [
    "# Saving Model\n",
    "pickle.dump(pca, open('unweighted_cox_pca_wc.pkl', 'wb'))"
   ]
  },
  {
   "cell_type": "code",
   "execution_count": 13,
   "id": "7525564e",
   "metadata": {},
   "outputs": [
    {
     "data": {
      "text/plain": [
       "<lifelines.CoxPHFitter: fitted with 1187 total observations, 593 right-censored observations>"
      ]
     },
     "execution_count": 13,
     "metadata": {},
     "output_type": "execute_result"
    }
   ],
   "source": [
    "# creating a single case subcohort dataframe\n",
    "case_subcohort_df_pca = X_tr_pca.join(y_tr).drop(columns = \"subcohort\").drop_duplicates()\n",
    "\n",
    "# creating the model and fitting the data\n",
    "cph = CoxPHFitter()\n",
    "cph.fit(case_subcohort_df_pca, duration_col = \"duration\", event_col = \"event\")"
   ]
  },
  {
   "cell_type": "code",
   "execution_count": 14,
   "id": "3c662f1e",
   "metadata": {},
   "outputs": [],
   "source": [
    "# Saving Model\n",
    "pickle.dump(cph, open('unweighted_cox_wc.pkl', 'wb'))"
   ]
  }
 ],
 "metadata": {
  "kernelspec": {
   "display_name": "Python 3",
   "language": "python",
   "name": "python3"
  },
  "language_info": {
   "codemirror_mode": {
    "name": "ipython",
    "version": 3
   },
   "file_extension": ".py",
   "mimetype": "text/x-python",
   "name": "python",
   "nbconvert_exporter": "python",
   "pygments_lexer": "ipython3",
   "version": "3.8.8"
  }
 },
 "nbformat": 4,
 "nbformat_minor": 5
}

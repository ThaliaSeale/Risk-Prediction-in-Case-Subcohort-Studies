{
 "cells": [
  {
   "cell_type": "markdown",
   "id": "e1288b58",
   "metadata": {},
   "source": [
    "# Barlow Cox PH model with PCA\n",
    "Fitting Cox PH model with Barlow weights."
   ]
  },
  {
   "cell_type": "code",
   "execution_count": 2,
   "id": "29318ac0",
   "metadata": {},
   "outputs": [],
   "source": [
    "import numpy as np\n",
    "import pandas as pd\n",
    "from datetime import datetime\n",
    "\n",
    "import pickle\n",
    "\n",
    "from weighted_concordance import *"
   ]
  },
  {
   "cell_type": "code",
   "execution_count": 3,
   "id": "ff18f6b0",
   "metadata": {},
   "outputs": [],
   "source": [
    "# pd.set_option('display.max_columns', None,'display.max_rows',20)"
   ]
  },
  {
   "cell_type": "code",
   "execution_count": 4,
   "id": "e69f69e4",
   "metadata": {},
   "outputs": [],
   "source": [
    "from lifelines import CoxPHFitter\n",
    "from lifelines.utils import datetimes_to_durations"
   ]
  },
  {
   "cell_type": "code",
   "execution_count": 5,
   "id": "1517ecb7",
   "metadata": {},
   "outputs": [],
   "source": [
    "# importing data\n",
    "X_tr = pd.read_csv(\"D:/compiled_data/X_tr.csv\").set_index(\"csid\")\n",
    "\n",
    "y = pd.read_csv(\"D:/compiled_data/y.csv\").set_index(\"csid\")"
   ]
  },
  {
   "cell_type": "markdown",
   "id": "ea6e320a-a446-46d3-b78e-38d14816cb75",
   "metadata": {},
   "source": [
    "Converting date-times from string format to datetime format."
   ]
  },
  {
   "cell_type": "code",
   "execution_count": 6,
   "id": "ebafa040",
   "metadata": {},
   "outputs": [],
   "source": [
    "def date_time_conversion(date):\n",
    "    return(datetime.strptime(date,\"%Y-%m-%dT%H:%M:%SZ\"))"
   ]
  },
  {
   "cell_type": "code",
   "execution_count": 7,
   "id": "defacbf0",
   "metadata": {
    "scrolled": true
   },
   "outputs": [],
   "source": [
    "# Coverting the times into datetime format\n",
    "y_tr = y.assign(\n",
    "    event = y.ep_CKB0020_combined_ep,\n",
    "    start_time = y.study_date.map(date_time_conversion),\n",
    "    event_time = y.ep_CKB0020_combined_datedeveloped.map(date_time_conversion)\n",
    ").drop(columns = y.columns)\n",
    "y_tr[\"duration\"] = datetimes_to_durations(y_tr[\"start_time\"],y_tr[\"event_time\"])[0]\n",
    "y_tr[\"subcohort\"] = y[\"subcohort\"]\n",
    "y_tr = y_tr.drop(columns = [\"start_time\",\"event_time\"])"
   ]
  },
  {
   "cell_type": "markdown",
   "id": "507b015a",
   "metadata": {},
   "source": [
    "## Fitting Model"
   ]
  },
  {
   "cell_type": "markdown",
   "id": "40f28aa7-2fda-4da6-adeb-0c7a89c61510",
   "metadata": {},
   "source": [
    "Model fails to converge when naively applied to the data:"
   ]
  },
  {
   "cell_type": "code",
   "execution_count": 9,
   "id": "43d3ff66-b038-4e27-ab70-e8258e0490e1",
   "metadata": {
    "scrolled": true
   },
   "outputs": [
    {
     "name": "stderr",
     "output_type": "stream",
     "text": [
      "C:\\Users\\thali\\anaconda3\\lib\\site-packages\\lifelines\\utils\\__init__.py:1123: ConvergenceWarning: Column cancer_site_1.0 have very low variance when conditioned on death event present or not. This may harm convergence. This could be a form of 'complete separation'. For example, try the following code:\n",
      "\n",
      ">>> events = df['event'].astype(bool)\n",
      ">>> print(df.loc[events, 'cancer_site_1.0'].var())\n",
      ">>> print(df.loc[~events, 'cancer_site_1.0'].var())\n",
      "\n",
      "A very low variance means that the column cancer_site_1.0 completely determines whether a subject dies or not. See https://stats.stackexchange.com/questions/11109/how-to-deal-with-perfect-separation-in-logistic-regression.\n",
      "\n",
      "  warnings.warn(dedent(warning_text), ConvergenceWarning)\n"
     ]
    },
    {
     "ename": "ConvergenceError",
     "evalue": "Convergence halted due to matrix inversion problems. Suspicion is high collinearity. Please see the following tips in the lifelines documentation: https://lifelines.readthedocs.io/en/latest/Examples.html#problems-with-convergence-in-the-cox-proportional-hazard-modelMatrix is singular.",
     "output_type": "error",
     "traceback": [
      "\u001b[1;31m---------------------------------------------------------------------------\u001b[0m",
      "\u001b[1;31mLinAlgError\u001b[0m                               Traceback (most recent call last)",
      "\u001b[1;32m~\\anaconda3\\lib\\site-packages\\lifelines\\fitters\\coxph_fitter.py\u001b[0m in \u001b[0;36m_newton_rhapson_for_efron_model\u001b[1;34m(self, X, T, E, weights, entries, initial_point, show_progress, step_size, precision, max_steps)\u001b[0m\n\u001b[0;32m   1525\u001b[0m             \u001b[1;32mtry\u001b[0m\u001b[1;33m:\u001b[0m\u001b[1;33m\u001b[0m\u001b[1;33m\u001b[0m\u001b[0m\n\u001b[1;32m-> 1526\u001b[1;33m                 \u001b[0minv_h_dot_g_T\u001b[0m \u001b[1;33m=\u001b[0m \u001b[0mspsolve\u001b[0m\u001b[1;33m(\u001b[0m\u001b[1;33m-\u001b[0m\u001b[0mh\u001b[0m\u001b[1;33m,\u001b[0m \u001b[0mg\u001b[0m\u001b[1;33m,\u001b[0m \u001b[0massume_a\u001b[0m\u001b[1;33m=\u001b[0m\u001b[1;34m\"pos\"\u001b[0m\u001b[1;33m,\u001b[0m \u001b[0mcheck_finite\u001b[0m\u001b[1;33m=\u001b[0m\u001b[1;32mFalse\u001b[0m\u001b[1;33m)\u001b[0m\u001b[1;33m\u001b[0m\u001b[1;33m\u001b[0m\u001b[0m\n\u001b[0m\u001b[0;32m   1527\u001b[0m             \u001b[1;32mexcept\u001b[0m \u001b[1;33m(\u001b[0m\u001b[0mValueError\u001b[0m\u001b[1;33m,\u001b[0m \u001b[0mLinAlgError\u001b[0m\u001b[1;33m)\u001b[0m \u001b[1;32mas\u001b[0m \u001b[0me\u001b[0m\u001b[1;33m:\u001b[0m\u001b[1;33m\u001b[0m\u001b[1;33m\u001b[0m\u001b[0m\n",
      "\u001b[1;32m~\\anaconda3\\lib\\site-packages\\scipy\\linalg\\basic.py\u001b[0m in \u001b[0;36msolve\u001b[1;34m(a, b, sym_pos, lower, overwrite_a, overwrite_b, debug, check_finite, assume_a, transposed)\u001b[0m\n\u001b[0;32m    247\u001b[0m                            overwrite_b=overwrite_b)\n\u001b[1;32m--> 248\u001b[1;33m         \u001b[0m_solve_check\u001b[0m\u001b[1;33m(\u001b[0m\u001b[0mn\u001b[0m\u001b[1;33m,\u001b[0m \u001b[0minfo\u001b[0m\u001b[1;33m)\u001b[0m\u001b[1;33m\u001b[0m\u001b[1;33m\u001b[0m\u001b[0m\n\u001b[0m\u001b[0;32m    249\u001b[0m         \u001b[0mrcond\u001b[0m\u001b[1;33m,\u001b[0m \u001b[0minfo\u001b[0m \u001b[1;33m=\u001b[0m \u001b[0mpocon\u001b[0m\u001b[1;33m(\u001b[0m\u001b[0mlu\u001b[0m\u001b[1;33m,\u001b[0m \u001b[0manorm\u001b[0m\u001b[1;33m)\u001b[0m\u001b[1;33m\u001b[0m\u001b[1;33m\u001b[0m\u001b[0m\n",
      "\u001b[1;32m~\\anaconda3\\lib\\site-packages\\scipy\\linalg\\basic.py\u001b[0m in \u001b[0;36m_solve_check\u001b[1;34m(n, info, lamch, rcond)\u001b[0m\n\u001b[0;32m     28\u001b[0m     \u001b[1;32melif\u001b[0m \u001b[1;36m0\u001b[0m \u001b[1;33m<\u001b[0m \u001b[0minfo\u001b[0m\u001b[1;33m:\u001b[0m\u001b[1;33m\u001b[0m\u001b[1;33m\u001b[0m\u001b[0m\n\u001b[1;32m---> 29\u001b[1;33m         \u001b[1;32mraise\u001b[0m \u001b[0mLinAlgError\u001b[0m\u001b[1;33m(\u001b[0m\u001b[1;34m'Matrix is singular.'\u001b[0m\u001b[1;33m)\u001b[0m\u001b[1;33m\u001b[0m\u001b[1;33m\u001b[0m\u001b[0m\n\u001b[0m\u001b[0;32m     30\u001b[0m \u001b[1;33m\u001b[0m\u001b[0m\n",
      "\u001b[1;31mLinAlgError\u001b[0m: Matrix is singular.",
      "\nDuring handling of the above exception, another exception occurred:\n",
      "\u001b[1;31mConvergenceError\u001b[0m                          Traceback (most recent call last)",
      "\u001b[1;32m<ipython-input-9-5ea075b061db>\u001b[0m in \u001b[0;36m<module>\u001b[1;34m\u001b[0m\n\u001b[0;32m     29\u001b[0m \u001b[1;33m\u001b[0m\u001b[0m\n\u001b[0;32m     30\u001b[0m \u001b[0mcph\u001b[0m \u001b[1;33m=\u001b[0m \u001b[0mCoxPHFitter\u001b[0m\u001b[1;33m(\u001b[0m\u001b[1;33m)\u001b[0m\u001b[1;33m\u001b[0m\u001b[1;33m\u001b[0m\u001b[0m\n\u001b[1;32m---> 31\u001b[1;33m \u001b[0mcph\u001b[0m\u001b[1;33m.\u001b[0m\u001b[0mfit\u001b[0m\u001b[1;33m(\u001b[0m\u001b[0mcase_subcohort_barlow_df\u001b[0m\u001b[1;33m,\u001b[0m \u001b[0mentry_col\u001b[0m \u001b[1;33m=\u001b[0m \u001b[1;34m\"start_time\"\u001b[0m\u001b[1;33m,\u001b[0m \u001b[0mduration_col\u001b[0m \u001b[1;33m=\u001b[0m \u001b[1;34m\"duration\"\u001b[0m\u001b[1;33m,\u001b[0m\u001b[0mevent_col\u001b[0m \u001b[1;33m=\u001b[0m \u001b[1;34m\"event\"\u001b[0m\u001b[1;33m,\u001b[0m\u001b[0mweights_col\u001b[0m \u001b[1;33m=\u001b[0m \u001b[1;34m\"weight\"\u001b[0m\u001b[1;33m,\u001b[0m\u001b[0mrobust\u001b[0m \u001b[1;33m=\u001b[0m \u001b[1;32mTrue\u001b[0m\u001b[1;33m)\u001b[0m\u001b[1;33m\u001b[0m\u001b[1;33m\u001b[0m\u001b[0m\n\u001b[0m",
      "\u001b[1;32m~\\anaconda3\\lib\\site-packages\\lifelines\\utils\\__init__.py\u001b[0m in \u001b[0;36mf\u001b[1;34m(model, *args, **kwargs)\u001b[0m\n\u001b[0;32m     54\u001b[0m         \u001b[1;32mdef\u001b[0m \u001b[0mf\u001b[0m\u001b[1;33m(\u001b[0m\u001b[0mmodel\u001b[0m\u001b[1;33m,\u001b[0m \u001b[1;33m*\u001b[0m\u001b[0margs\u001b[0m\u001b[1;33m,\u001b[0m \u001b[1;33m**\u001b[0m\u001b[0mkwargs\u001b[0m\u001b[1;33m)\u001b[0m\u001b[1;33m:\u001b[0m\u001b[1;33m\u001b[0m\u001b[1;33m\u001b[0m\u001b[0m\n\u001b[0;32m     55\u001b[0m             \u001b[0mcls\u001b[0m\u001b[1;33m.\u001b[0m\u001b[0mset_censoring_type\u001b[0m\u001b[1;33m(\u001b[0m\u001b[0mmodel\u001b[0m\u001b[1;33m,\u001b[0m \u001b[0mcls\u001b[0m\u001b[1;33m.\u001b[0m\u001b[0mRIGHT\u001b[0m\u001b[1;33m)\u001b[0m\u001b[1;33m\u001b[0m\u001b[1;33m\u001b[0m\u001b[0m\n\u001b[1;32m---> 56\u001b[1;33m             \u001b[1;32mreturn\u001b[0m \u001b[0mfunction\u001b[0m\u001b[1;33m(\u001b[0m\u001b[0mmodel\u001b[0m\u001b[1;33m,\u001b[0m \u001b[1;33m*\u001b[0m\u001b[0margs\u001b[0m\u001b[1;33m,\u001b[0m \u001b[1;33m**\u001b[0m\u001b[0mkwargs\u001b[0m\u001b[1;33m)\u001b[0m\u001b[1;33m\u001b[0m\u001b[1;33m\u001b[0m\u001b[0m\n\u001b[0m\u001b[0;32m     57\u001b[0m \u001b[1;33m\u001b[0m\u001b[0m\n\u001b[0;32m     58\u001b[0m         \u001b[1;32mreturn\u001b[0m \u001b[0mf\u001b[0m\u001b[1;33m\u001b[0m\u001b[1;33m\u001b[0m\u001b[0m\n",
      "\u001b[1;32m~\\anaconda3\\lib\\site-packages\\lifelines\\fitters\\coxph_fitter.py\u001b[0m in \u001b[0;36mfit\u001b[1;34m(self, df, duration_col, event_col, show_progress, initial_point, strata, weights_col, cluster_col, robust, batch_mode, timeline, formula, entry_col, fit_options)\u001b[0m\n\u001b[0;32m    288\u001b[0m         \"\"\"\n\u001b[0;32m    289\u001b[0m         \u001b[0mself\u001b[0m\u001b[1;33m.\u001b[0m\u001b[0mstrata\u001b[0m \u001b[1;33m=\u001b[0m \u001b[0mutils\u001b[0m\u001b[1;33m.\u001b[0m\u001b[0mcoalesce\u001b[0m\u001b[1;33m(\u001b[0m\u001b[0mstrata\u001b[0m\u001b[1;33m,\u001b[0m \u001b[0mself\u001b[0m\u001b[1;33m.\u001b[0m\u001b[0mstrata\u001b[0m\u001b[1;33m)\u001b[0m\u001b[1;33m\u001b[0m\u001b[1;33m\u001b[0m\u001b[0m\n\u001b[1;32m--> 290\u001b[1;33m         self._model = self._fit_model(\n\u001b[0m\u001b[0;32m    291\u001b[0m             \u001b[0mdf\u001b[0m\u001b[1;33m,\u001b[0m\u001b[1;33m\u001b[0m\u001b[1;33m\u001b[0m\u001b[0m\n\u001b[0;32m    292\u001b[0m             \u001b[0mduration_col\u001b[0m\u001b[1;33m,\u001b[0m\u001b[1;33m\u001b[0m\u001b[1;33m\u001b[0m\u001b[0m\n",
      "\u001b[1;32m~\\anaconda3\\lib\\site-packages\\lifelines\\fitters\\coxph_fitter.py\u001b[0m in \u001b[0;36m_fit_model\u001b[1;34m(self, *args, **kwargs)\u001b[0m\n\u001b[0;32m    608\u001b[0m     \u001b[1;32mdef\u001b[0m \u001b[0m_fit_model\u001b[0m\u001b[1;33m(\u001b[0m\u001b[0mself\u001b[0m\u001b[1;33m,\u001b[0m \u001b[1;33m*\u001b[0m\u001b[0margs\u001b[0m\u001b[1;33m,\u001b[0m \u001b[1;33m**\u001b[0m\u001b[0mkwargs\u001b[0m\u001b[1;33m)\u001b[0m\u001b[1;33m:\u001b[0m\u001b[1;33m\u001b[0m\u001b[1;33m\u001b[0m\u001b[0m\n\u001b[0;32m    609\u001b[0m         \u001b[1;32mif\u001b[0m \u001b[0mself\u001b[0m\u001b[1;33m.\u001b[0m\u001b[0mbaseline_estimation_method\u001b[0m \u001b[1;33m==\u001b[0m \u001b[1;34m\"breslow\"\u001b[0m\u001b[1;33m:\u001b[0m\u001b[1;33m\u001b[0m\u001b[1;33m\u001b[0m\u001b[0m\n\u001b[1;32m--> 610\u001b[1;33m             \u001b[1;32mreturn\u001b[0m \u001b[0mself\u001b[0m\u001b[1;33m.\u001b[0m\u001b[0m_fit_model_breslow\u001b[0m\u001b[1;33m(\u001b[0m\u001b[1;33m*\u001b[0m\u001b[0margs\u001b[0m\u001b[1;33m,\u001b[0m \u001b[1;33m**\u001b[0m\u001b[0mkwargs\u001b[0m\u001b[1;33m)\u001b[0m\u001b[1;33m\u001b[0m\u001b[1;33m\u001b[0m\u001b[0m\n\u001b[0m\u001b[0;32m    611\u001b[0m         \u001b[1;32melif\u001b[0m \u001b[0mself\u001b[0m\u001b[1;33m.\u001b[0m\u001b[0mbaseline_estimation_method\u001b[0m \u001b[1;33m==\u001b[0m \u001b[1;34m\"spline\"\u001b[0m\u001b[1;33m:\u001b[0m\u001b[1;33m\u001b[0m\u001b[1;33m\u001b[0m\u001b[0m\n\u001b[0;32m    612\u001b[0m             \u001b[1;32mreturn\u001b[0m \u001b[0mself\u001b[0m\u001b[1;33m.\u001b[0m\u001b[0m_fit_model_spline\u001b[0m\u001b[1;33m(\u001b[0m\u001b[1;33m*\u001b[0m\u001b[0margs\u001b[0m\u001b[1;33m,\u001b[0m \u001b[1;33m**\u001b[0m\u001b[0mkwargs\u001b[0m\u001b[1;33m)\u001b[0m\u001b[1;33m\u001b[0m\u001b[1;33m\u001b[0m\u001b[0m\n",
      "\u001b[1;32m~\\anaconda3\\lib\\site-packages\\lifelines\\fitters\\coxph_fitter.py\u001b[0m in \u001b[0;36m_fit_model_breslow\u001b[1;34m(self, *args, **kwargs)\u001b[0m\n\u001b[0;32m    621\u001b[0m         )\n\u001b[0;32m    622\u001b[0m         \u001b[1;32mif\u001b[0m \u001b[0mutils\u001b[0m\u001b[1;33m.\u001b[0m\u001b[0mCensoringType\u001b[0m\u001b[1;33m.\u001b[0m\u001b[0mis_right_censoring\u001b[0m\u001b[1;33m(\u001b[0m\u001b[0mself\u001b[0m\u001b[1;33m)\u001b[0m\u001b[1;33m:\u001b[0m\u001b[1;33m\u001b[0m\u001b[1;33m\u001b[0m\u001b[0m\n\u001b[1;32m--> 623\u001b[1;33m             \u001b[0mmodel\u001b[0m\u001b[1;33m.\u001b[0m\u001b[0mfit\u001b[0m\u001b[1;33m(\u001b[0m\u001b[1;33m*\u001b[0m\u001b[0margs\u001b[0m\u001b[1;33m,\u001b[0m \u001b[1;33m**\u001b[0m\u001b[0mkwargs\u001b[0m\u001b[1;33m)\u001b[0m\u001b[1;33m\u001b[0m\u001b[1;33m\u001b[0m\u001b[0m\n\u001b[0m\u001b[0;32m    624\u001b[0m             \u001b[1;32mreturn\u001b[0m \u001b[0mmodel\u001b[0m\u001b[1;33m\u001b[0m\u001b[1;33m\u001b[0m\u001b[0m\n\u001b[0;32m    625\u001b[0m         \u001b[1;32melse\u001b[0m\u001b[1;33m:\u001b[0m\u001b[1;33m\u001b[0m\u001b[1;33m\u001b[0m\u001b[0m\n",
      "\u001b[1;32m~\\anaconda3\\lib\\site-packages\\lifelines\\utils\\__init__.py\u001b[0m in \u001b[0;36mf\u001b[1;34m(model, *args, **kwargs)\u001b[0m\n\u001b[0;32m     54\u001b[0m         \u001b[1;32mdef\u001b[0m \u001b[0mf\u001b[0m\u001b[1;33m(\u001b[0m\u001b[0mmodel\u001b[0m\u001b[1;33m,\u001b[0m \u001b[1;33m*\u001b[0m\u001b[0margs\u001b[0m\u001b[1;33m,\u001b[0m \u001b[1;33m**\u001b[0m\u001b[0mkwargs\u001b[0m\u001b[1;33m)\u001b[0m\u001b[1;33m:\u001b[0m\u001b[1;33m\u001b[0m\u001b[1;33m\u001b[0m\u001b[0m\n\u001b[0;32m     55\u001b[0m             \u001b[0mcls\u001b[0m\u001b[1;33m.\u001b[0m\u001b[0mset_censoring_type\u001b[0m\u001b[1;33m(\u001b[0m\u001b[0mmodel\u001b[0m\u001b[1;33m,\u001b[0m \u001b[0mcls\u001b[0m\u001b[1;33m.\u001b[0m\u001b[0mRIGHT\u001b[0m\u001b[1;33m)\u001b[0m\u001b[1;33m\u001b[0m\u001b[1;33m\u001b[0m\u001b[0m\n\u001b[1;32m---> 56\u001b[1;33m             \u001b[1;32mreturn\u001b[0m \u001b[0mfunction\u001b[0m\u001b[1;33m(\u001b[0m\u001b[0mmodel\u001b[0m\u001b[1;33m,\u001b[0m \u001b[1;33m*\u001b[0m\u001b[0margs\u001b[0m\u001b[1;33m,\u001b[0m \u001b[1;33m**\u001b[0m\u001b[0mkwargs\u001b[0m\u001b[1;33m)\u001b[0m\u001b[1;33m\u001b[0m\u001b[1;33m\u001b[0m\u001b[0m\n\u001b[0m\u001b[0;32m     57\u001b[0m \u001b[1;33m\u001b[0m\u001b[0m\n\u001b[0;32m     58\u001b[0m         \u001b[1;32mreturn\u001b[0m \u001b[0mf\u001b[0m\u001b[1;33m\u001b[0m\u001b[1;33m\u001b[0m\u001b[0m\n",
      "\u001b[1;32m~\\anaconda3\\lib\\site-packages\\lifelines\\fitters\\coxph_fitter.py\u001b[0m in \u001b[0;36mfit\u001b[1;34m(self, df, duration_col, event_col, show_progress, initial_point, strata, weights_col, cluster_col, robust, batch_mode, timeline, formula, entry_col, fit_options)\u001b[0m\n\u001b[0;32m   1250\u001b[0m         )\n\u001b[0;32m   1251\u001b[0m \u001b[1;33m\u001b[0m\u001b[0m\n\u001b[1;32m-> 1252\u001b[1;33m         params_, ll_, variance_matrix_, baseline_hazard_, baseline_cumulative_hazard_, model = self._fit_model(\n\u001b[0m\u001b[0;32m   1253\u001b[0m             \u001b[0mX_norm\u001b[0m\u001b[1;33m,\u001b[0m\u001b[1;33m\u001b[0m\u001b[1;33m\u001b[0m\u001b[0m\n\u001b[0;32m   1254\u001b[0m             \u001b[0mT\u001b[0m\u001b[1;33m,\u001b[0m\u001b[1;33m\u001b[0m\u001b[1;33m\u001b[0m\u001b[0m\n",
      "\u001b[1;32m~\\anaconda3\\lib\\site-packages\\lifelines\\fitters\\coxph_fitter.py\u001b[0m in \u001b[0;36m_fit_model\u001b[1;34m(self, X, T, E, weights, entries, fit_options, initial_point, show_progress)\u001b[0m\n\u001b[0;32m   1378\u001b[0m         \u001b[0mshow_progress\u001b[0m\u001b[1;33m:\u001b[0m \u001b[0mbool\u001b[0m \u001b[1;33m=\u001b[0m \u001b[1;32mTrue\u001b[0m\u001b[1;33m,\u001b[0m\u001b[1;33m\u001b[0m\u001b[1;33m\u001b[0m\u001b[0m\n\u001b[0;32m   1379\u001b[0m     ):\n\u001b[1;32m-> 1380\u001b[1;33m         beta_, ll_, hessian_ = self._newton_rhapson_for_efron_model(\n\u001b[0m\u001b[0;32m   1381\u001b[0m             \u001b[0mX\u001b[0m\u001b[1;33m,\u001b[0m\u001b[1;33m\u001b[0m\u001b[1;33m\u001b[0m\u001b[0m\n\u001b[0;32m   1382\u001b[0m             \u001b[0mT\u001b[0m\u001b[1;33m,\u001b[0m\u001b[1;33m\u001b[0m\u001b[1;33m\u001b[0m\u001b[0m\n",
      "\u001b[1;32m~\\anaconda3\\lib\\site-packages\\lifelines\\fitters\\coxph_fitter.py\u001b[0m in \u001b[0;36m_newton_rhapson_for_efron_model\u001b[1;34m(self, X, T, E, weights, entries, initial_point, show_progress, step_size, precision, max_steps)\u001b[0m\n\u001b[0;32m   1533\u001b[0m                     )\n\u001b[0;32m   1534\u001b[0m                 \u001b[1;32melif\u001b[0m \u001b[0misinstance\u001b[0m\u001b[1;33m(\u001b[0m\u001b[0me\u001b[0m\u001b[1;33m,\u001b[0m \u001b[0mLinAlgError\u001b[0m\u001b[1;33m)\u001b[0m\u001b[1;33m:\u001b[0m\u001b[1;33m\u001b[0m\u001b[1;33m\u001b[0m\u001b[0m\n\u001b[1;32m-> 1535\u001b[1;33m                     raise exceptions.ConvergenceError(\n\u001b[0m\u001b[0;32m   1536\u001b[0m                         \"\"\"Convergence halted due to matrix inversion problems. Suspicion is high collinearity. {0}\"\"\".format(\n\u001b[0;32m   1537\u001b[0m                             \u001b[0mCONVERGENCE_DOCS\u001b[0m\u001b[1;33m\u001b[0m\u001b[1;33m\u001b[0m\u001b[0m\n",
      "\u001b[1;31mConvergenceError\u001b[0m: Convergence halted due to matrix inversion problems. Suspicion is high collinearity. Please see the following tips in the lifelines documentation: https://lifelines.readthedocs.io/en/latest/Examples.html#problems-with-convergence-in-the-cox-proportional-hazard-modelMatrix is singular."
     ]
    }
   ],
   "source": [
    "# creating a case dataframe\n",
    "cases_barlow_df = X_tr.join(y_tr).query(\"subcohort == False\")\n",
    "\n",
    "cases_barlow_df = cases_barlow_df.assign(\n",
    "    # setting events outside subcohort to start just before they occur\n",
    "    start_time = lambda df: df[\"duration\"] - 0.001,\n",
    "    # adding appropriate weight\n",
    "    weight = 1,\n",
    "    subcohort = False\n",
    ")\n",
    "\n",
    "# creating a subcohort dataframe\n",
    "subcohort_barlow_df = X_tr.join(y_tr).query(\"subcohort == True\")\n",
    "\n",
    "# sampling proportion of cohort\n",
    "alpha = len(subcohort_barlow_df)/512724/nfolds\n",
    "\n",
    "subcohort_barlow_df = subcohort_barlow_df.assign(\n",
    "        # if it is a case, the weight should be the same as the subcohort until close to the time of the event. \n",
    "        duration = lambda df: np.where(df[\"event\"], df[\"duration\"] - 0.001, df[\"duration\"]), \n",
    "        # the events start from the origin\n",
    "        start_time = 0, \n",
    "        event = False,\n",
    "        weight = 1/alpha,\n",
    "        subcohort = True\n",
    "    )\n",
    "\n",
    "case_subcohort_barlow_df = pd.concat([cases_barlow_df,subcohort_barlow_df]).drop(columns = \"subcohort\")\n",
    "\n",
    "cph = CoxPHFitter()\n",
    "cph.fit(case_subcohort_barlow_df, entry_col = \"start_time\", duration_col = \"duration\",event_col = \"event\",weights_col = \"weight\",robust = True)"
   ]
  },
  {
   "cell_type": "markdown",
   "id": "db70e42f-d235-4da3-acb2-88f4f7ada967",
   "metadata": {},
   "source": [
    "We use PCA to reduce dimension to remedy convergence issues. Number of components will be selected by cross-validation:"
   ]
  },
  {
   "cell_type": "code",
   "execution_count": 8,
   "id": "9d5f6c5b",
   "metadata": {},
   "outputs": [],
   "source": [
    "from sklearn.decomposition import PCA\n",
    "from lifelines.utils import k_fold_cross_validation, concordance_index\n",
    "from sklearn.model_selection import KFold"
   ]
  },
  {
   "cell_type": "markdown",
   "id": "0252a3d8-72a5-46e6-bb73-0719c5a6f4b8",
   "metadata": {},
   "source": [
    "See \"Unweighted Cox PH with PCA\" file for more detailed code annotation."
   ]
  },
  {
   "cell_type": "code",
   "execution_count": 10,
   "id": "87b1f886",
   "metadata": {},
   "outputs": [
    {
     "name": "stdout",
     "output_type": "stream",
     "text": [
      "1\n",
      "2\n",
      "3\n",
      "4\n",
      "5\n",
      "6\n",
      "7\n",
      "8\n",
      "9\n",
      "10\n",
      "11\n",
      "12\n",
      "13\n",
      "14\n",
      "15\n",
      "16\n",
      "17\n"
     ]
    },
    {
     "name": "stderr",
     "output_type": "stream",
     "text": [
      "C:/Users/thseale/Documents/Python Packages\\lifelines\\fitters\\coxph_fitter.py:1610: ConvergenceWarning: Newton-Rhaphson failed to converge sufficiently. Please see the following tips in the lifelines documentation: https://lifelines.readthedocs.io/en/latest/Examples.html#problems-with-convergence-in-the-cox-proportional-hazard-model\n",
      "  warnings.warn(\n"
     ]
    },
    {
     "name": "stdout",
     "output_type": "stream",
     "text": [
      "18\n"
     ]
    },
    {
     "name": "stderr",
     "output_type": "stream",
     "text": [
      "C:/Users/thseale/Documents/Python Packages\\lifelines\\fitters\\coxph_fitter.py:1610: ConvergenceWarning: Newton-Rhaphson failed to converge sufficiently. Please see the following tips in the lifelines documentation: https://lifelines.readthedocs.io/en/latest/Examples.html#problems-with-convergence-in-the-cox-proportional-hazard-model\n",
      "  warnings.warn(\n",
      "C:/Users/thseale/Documents/Python Packages\\lifelines\\fitters\\coxph_fitter.py:1610: ConvergenceWarning: Newton-Rhaphson failed to converge sufficiently. Please see the following tips in the lifelines documentation: https://lifelines.readthedocs.io/en/latest/Examples.html#problems-with-convergence-in-the-cox-proportional-hazard-model\n",
      "  warnings.warn(\n"
     ]
    },
    {
     "name": "stdout",
     "output_type": "stream",
     "text": [
      "19\n"
     ]
    },
    {
     "name": "stderr",
     "output_type": "stream",
     "text": [
      "C:/Users/thseale/Documents/Python Packages\\lifelines\\fitters\\coxph_fitter.py:1610: ConvergenceWarning: Newton-Rhaphson failed to converge sufficiently. Please see the following tips in the lifelines documentation: https://lifelines.readthedocs.io/en/latest/Examples.html#problems-with-convergence-in-the-cox-proportional-hazard-model\n",
      "  warnings.warn(\n",
      "C:/Users/thseale/Documents/Python Packages\\lifelines\\fitters\\coxph_fitter.py:1610: ConvergenceWarning: Newton-Rhaphson failed to converge sufficiently. Please see the following tips in the lifelines documentation: https://lifelines.readthedocs.io/en/latest/Examples.html#problems-with-convergence-in-the-cox-proportional-hazard-model\n",
      "  warnings.warn(\n",
      "C:/Users/thseale/Documents/Python Packages\\lifelines\\fitters\\coxph_fitter.py:1610: ConvergenceWarning: Newton-Rhaphson failed to converge sufficiently. Please see the following tips in the lifelines documentation: https://lifelines.readthedocs.io/en/latest/Examples.html#problems-with-convergence-in-the-cox-proportional-hazard-model\n",
      "  warnings.warn(\n"
     ]
    },
    {
     "name": "stdout",
     "output_type": "stream",
     "text": [
      "[0.5742394904049702, 0.5742394904049702, 0.5767370397379626, 0.6855369962981764, 0.6932618525437464, 0.667465867904287, 0.6885650074266972, 0.7182822076640817, 0.6827459499933259, 0.7278981845257656, 0.7081896084157259, 0.7270545226169398, 0.7120239221671132, 0.68191957338689, 0.664612802973687, 0.5402186258364331, 0.65259073656468, 0.6164341591621124, 0.6615526731264826]\n",
      "Best variation percentage: [0.45]\n"
     ]
    }
   ],
   "source": [
    "cox_pca_scores = []\n",
    "nfolds = 3\n",
    "\n",
    "for i in range(1,20):\n",
    "    \n",
    "    print(i)\n",
    "    \n",
    "    kf = KFold(n_splits=nfolds)\n",
    "    kf.get_n_splits(X_tr)\n",
    "\n",
    "    scores = []\n",
    "    \n",
    "    for train_index, test_index in kf.split(X_tr):\n",
    "        X_tr_train, X_tr_test = X_tr.iloc[train_index], X_tr.iloc[test_index]\n",
    "        y_tr_train, y_tr_test = y_tr.iloc[train_index], y_tr.iloc[test_index]\n",
    "            \n",
    "        pca = PCA(n_components = i/20)\n",
    "        X_tr_train_pca = pd.DataFrame(pca.fit_transform(X_tr_train))\n",
    "        X_tr_train_pca.index = X_tr_train.index\n",
    "\n",
    "        # creating a case dataframe\n",
    "        cases_barlow_df = X_tr_train_pca.join(y_tr_train).query(\"subcohort == False\")\n",
    "\n",
    "        cases_barlow_df = cases_barlow_df.assign(\n",
    "            # setting events outside subcohort to start just before they occur\n",
    "            start_time = lambda df: df[\"duration\"] - 0.001,\n",
    "            # adding appropriate weight\n",
    "            weight = 1,\n",
    "            subcohort = False\n",
    "        )\n",
    "    \n",
    "        # creating a subcohort dataframe\n",
    "        subcohort_barlow_df = X_tr_train_pca.join(y_tr_train).query(\"subcohort == True\")\n",
    "\n",
    "        # sampling proportion of cohort\n",
    "        alpha = len(subcohort_barlow_df)/51272400\n",
    "\n",
    "        subcohort_barlow_df = subcohort_barlow_df.assign(\n",
    "                # if it is a case, the weight should be the same as the subcohort until close to the time of the event. \n",
    "                duration = lambda df: np.where(df[\"event\"], df[\"duration\"] - 0.001, df[\"duration\"]), \n",
    "                # the events start from the origin\n",
    "                start_time = 0, \n",
    "                event = False,\n",
    "                weight = 1/alpha,\n",
    "                subcohort = True\n",
    "            )\n",
    "\n",
    "        case_subcohort_barlow_df = pd.concat([cases_barlow_df,subcohort_barlow_df]).drop(columns = \"subcohort\")\n",
    "\n",
    "        cph = CoxPHFitter()\n",
    "        cph.fit(case_subcohort_barlow_df, entry_col = \"start_time\", duration_col = \"duration\",event_col = \"event\",weights_col = \"weight\",robust = True)\n",
    "        \n",
    "        event_times = y_tr_test[\"duration\"]\n",
    "        event_observed = y_tr_test[\"event\"]\n",
    "        \n",
    "        X_tr_pca_test = pca.transform(X_tr_test)\n",
    "        \n",
    "        test_preds = cph.predict_partial_hazard(X_tr_pca_test)\n",
    "        scores.append(weighted_concordance(event_times,test_preds, event_observed, samp_fraction = 0.0011604684001529089/n_folds))\n",
    "        \n",
    "    cox_pca_scores.append(np.mean(scores))\n",
    "    \n",
    "print(cox_pca_scores)\n",
    "print(\"Best variation percentage:\",np.where(cox_pca_scores == np.max(cox_pca_scores))[0]/20)"
   ]
  },
  {
   "cell_type": "markdown",
   "id": "77c0cbb8",
   "metadata": {},
   "source": [
    "Fitting final model:"
   ]
  },
  {
   "cell_type": "code",
   "execution_count": 22,
   "id": "e1418f01",
   "metadata": {},
   "outputs": [],
   "source": [
    "pca = PCA(n_components = 0.45)\n",
    "X_tr_pca = pd.DataFrame(pca.fit_transform(X_tr))\n",
    "X_tr_pca.index = X_tr.index"
   ]
  },
  {
   "cell_type": "code",
   "execution_count": 23,
   "id": "df6c9aaf",
   "metadata": {},
   "outputs": [],
   "source": [
    "pickle.dump(pca, open('barlow_cox_pca_wc.pkl', 'wb'))"
   ]
  },
  {
   "cell_type": "code",
   "execution_count": 24,
   "id": "355bee9e",
   "metadata": {
    "scrolled": true
   },
   "outputs": [
    {
     "data": {
      "text/plain": [
       "<lifelines.CoxPHFitter: fitted with 513319 total observations, 512724 right-censored observations>"
      ]
     },
     "execution_count": 24,
     "metadata": {},
     "output_type": "execute_result"
    }
   ],
   "source": [
    "# creating a case dataframe\n",
    "cases_barlow_df = X_tr_pca.join(y_tr).query(\"subcohort == False\")\n",
    "\n",
    "cases_barlow_df = cases_barlow_df.assign(\n",
    "    # setting events outside subcohort to start just before they occur\n",
    "    start_time = lambda df: df[\"duration\"] - 0.001,\n",
    "    # adding appropriate weight\n",
    "    weight = 1,\n",
    "    subcohort = False\n",
    ")\n",
    "\n",
    "# creating a subcohort dataframe\n",
    "subcohort_barlow_df = X_tr_pca.join(y_tr).query(\"subcohort == True\")\n",
    "\n",
    "# sampling proportion of cohort\n",
    "alpha = len(subcohort_barlow_df)/512724\n",
    "\n",
    "subcohort_barlow_df = subcohort_barlow_df.assign(\n",
    "        # if it is a case, the weight should be the same as the subcohort until close to the time of the event. \n",
    "        duration = lambda df: np.where(df[\"event\"], df[\"duration\"] - 0.001, df[\"duration\"]), \n",
    "        # the events start from the origin\n",
    "        start_time = 0, \n",
    "        event = False,\n",
    "        weight = 1/alpha,\n",
    "        subcohort = True\n",
    "    )\n",
    "\n",
    "case_subcohort_barlow_df = pd.concat([cases_barlow_df,subcohort_barlow_df]).drop(columns = \"subcohort\")\n",
    "\n",
    "cph = CoxPHFitter()\n",
    "cph.fit(case_subcohort_barlow_df, entry_col = \"start_time\", duration_col = \"duration\",event_col = \"event\",weights_col = \"weight\",robust = True)"
   ]
  },
  {
   "cell_type": "code",
   "execution_count": 25,
   "id": "a0d144cf",
   "metadata": {},
   "outputs": [],
   "source": [
    "pickle.dump(cph, open('barlow_cox_wc.pkl', 'wb'))"
   ]
  }
 ],
 "metadata": {
  "kernelspec": {
   "display_name": "Python 3",
   "language": "python",
   "name": "python3"
  },
  "language_info": {
   "codemirror_mode": {
    "name": "ipython",
    "version": 3
   },
   "file_extension": ".py",
   "mimetype": "text/x-python",
   "name": "python",
   "nbconvert_exporter": "python",
   "pygments_lexer": "ipython3",
   "version": "3.8.8"
  }
 },
 "nbformat": 4,
 "nbformat_minor": 5
}

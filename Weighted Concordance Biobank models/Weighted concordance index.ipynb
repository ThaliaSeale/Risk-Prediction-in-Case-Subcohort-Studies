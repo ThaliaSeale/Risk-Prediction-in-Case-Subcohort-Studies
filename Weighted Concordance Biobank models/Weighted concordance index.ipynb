{
 "cells": [
  {
   "cell_type": "markdown",
   "id": "4541b447",
   "metadata": {},
   "source": [
    "# Weighted concordance index\n",
    "Creating and testing a function that evaluates weighted concordance."
   ]
  },
  {
   "cell_type": "code",
   "execution_count": 4,
   "id": "32d3292d",
   "metadata": {},
   "outputs": [],
   "source": [
    "import pandas as pd"
   ]
  },
  {
   "cell_type": "code",
   "execution_count": 86,
   "id": "e1e2c041",
   "metadata": {},
   "outputs": [],
   "source": [
    "example_data = pd.DataFrame({\n",
    "    \"event_times\": [1,2,0.5,3,4],\n",
    "    \"predicted_scores\": [1,0,2,2,0.5],\n",
    "    \"event_observed\": [1,1,1,0,0]})"
   ]
  },
  {
   "cell_type": "code",
   "execution_count": 87,
   "id": "0e359463",
   "metadata": {
    "scrolled": true
   },
   "outputs": [
    {
     "data": {
      "text/html": [
       "<div>\n",
       "<style scoped>\n",
       "    .dataframe tbody tr th:only-of-type {\n",
       "        vertical-align: middle;\n",
       "    }\n",
       "\n",
       "    .dataframe tbody tr th {\n",
       "        vertical-align: top;\n",
       "    }\n",
       "\n",
       "    .dataframe thead th {\n",
       "        text-align: right;\n",
       "    }\n",
       "</style>\n",
       "<table border=\"1\" class=\"dataframe\">\n",
       "  <thead>\n",
       "    <tr style=\"text-align: right;\">\n",
       "      <th></th>\n",
       "      <th>event_times</th>\n",
       "      <th>predicted_scores</th>\n",
       "      <th>event_observed</th>\n",
       "    </tr>\n",
       "  </thead>\n",
       "  <tbody>\n",
       "    <tr>\n",
       "      <th>2</th>\n",
       "      <td>0.5</td>\n",
       "      <td>2.0</td>\n",
       "      <td>1</td>\n",
       "    </tr>\n",
       "    <tr>\n",
       "      <th>0</th>\n",
       "      <td>1.0</td>\n",
       "      <td>1.0</td>\n",
       "      <td>1</td>\n",
       "    </tr>\n",
       "    <tr>\n",
       "      <th>1</th>\n",
       "      <td>2.0</td>\n",
       "      <td>0.0</td>\n",
       "      <td>1</td>\n",
       "    </tr>\n",
       "    <tr>\n",
       "      <th>3</th>\n",
       "      <td>3.0</td>\n",
       "      <td>2.0</td>\n",
       "      <td>0</td>\n",
       "    </tr>\n",
       "    <tr>\n",
       "      <th>4</th>\n",
       "      <td>4.0</td>\n",
       "      <td>0.5</td>\n",
       "      <td>0</td>\n",
       "    </tr>\n",
       "  </tbody>\n",
       "</table>\n",
       "</div>"
      ],
      "text/plain": [
       "   event_times  predicted_scores  event_observed\n",
       "2          0.5               2.0               1\n",
       "0          1.0               1.0               1\n",
       "1          2.0               0.0               1\n",
       "3          3.0               2.0               0\n",
       "4          4.0               0.5               0"
      ]
     },
     "execution_count": 87,
     "metadata": {},
     "output_type": "execute_result"
    }
   ],
   "source": [
    "example_data.sort_values(\"event_times\")"
   ]
  },
  {
   "cell_type": "code",
   "execution_count": 105,
   "id": "641b9dfb",
   "metadata": {},
   "outputs": [],
   "source": [
    "def weighted_concordance(event_times, predicted_scores, event_observed, samp_fraction):\n",
    "    # Evaluates weighted concordance between test data and risk predictions\n",
    "    \n",
    "    # event_times: vector of times when events occur in the test data\n",
    "    # predicted_scores: risk scores predicted by the model\n",
    "    # event_observed: vector of event indicators in the test data\n",
    "    # samp_fraction: the sampling fraction of the test data\n",
    "    \n",
    "    # data frame with all the inputs\n",
    "    example_data = pd.DataFrame({\n",
    "    \"event_times\": event_times,\n",
    "    \"predicted_scores\": predicted_scores,\n",
    "    \"event_observed\": event_observed}).sort_values(\"event_times\").reset_index(drop = True)\n",
    "    \n",
    "    # counters for the number of:\n",
    "    # concordant case-case pairs\n",
    "    n_case_case = 0\n",
    "    # concordant case-control pairs\n",
    "    n_case_control = 0\n",
    "    # total number of case-case pairs \n",
    "    total_case_pairs = 0\n",
    "    # total number of case-control pairs\n",
    "    total_control_pairs = 0\n",
    "    \n",
    "    # looping through all valid pairs\n",
    "    for i in range(len(example_data)):\n",
    "        if example_data.at[i,\"event_observed\"]: # if event observed\n",
    "            for j in range(i+1,len(example_data)): # compare to all events/censored data points at a later time\n",
    "                if example_data.at[j,\"event_observed\"]: # if subsequent individual has an event\n",
    "                    if example_data.at[i,\"predicted_scores\"] > example_data.at[j,\"predicted_scores\"]: # if concordant\n",
    "                        n_case_case = n_case_case + 1\n",
    "                    elif example_data.at[i,\"predicted_scores\"] == example_data.at[j,\"predicted_scores\"]:\n",
    "                        n_case_case = n_case_case + 0.5\n",
    "                    total_case_pairs = total_case_pairs + 1\n",
    "                else:  # if subsequent individual is censored\n",
    "                    if example_data.at[i,\"predicted_scores\"] > example_data.at[j,\"predicted_scores\"]: # if concordant\n",
    "                        n_case_control = n_case_control + 1\n",
    "                    elif example_data.at[i,\"predicted_scores\"] == example_data.at[j,\"predicted_scores\"]:\n",
    "                        n_case_control = n_case_control + 0.5\n",
    "                    total_control_pairs = total_control_pairs + 1\n",
    "    return((n_case_case + 1/samp_fraction * n_case_control )/ (total_case_pairs + 1/samp_fraction * total_control_pairs))"
   ]
  },
  {
   "cell_type": "code",
   "execution_count": 106,
   "id": "7250955a",
   "metadata": {},
   "outputs": [
    {
     "data": {
      "text/plain": [
       "0.5333333333333333"
      ]
     },
     "execution_count": 106,
     "metadata": {},
     "output_type": "execute_result"
    }
   ],
   "source": [
    "weighted_concordance(example_data[\"event_times\"],example_data[\"predicted_scores\"],example_data[\"event_observed\"],0.5)"
   ]
  },
  {
   "cell_type": "code",
   "execution_count": 109,
   "id": "97f23011",
   "metadata": {},
   "outputs": [],
   "source": [
    "from lifelines.utils import concordance_index"
   ]
  },
  {
   "cell_type": "markdown",
   "id": "8a6f91e3-1886-4b0f-874b-cd678731b92b",
   "metadata": {},
   "source": [
    "If the sample fraction is 1, then we should recover the concordance index. "
   ]
  },
  {
   "cell_type": "code",
   "execution_count": 111,
   "id": "076aedc0",
   "metadata": {},
   "outputs": [
    {
     "data": {
      "text/plain": [
       "0.6111111111111112"
      ]
     },
     "execution_count": 111,
     "metadata": {},
     "output_type": "execute_result"
    }
   ],
   "source": [
    "concordance_index(example_data[\"event_times\"],-example_data[\"predicted_scores\"],example_data[\"event_observed\"])"
   ]
  },
  {
   "cell_type": "code",
   "execution_count": 112,
   "id": "a907e316",
   "metadata": {},
   "outputs": [
    {
     "data": {
      "text/plain": [
       "0.6111111111111112"
      ]
     },
     "execution_count": 112,
     "metadata": {},
     "output_type": "execute_result"
    }
   ],
   "source": [
    "weighted_concordance(example_data[\"event_times\"],example_data[\"predicted_scores\"],example_data[\"event_observed\"],1)"
   ]
  }
 ],
 "metadata": {
  "kernelspec": {
   "display_name": "Python 3",
   "language": "python",
   "name": "python3"
  },
  "language_info": {
   "codemirror_mode": {
    "name": "ipython",
    "version": 3
   },
   "file_extension": ".py",
   "mimetype": "text/x-python",
   "name": "python",
   "nbconvert_exporter": "python",
   "pygments_lexer": "ipython3",
   "version": "3.8.8"
  }
 },
 "nbformat": 4,
 "nbformat_minor": 5
}

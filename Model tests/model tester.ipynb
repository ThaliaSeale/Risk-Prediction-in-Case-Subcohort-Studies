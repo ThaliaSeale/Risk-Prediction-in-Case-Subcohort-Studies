{
 "cells": [
  {
   "cell_type": "markdown",
   "id": "16635b45-1421-466b-a61c-ab8a0ae5726c",
   "metadata": {},
   "source": [
    "# Model tester\n",
    "Creating a function to run many model tests to produce measures of success. All of the measures have different outputs so require different approaches"
   ]
  },
  {
   "cell_type": "code",
   "execution_count": 1,
   "id": "d4078f3e-77d1-4ba5-9c14-65470385a611",
   "metadata": {},
   "outputs": [],
   "source": [
    "import numpy as np\n",
    "from scipy.stats import weibull_min # r weibull simulation\n",
    "from scipy.stats import norm # for covariate simulation\n",
    "from scipy.stats import gamma # for weibull shape parameter\n",
    "from scipy.stats import bernoulli # for censoring\n",
    "from scipy.stats import uniform\n",
    "from scipy.stats.mstats import mquantiles\n",
    "import pandas as pd"
   ]
  },
  {
   "cell_type": "code",
   "execution_count": 5,
   "id": "e33bfe5f-2708-4960-9fc9-641a763b4e63",
   "metadata": {},
   "outputs": [],
   "source": [
    "from functions import *"
   ]
  },
  {
   "cell_type": "markdown",
   "id": "70ac467a-68c0-4a89-ae51-008e65d62cb4",
   "metadata": {},
   "source": [
    "## c-index"
   ]
  },
  {
   "cell_type": "code",
   "execution_count": null,
   "id": "8e0e5290-6fd6-49f3-8a76-6088169cfc03",
   "metadata": {},
   "outputs": [],
   "source": []
  }
 ],
 "metadata": {
  "kernelspec": {
   "display_name": "Python 3",
   "language": "python",
   "name": "python3"
  },
  "language_info": {
   "codemirror_mode": {
    "name": "ipython",
    "version": 3
   },
   "file_extension": ".py",
   "mimetype": "text/x-python",
   "name": "python",
   "nbconvert_exporter": "python",
   "pygments_lexer": "ipython3",
   "version": "3.8.8"
  }
 },
 "nbformat": 4,
 "nbformat_minor": 5
}

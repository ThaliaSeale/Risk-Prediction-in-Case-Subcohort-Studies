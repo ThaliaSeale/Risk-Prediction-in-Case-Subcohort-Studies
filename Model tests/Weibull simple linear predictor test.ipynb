{
 "cells": [
  {
   "cell_type": "markdown",
   "id": "091a093f-6ff9-4448-82bd-2fff9c5070de",
   "metadata": {},
   "source": [
    "# Model test: Weibull, simple linear predictor (V1)"
   ]
  },
  {
   "cell_type": "code",
   "execution_count": 2,
   "id": "867e2b9c-4f59-4a86-bc22-e51ec324228e",
   "metadata": {},
   "outputs": [],
   "source": [
    "import numpy as np\n",
    "from scipy.stats import weibull_min # r weibull simulation\n",
    "from scipy.stats import norm # for covariate simulation\n",
    "from scipy.stats import gamma # for weibull shape parameter\n",
    "from scipy.stats import bernoulli # for censoring\n",
    "import pandas as pd"
   ]
  },
  {
   "cell_type": "code",
   "execution_count": 3,
   "id": "f96f0901-444d-46e5-8d73-94ce2ecb276c",
   "metadata": {},
   "outputs": [],
   "source": [
    "def random_rcensor(df,censor_prop,max_time):\n",
    "    df = df.assign(\n",
    "        y_censor = lambda dataframe: dataframe['y'].map(lambda y: min(np.random.uniform(high = max_time),y) if bernoulli.rvs(censor_prop) else min(y,max_time)),\n",
    "        event = lambda dataframe: dataframe['y'] == dataframe['y_censor']\n",
    "    )\n",
    "    return(df)\n",
    "\n",
    "def weibull_simple_linear_sim(n_beta,sigma,obs, censor_prop,max_time, show_beta = False):\n",
    "    betas = norm.rvs(scale = sigma, size = n_beta) #generates the coefficients\n",
    "    X = norm.rvs(size = obs*n_beta).reshape((obs,n_beta)) # matrix of covariates\n",
    "    \n",
    "    c = gamma.rvs(1) # shape parameter of weibull\n",
    "    \n",
    "    lin_pred = np.matmul(X,betas) # linear predictor\n",
    "    \n",
    "    sim_data = pd.DataFrame(X)\n",
    "    sim_data[\"y\"] = weibull_min.rvs(c, scale = np.exp(-lin_pred/c))\n",
    "    \n",
    "    if show_beta:\n",
    "        print(betas)\n",
    "        return(random_rcensor(sim_data,censor_prop,max_time))\n",
    "    else:\n",
    "        return(random_rcensor(sim_data,censor_prop,max_time))"
   ]
  },
  {
   "cell_type": "code",
   "execution_count": 4,
   "id": "f8905af6-c743-4a17-866e-a85f30d5d8da",
   "metadata": {},
   "outputs": [
    {
     "name": "stdout",
     "output_type": "stream",
     "text": [
      "[-0.13105349  0.88817932  0.10210093  0.99610422  0.46494705  0.49107786\n",
      " -0.60135882  1.37503477  0.55135542 -0.30417624]\n"
     ]
    },
    {
     "data": {
      "text/html": [
       "<div>\n",
       "<style scoped>\n",
       "    .dataframe tbody tr th:only-of-type {\n",
       "        vertical-align: middle;\n",
       "    }\n",
       "\n",
       "    .dataframe tbody tr th {\n",
       "        vertical-align: top;\n",
       "    }\n",
       "\n",
       "    .dataframe thead th {\n",
       "        text-align: right;\n",
       "    }\n",
       "</style>\n",
       "<table border=\"1\" class=\"dataframe\">\n",
       "  <thead>\n",
       "    <tr style=\"text-align: right;\">\n",
       "      <th></th>\n",
       "      <th>0</th>\n",
       "      <th>1</th>\n",
       "      <th>2</th>\n",
       "      <th>3</th>\n",
       "      <th>4</th>\n",
       "      <th>5</th>\n",
       "      <th>6</th>\n",
       "      <th>7</th>\n",
       "      <th>8</th>\n",
       "      <th>9</th>\n",
       "      <th>y</th>\n",
       "      <th>y_censor</th>\n",
       "      <th>event</th>\n",
       "    </tr>\n",
       "  </thead>\n",
       "  <tbody>\n",
       "    <tr>\n",
       "      <th>0</th>\n",
       "      <td>-0.638695</td>\n",
       "      <td>-0.056101</td>\n",
       "      <td>0.081473</td>\n",
       "      <td>0.236721</td>\n",
       "      <td>1.024469</td>\n",
       "      <td>0.702102</td>\n",
       "      <td>-1.660256</td>\n",
       "      <td>2.016416</td>\n",
       "      <td>0.123750</td>\n",
       "      <td>-0.496041</td>\n",
       "      <td>0.027510</td>\n",
       "      <td>0.027510</td>\n",
       "      <td>True</td>\n",
       "    </tr>\n",
       "    <tr>\n",
       "      <th>1</th>\n",
       "      <td>0.280420</td>\n",
       "      <td>-0.860896</td>\n",
       "      <td>-0.037021</td>\n",
       "      <td>2.148006</td>\n",
       "      <td>-0.985737</td>\n",
       "      <td>-1.775816</td>\n",
       "      <td>1.067725</td>\n",
       "      <td>1.167287</td>\n",
       "      <td>0.532267</td>\n",
       "      <td>0.018055</td>\n",
       "      <td>0.359295</td>\n",
       "      <td>0.041457</td>\n",
       "      <td>False</td>\n",
       "    </tr>\n",
       "    <tr>\n",
       "      <th>2</th>\n",
       "      <td>1.169883</td>\n",
       "      <td>-0.882430</td>\n",
       "      <td>-0.158195</td>\n",
       "      <td>-1.553652</td>\n",
       "      <td>0.724243</td>\n",
       "      <td>1.296601</td>\n",
       "      <td>0.603311</td>\n",
       "      <td>-0.075309</td>\n",
       "      <td>-0.788547</td>\n",
       "      <td>-0.850289</td>\n",
       "      <td>1.060264</td>\n",
       "      <td>0.050000</td>\n",
       "      <td>False</td>\n",
       "    </tr>\n",
       "    <tr>\n",
       "      <th>3</th>\n",
       "      <td>0.316675</td>\n",
       "      <td>-0.032775</td>\n",
       "      <td>1.212835</td>\n",
       "      <td>-0.598785</td>\n",
       "      <td>-0.945423</td>\n",
       "      <td>-0.137842</td>\n",
       "      <td>-0.542119</td>\n",
       "      <td>0.947963</td>\n",
       "      <td>-1.297217</td>\n",
       "      <td>-0.821573</td>\n",
       "      <td>0.729274</td>\n",
       "      <td>0.050000</td>\n",
       "      <td>False</td>\n",
       "    </tr>\n",
       "    <tr>\n",
       "      <th>4</th>\n",
       "      <td>1.080906</td>\n",
       "      <td>0.122388</td>\n",
       "      <td>0.651444</td>\n",
       "      <td>-0.910796</td>\n",
       "      <td>0.322515</td>\n",
       "      <td>0.509230</td>\n",
       "      <td>0.767174</td>\n",
       "      <td>0.342394</td>\n",
       "      <td>0.044447</td>\n",
       "      <td>-0.885749</td>\n",
       "      <td>1.312976</td>\n",
       "      <td>0.050000</td>\n",
       "      <td>False</td>\n",
       "    </tr>\n",
       "    <tr>\n",
       "      <th>...</th>\n",
       "      <td>...</td>\n",
       "      <td>...</td>\n",
       "      <td>...</td>\n",
       "      <td>...</td>\n",
       "      <td>...</td>\n",
       "      <td>...</td>\n",
       "      <td>...</td>\n",
       "      <td>...</td>\n",
       "      <td>...</td>\n",
       "      <td>...</td>\n",
       "      <td>...</td>\n",
       "      <td>...</td>\n",
       "      <td>...</td>\n",
       "    </tr>\n",
       "    <tr>\n",
       "      <th>995</th>\n",
       "      <td>0.632188</td>\n",
       "      <td>-0.742635</td>\n",
       "      <td>0.617916</td>\n",
       "      <td>1.734574</td>\n",
       "      <td>-1.687658</td>\n",
       "      <td>-1.499328</td>\n",
       "      <td>-0.089816</td>\n",
       "      <td>-1.192075</td>\n",
       "      <td>2.316753</td>\n",
       "      <td>-0.466331</td>\n",
       "      <td>1.265158</td>\n",
       "      <td>0.050000</td>\n",
       "      <td>False</td>\n",
       "    </tr>\n",
       "    <tr>\n",
       "      <th>996</th>\n",
       "      <td>-0.566552</td>\n",
       "      <td>-1.322455</td>\n",
       "      <td>0.570584</td>\n",
       "      <td>-0.242440</td>\n",
       "      <td>-1.035234</td>\n",
       "      <td>-1.260473</td>\n",
       "      <td>-0.682632</td>\n",
       "      <td>1.332970</td>\n",
       "      <td>1.031282</td>\n",
       "      <td>1.244313</td>\n",
       "      <td>1.481303</td>\n",
       "      <td>0.050000</td>\n",
       "      <td>False</td>\n",
       "    </tr>\n",
       "    <tr>\n",
       "      <th>997</th>\n",
       "      <td>-2.042950</td>\n",
       "      <td>0.388598</td>\n",
       "      <td>-0.147589</td>\n",
       "      <td>-0.239780</td>\n",
       "      <td>0.806886</td>\n",
       "      <td>-0.336802</td>\n",
       "      <td>0.288200</td>\n",
       "      <td>0.564650</td>\n",
       "      <td>-2.675192</td>\n",
       "      <td>0.104247</td>\n",
       "      <td>0.503593</td>\n",
       "      <td>0.050000</td>\n",
       "      <td>False</td>\n",
       "    </tr>\n",
       "    <tr>\n",
       "      <th>998</th>\n",
       "      <td>-0.080390</td>\n",
       "      <td>-0.417188</td>\n",
       "      <td>-1.123598</td>\n",
       "      <td>0.562710</td>\n",
       "      <td>0.016567</td>\n",
       "      <td>-1.022638</td>\n",
       "      <td>1.311422</td>\n",
       "      <td>-0.092927</td>\n",
       "      <td>-1.056426</td>\n",
       "      <td>-1.167335</td>\n",
       "      <td>2.935841</td>\n",
       "      <td>0.050000</td>\n",
       "      <td>False</td>\n",
       "    </tr>\n",
       "    <tr>\n",
       "      <th>999</th>\n",
       "      <td>0.049793</td>\n",
       "      <td>0.468059</td>\n",
       "      <td>-0.932952</td>\n",
       "      <td>-0.224313</td>\n",
       "      <td>0.713710</td>\n",
       "      <td>0.263591</td>\n",
       "      <td>0.569912</td>\n",
       "      <td>-0.517101</td>\n",
       "      <td>1.305043</td>\n",
       "      <td>1.913429</td>\n",
       "      <td>0.329433</td>\n",
       "      <td>0.050000</td>\n",
       "      <td>False</td>\n",
       "    </tr>\n",
       "  </tbody>\n",
       "</table>\n",
       "<p>1000 rows × 13 columns</p>\n",
       "</div>"
      ],
      "text/plain": [
       "            0         1         2         3         4         5         6  \\\n",
       "0   -0.638695 -0.056101  0.081473  0.236721  1.024469  0.702102 -1.660256   \n",
       "1    0.280420 -0.860896 -0.037021  2.148006 -0.985737 -1.775816  1.067725   \n",
       "2    1.169883 -0.882430 -0.158195 -1.553652  0.724243  1.296601  0.603311   \n",
       "3    0.316675 -0.032775  1.212835 -0.598785 -0.945423 -0.137842 -0.542119   \n",
       "4    1.080906  0.122388  0.651444 -0.910796  0.322515  0.509230  0.767174   \n",
       "..        ...       ...       ...       ...       ...       ...       ...   \n",
       "995  0.632188 -0.742635  0.617916  1.734574 -1.687658 -1.499328 -0.089816   \n",
       "996 -0.566552 -1.322455  0.570584 -0.242440 -1.035234 -1.260473 -0.682632   \n",
       "997 -2.042950  0.388598 -0.147589 -0.239780  0.806886 -0.336802  0.288200   \n",
       "998 -0.080390 -0.417188 -1.123598  0.562710  0.016567 -1.022638  1.311422   \n",
       "999  0.049793  0.468059 -0.932952 -0.224313  0.713710  0.263591  0.569912   \n",
       "\n",
       "            7         8         9         y  y_censor  event  \n",
       "0    2.016416  0.123750 -0.496041  0.027510  0.027510   True  \n",
       "1    1.167287  0.532267  0.018055  0.359295  0.041457  False  \n",
       "2   -0.075309 -0.788547 -0.850289  1.060264  0.050000  False  \n",
       "3    0.947963 -1.297217 -0.821573  0.729274  0.050000  False  \n",
       "4    0.342394  0.044447 -0.885749  1.312976  0.050000  False  \n",
       "..        ...       ...       ...       ...       ...    ...  \n",
       "995 -1.192075  2.316753 -0.466331  1.265158  0.050000  False  \n",
       "996  1.332970  1.031282  1.244313  1.481303  0.050000  False  \n",
       "997  0.564650 -2.675192  0.104247  0.503593  0.050000  False  \n",
       "998 -0.092927 -1.056426 -1.167335  2.935841  0.050000  False  \n",
       "999 -0.517101  1.305043  1.913429  0.329433  0.050000  False  \n",
       "\n",
       "[1000 rows x 13 columns]"
      ]
     },
     "execution_count": 4,
     "metadata": {},
     "output_type": "execute_result"
    }
   ],
   "source": [
    "cohort = weibull_simple_linear_sim(10,1,1000, 0.1 ,0.05, show_beta = True)\n",
    "cohort"
   ]
  },
  {
   "cell_type": "markdown",
   "id": "71bb2d76-227e-4573-95bd-70c7b7a9130a",
   "metadata": {},
   "source": [
    "For now select a single case-subcohort:"
   ]
  },
  {
   "cell_type": "code",
   "execution_count": 5,
   "id": "449e557f-c436-4c3d-8663-29a5f0397f2e",
   "metadata": {},
   "outputs": [],
   "source": [
    "cases = cohort[cohort.event]\n",
    "subcohort = cohort.sample(frac = 0.2)"
   ]
  },
  {
   "cell_type": "code",
   "execution_count": 6,
   "id": "cbc6a524-8ce5-4e12-9d3c-bc34e15c45a9",
   "metadata": {},
   "outputs": [
    {
     "name": "stdout",
     "output_type": "stream",
     "text": [
      "62 200\n"
     ]
    }
   ],
   "source": [
    "print(len(cases),len(subcohort))"
   ]
  },
  {
   "cell_type": "code",
   "execution_count": 7,
   "id": "7172e8b4-f222-435a-9ea8-0af36b2dce65",
   "metadata": {},
   "outputs": [
    {
     "data": {
      "text/html": [
       "<div>\n",
       "<style scoped>\n",
       "    .dataframe tbody tr th:only-of-type {\n",
       "        vertical-align: middle;\n",
       "    }\n",
       "\n",
       "    .dataframe tbody tr th {\n",
       "        vertical-align: top;\n",
       "    }\n",
       "\n",
       "    .dataframe thead th {\n",
       "        text-align: right;\n",
       "    }\n",
       "</style>\n",
       "<table border=\"1\" class=\"dataframe\">\n",
       "  <thead>\n",
       "    <tr style=\"text-align: right;\">\n",
       "      <th></th>\n",
       "      <th>0</th>\n",
       "      <th>1</th>\n",
       "      <th>2</th>\n",
       "      <th>3</th>\n",
       "      <th>4</th>\n",
       "      <th>5</th>\n",
       "      <th>6</th>\n",
       "      <th>7</th>\n",
       "      <th>8</th>\n",
       "      <th>9</th>\n",
       "      <th>y</th>\n",
       "      <th>y_censor</th>\n",
       "      <th>event</th>\n",
       "    </tr>\n",
       "  </thead>\n",
       "  <tbody>\n",
       "    <tr>\n",
       "      <th>304</th>\n",
       "      <td>0.521841</td>\n",
       "      <td>-0.276088</td>\n",
       "      <td>-0.875291</td>\n",
       "      <td>0.068242</td>\n",
       "      <td>0.148293</td>\n",
       "      <td>0.312755</td>\n",
       "      <td>-1.083250</td>\n",
       "      <td>0.443611</td>\n",
       "      <td>-0.249110</td>\n",
       "      <td>-0.549078</td>\n",
       "      <td>0.033914</td>\n",
       "      <td>0.033914</td>\n",
       "      <td>True</td>\n",
       "    </tr>\n",
       "    <tr>\n",
       "      <th>551</th>\n",
       "      <td>-0.093329</td>\n",
       "      <td>0.735109</td>\n",
       "      <td>-0.253145</td>\n",
       "      <td>-0.648337</td>\n",
       "      <td>-0.711674</td>\n",
       "      <td>1.164704</td>\n",
       "      <td>-0.176995</td>\n",
       "      <td>0.692192</td>\n",
       "      <td>1.232050</td>\n",
       "      <td>-0.296538</td>\n",
       "      <td>0.020875</td>\n",
       "      <td>0.020875</td>\n",
       "      <td>True</td>\n",
       "    </tr>\n",
       "    <tr>\n",
       "      <th>226</th>\n",
       "      <td>-0.867539</td>\n",
       "      <td>0.577799</td>\n",
       "      <td>-0.752111</td>\n",
       "      <td>-0.417541</td>\n",
       "      <td>1.777570</td>\n",
       "      <td>0.761987</td>\n",
       "      <td>-1.206693</td>\n",
       "      <td>-0.035805</td>\n",
       "      <td>-1.284644</td>\n",
       "      <td>0.272525</td>\n",
       "      <td>0.037259</td>\n",
       "      <td>0.037259</td>\n",
       "      <td>True</td>\n",
       "    </tr>\n",
       "    <tr>\n",
       "      <th>846</th>\n",
       "      <td>2.516604</td>\n",
       "      <td>1.186627</td>\n",
       "      <td>-0.404485</td>\n",
       "      <td>1.368471</td>\n",
       "      <td>-0.056186</td>\n",
       "      <td>-2.550578</td>\n",
       "      <td>1.575431</td>\n",
       "      <td>1.962003</td>\n",
       "      <td>0.620033</td>\n",
       "      <td>0.120676</td>\n",
       "      <td>0.045546</td>\n",
       "      <td>0.045546</td>\n",
       "      <td>True</td>\n",
       "    </tr>\n",
       "    <tr>\n",
       "      <th>821</th>\n",
       "      <td>-0.324750</td>\n",
       "      <td>0.584604</td>\n",
       "      <td>1.340883</td>\n",
       "      <td>1.518091</td>\n",
       "      <td>1.073196</td>\n",
       "      <td>-1.029408</td>\n",
       "      <td>0.195059</td>\n",
       "      <td>1.237114</td>\n",
       "      <td>-0.398145</td>\n",
       "      <td>0.091891</td>\n",
       "      <td>0.031490</td>\n",
       "      <td>0.031490</td>\n",
       "      <td>True</td>\n",
       "    </tr>\n",
       "  </tbody>\n",
       "</table>\n",
       "</div>"
      ],
      "text/plain": [
       "            0         1         2         3         4         5         6  \\\n",
       "304  0.521841 -0.276088 -0.875291  0.068242  0.148293  0.312755 -1.083250   \n",
       "551 -0.093329  0.735109 -0.253145 -0.648337 -0.711674  1.164704 -0.176995   \n",
       "226 -0.867539  0.577799 -0.752111 -0.417541  1.777570  0.761987 -1.206693   \n",
       "846  2.516604  1.186627 -0.404485  1.368471 -0.056186 -2.550578  1.575431   \n",
       "821 -0.324750  0.584604  1.340883  1.518091  1.073196 -1.029408  0.195059   \n",
       "\n",
       "            7         8         9         y  y_censor  event  \n",
       "304  0.443611 -0.249110 -0.549078  0.033914  0.033914   True  \n",
       "551  0.692192  1.232050 -0.296538  0.020875  0.020875   True  \n",
       "226 -0.035805 -1.284644  0.272525  0.037259  0.037259   True  \n",
       "846  1.962003  0.620033  0.120676  0.045546  0.045546   True  \n",
       "821  1.237114 -0.398145  0.091891  0.031490  0.031490   True  "
      ]
     },
     "execution_count": 7,
     "metadata": {},
     "output_type": "execute_result"
    }
   ],
   "source": [
    "subcohort[subcohort.event]"
   ]
  },
  {
   "cell_type": "markdown",
   "id": "ccc096d8-ae93-4780-a53c-6b9b4be2c910",
   "metadata": {},
   "source": [
    "We have very few cases in the cohort, so it makes sense to use a case-subcohort study. Note that in the subcohort there are only 3 events, so simply using a subset would have a low efficiency."
   ]
  },
  {
   "cell_type": "markdown",
   "id": "08d56c9e-9de1-48c8-97bd-1f77addf80c8",
   "metadata": {},
   "source": [
    "# Exploratory analysis "
   ]
  },
  {
   "cell_type": "markdown",
   "id": "ce68b7de-b38c-4af8-aa8c-0a2e41c78c74",
   "metadata": {},
   "source": [
    "In this section we ae just looking at some non-parametric plots to have some idea of what is going on."
   ]
  },
  {
   "cell_type": "code",
   "execution_count": 8,
   "id": "8b37432c-3fe3-43f5-b629-d37c206f9202",
   "metadata": {},
   "outputs": [],
   "source": [
    "import matplotlib.pyplot as plt\n",
    "from sksurv.nonparametric import kaplan_meier_estimator"
   ]
  },
  {
   "cell_type": "markdown",
   "id": "eaaffd33-a192-494d-8651-a9a5f81b1148",
   "metadata": {},
   "source": [
    "Let us look at survival curves for the entire cohort:"
   ]
  },
  {
   "cell_type": "code",
   "execution_count": 9,
   "id": "fd0fc992-3c1a-462a-b86a-4328b0e7c99f",
   "metadata": {},
   "outputs": [
    {
     "data": {
      "text/plain": [
       "Text(0.5, 0, 'time $t$')"
      ]
     },
     "execution_count": 9,
     "metadata": {},
     "output_type": "execute_result"
    },
    {
     "data": {
      "image/png": "[encoded data removed]",
      "text/plain": [
       "<Figure size 432x288 with 1 Axes>"
      ]
     },
     "metadata": {
      "needs_background": "light"
     },
     "output_type": "display_data"
    }
   ],
   "source": [
    "time, survival_prob = kaplan_meier_estimator(cohort['event'],cohort['y_censor'])\n",
    "plt.step(time, survival_prob, where=\"post\")\n",
    "plt.ylabel(\"est. probability of survival $\\hat{S}(t)$\")\n",
    "plt.xlabel(\"time $t$\")"
   ]
  },
  {
   "cell_type": "markdown",
   "id": "bba8289b-4a8f-4005-9837-c56697adbd2a",
   "metadata": {},
   "source": [
    "Looking at each of the variables (descretising for ease of plotting):"
   ]
  },
  {
   "cell_type": "code",
   "execution_count": 10,
   "id": "f5d594ad-732a-4ccc-9cf4-d9f5f727e9b5",
   "metadata": {},
   "outputs": [
    {
     "data": {
      "text/html": [
       "<div>\n",
       "<style scoped>\n",
       "    .dataframe tbody tr th:only-of-type {\n",
       "        vertical-align: middle;\n",
       "    }\n",
       "\n",
       "    .dataframe tbody tr th {\n",
       "        vertical-align: top;\n",
       "    }\n",
       "\n",
       "    .dataframe thead th {\n",
       "        text-align: right;\n",
       "    }\n",
       "</style>\n",
       "<table border=\"1\" class=\"dataframe\">\n",
       "  <thead>\n",
       "    <tr style=\"text-align: right;\">\n",
       "      <th></th>\n",
       "      <th>0</th>\n",
       "      <th>1</th>\n",
       "      <th>2</th>\n",
       "      <th>3</th>\n",
       "      <th>4</th>\n",
       "      <th>5</th>\n",
       "      <th>6</th>\n",
       "      <th>7</th>\n",
       "      <th>8</th>\n",
       "      <th>9</th>\n",
       "    </tr>\n",
       "  </thead>\n",
       "  <tbody>\n",
       "    <tr>\n",
       "      <th>0</th>\n",
       "      <td>-1.0</td>\n",
       "      <td>-1.0</td>\n",
       "      <td>0.0</td>\n",
       "      <td>0.0</td>\n",
       "      <td>1.0</td>\n",
       "      <td>0.0</td>\n",
       "      <td>-2.0</td>\n",
       "      <td>2.0</td>\n",
       "      <td>0.0</td>\n",
       "      <td>-1.0</td>\n",
       "    </tr>\n",
       "    <tr>\n",
       "      <th>1</th>\n",
       "      <td>0.0</td>\n",
       "      <td>-1.0</td>\n",
       "      <td>-1.0</td>\n",
       "      <td>2.0</td>\n",
       "      <td>-1.0</td>\n",
       "      <td>-2.0</td>\n",
       "      <td>1.0</td>\n",
       "      <td>1.0</td>\n",
       "      <td>0.0</td>\n",
       "      <td>0.0</td>\n",
       "    </tr>\n",
       "    <tr>\n",
       "      <th>2</th>\n",
       "      <td>1.0</td>\n",
       "      <td>-1.0</td>\n",
       "      <td>-1.0</td>\n",
       "      <td>-2.0</td>\n",
       "      <td>0.0</td>\n",
       "      <td>1.0</td>\n",
       "      <td>0.0</td>\n",
       "      <td>-1.0</td>\n",
       "      <td>-1.0</td>\n",
       "      <td>-1.0</td>\n",
       "    </tr>\n",
       "    <tr>\n",
       "      <th>3</th>\n",
       "      <td>0.0</td>\n",
       "      <td>-1.0</td>\n",
       "      <td>1.0</td>\n",
       "      <td>-1.0</td>\n",
       "      <td>-1.0</td>\n",
       "      <td>-1.0</td>\n",
       "      <td>-1.0</td>\n",
       "      <td>0.0</td>\n",
       "      <td>-2.0</td>\n",
       "      <td>-1.0</td>\n",
       "    </tr>\n",
       "    <tr>\n",
       "      <th>4</th>\n",
       "      <td>1.0</td>\n",
       "      <td>0.0</td>\n",
       "      <td>0.0</td>\n",
       "      <td>-1.0</td>\n",
       "      <td>0.0</td>\n",
       "      <td>0.0</td>\n",
       "      <td>0.0</td>\n",
       "      <td>0.0</td>\n",
       "      <td>0.0</td>\n",
       "      <td>-1.0</td>\n",
       "    </tr>\n",
       "    <tr>\n",
       "      <th>...</th>\n",
       "      <td>...</td>\n",
       "      <td>...</td>\n",
       "      <td>...</td>\n",
       "      <td>...</td>\n",
       "      <td>...</td>\n",
       "      <td>...</td>\n",
       "      <td>...</td>\n",
       "      <td>...</td>\n",
       "      <td>...</td>\n",
       "      <td>...</td>\n",
       "    </tr>\n",
       "    <tr>\n",
       "      <th>995</th>\n",
       "      <td>0.0</td>\n",
       "      <td>-1.0</td>\n",
       "      <td>0.0</td>\n",
       "      <td>1.0</td>\n",
       "      <td>-2.0</td>\n",
       "      <td>-2.0</td>\n",
       "      <td>-1.0</td>\n",
       "      <td>-2.0</td>\n",
       "      <td>2.0</td>\n",
       "      <td>-1.0</td>\n",
       "    </tr>\n",
       "    <tr>\n",
       "      <th>996</th>\n",
       "      <td>-1.0</td>\n",
       "      <td>-2.0</td>\n",
       "      <td>0.0</td>\n",
       "      <td>-1.0</td>\n",
       "      <td>-2.0</td>\n",
       "      <td>-2.0</td>\n",
       "      <td>-1.0</td>\n",
       "      <td>1.0</td>\n",
       "      <td>1.0</td>\n",
       "      <td>1.0</td>\n",
       "    </tr>\n",
       "    <tr>\n",
       "      <th>997</th>\n",
       "      <td>-3.0</td>\n",
       "      <td>0.0</td>\n",
       "      <td>-1.0</td>\n",
       "      <td>-1.0</td>\n",
       "      <td>0.0</td>\n",
       "      <td>-1.0</td>\n",
       "      <td>0.0</td>\n",
       "      <td>0.0</td>\n",
       "      <td>-3.0</td>\n",
       "      <td>0.0</td>\n",
       "    </tr>\n",
       "    <tr>\n",
       "      <th>998</th>\n",
       "      <td>-1.0</td>\n",
       "      <td>-1.0</td>\n",
       "      <td>-2.0</td>\n",
       "      <td>0.0</td>\n",
       "      <td>0.0</td>\n",
       "      <td>-2.0</td>\n",
       "      <td>1.0</td>\n",
       "      <td>-1.0</td>\n",
       "      <td>-2.0</td>\n",
       "      <td>-2.0</td>\n",
       "    </tr>\n",
       "    <tr>\n",
       "      <th>999</th>\n",
       "      <td>0.0</td>\n",
       "      <td>0.0</td>\n",
       "      <td>-1.0</td>\n",
       "      <td>-1.0</td>\n",
       "      <td>0.0</td>\n",
       "      <td>0.0</td>\n",
       "      <td>0.0</td>\n",
       "      <td>-1.0</td>\n",
       "      <td>1.0</td>\n",
       "      <td>1.0</td>\n",
       "    </tr>\n",
       "  </tbody>\n",
       "</table>\n",
       "<p>1000 rows × 10 columns</p>\n",
       "</div>"
      ],
      "text/plain": [
       "       0    1    2    3    4    5    6    7    8    9\n",
       "0   -1.0 -1.0  0.0  0.0  1.0  0.0 -2.0  2.0  0.0 -1.0\n",
       "1    0.0 -1.0 -1.0  2.0 -1.0 -2.0  1.0  1.0  0.0  0.0\n",
       "2    1.0 -1.0 -1.0 -2.0  0.0  1.0  0.0 -1.0 -1.0 -1.0\n",
       "3    0.0 -1.0  1.0 -1.0 -1.0 -1.0 -1.0  0.0 -2.0 -1.0\n",
       "4    1.0  0.0  0.0 -1.0  0.0  0.0  0.0  0.0  0.0 -1.0\n",
       "..   ...  ...  ...  ...  ...  ...  ...  ...  ...  ...\n",
       "995  0.0 -1.0  0.0  1.0 -2.0 -2.0 -1.0 -2.0  2.0 -1.0\n",
       "996 -1.0 -2.0  0.0 -1.0 -2.0 -2.0 -1.0  1.0  1.0  1.0\n",
       "997 -3.0  0.0 -1.0 -1.0  0.0 -1.0  0.0  0.0 -3.0  0.0\n",
       "998 -1.0 -1.0 -2.0  0.0  0.0 -2.0  1.0 -1.0 -2.0 -2.0\n",
       "999  0.0  0.0 -1.0 -1.0  0.0  0.0  0.0 -1.0  1.0  1.0\n",
       "\n",
       "[1000 rows x 10 columns]"
      ]
     },
     "execution_count": 10,
     "metadata": {},
     "output_type": "execute_result"
    }
   ],
   "source": [
    "cohort_discrete = np.floor(cohort[range(0,10)])\n",
    "cohort_discrete"
   ]
  },
  {
   "cell_type": "code",
   "execution_count": 11,
   "id": "a61e0de0-6669-4549-95ab-76e0008088d1",
   "metadata": {},
   "outputs": [
    {
     "data": {
      "text/plain": [
       "<matplotlib.legend.Legend at 0x2181f1a3cd0>"
      ]
     },
     "execution_count": 11,
     "metadata": {},
     "output_type": "execute_result"
    },
    {
     "data": {
      "image/png": "[encoded data removed]",
      "text/plain": [
       "<Figure size 432x288 with 1 Axes>"
      ]
     },
     "metadata": {
      "needs_background": "light"
     },
     "output_type": "display_data"
    }
   ],
   "source": [
    "for i in range(-4,4):\n",
    "    mask_treat = cohort_discrete[0] == i\n",
    "    time_treatment, survival_prob_treatment = kaplan_meier_estimator(\n",
    "        cohort['event'][mask_treat],\n",
    "        cohort['y_censor'][mask_treat])\n",
    "\n",
    "    plt.step(time_treatment, survival_prob_treatment, where=\"post\",\n",
    "             label=\"Treatment = %s\" % i)\n",
    "\n",
    "    \n",
    "    \n",
    "plt.ylabel(\"est. probability of survival $\\hat{S}(t)$\")\n",
    "plt.xlabel(\"time $t$\")\n",
    "plt.legend(loc=\"best\")"
   ]
  },
  {
   "cell_type": "markdown",
   "id": "719f7226-5fe5-4cdd-9380-ce97094763eb",
   "metadata": {},
   "source": [
    "## Cox proportional hazards model"
   ]
  },
  {
   "cell_type": "code",
   "execution_count": 12,
   "id": "bd5b30d5-54b8-452d-b27b-afc84893fef8",
   "metadata": {},
   "outputs": [],
   "source": [
    "from sksurv.util import Surv\n",
    "\n",
    "data_x = cohort[range(0,10)]\n",
    "data_y = Surv().from_arrays(cohort['event'],cohort['y_censor'])"
   ]
  },
  {
   "cell_type": "code",
   "execution_count": 13,
   "id": "84e52c5d-ee3d-40db-a268-dc04f38594f7",
   "metadata": {},
   "outputs": [
    {
     "data": {
      "text/plain": [
       "CoxPHSurvivalAnalysis()"
      ]
     },
     "execution_count": 13,
     "metadata": {},
     "output_type": "execute_result"
    }
   ],
   "source": [
    "from sksurv.linear_model import CoxPHSurvivalAnalysis\n",
    "\n",
    "estimator = CoxPHSurvivalAnalysis()\n",
    "estimator.fit(data_x, data_y)"
   ]
  },
  {
   "cell_type": "code",
   "execution_count": 14,
   "id": "8bf6ed25-3aab-4841-8ede-0d732a5788ac",
   "metadata": {},
   "outputs": [
    {
     "data": {
      "text/plain": [
       "0   -0.162166\n",
       "1    1.100555\n",
       "2   -0.000275\n",
       "3    0.925639\n",
       "4    0.586104\n",
       "5    0.505143\n",
       "6   -0.592719\n",
       "7    1.346680\n",
       "8    0.578552\n",
       "9   -0.340793\n",
       "dtype: float64"
      ]
     },
     "execution_count": 14,
     "metadata": {},
     "output_type": "execute_result"
    }
   ],
   "source": [
    "pd.Series(estimator.coef_, index = data_x.columns)"
   ]
  },
  {
   "cell_type": "markdown",
   "id": "c2bb154f-a0e0-404c-8f66-070842b1b6bf",
   "metadata": {},
   "source": [
    "We can see that the full cohort analysis is able to find the estimated variables ok. Now what happens if we use case-subcohort data? We can implement weightings here but probably need to use R for the normal treatment."
   ]
  },
  {
   "cell_type": "markdown",
   "id": "9c303772-ee21-47dd-a363-54be18223b35",
   "metadata": {},
   "source": [
    "## Survival tree"
   ]
  },
  {
   "cell_type": "code",
   "execution_count": 112,
   "id": "05add339-35bc-4e3c-9044-dd6c724654b3",
   "metadata": {},
   "outputs": [],
   "source": [
    "from sklearn import tree"
   ]
  },
  {
   "cell_type": "code",
   "execution_count": 113,
   "id": "3168cfb4-878a-4732-a28f-7480a3dbb1cc",
   "metadata": {},
   "outputs": [],
   "source": [
    "tr_clf = tree.DecisionTreeClassifier()"
   ]
  },
  {
   "cell_type": "code",
   "execution_count": 114,
   "id": "8eb9d71e-623a-49d5-9a31-5f8c1df01cf3",
   "metadata": {},
   "outputs": [
    {
     "ename": "NameError",
     "evalue": "name 'test_sample' is not defined",
     "output_type": "error",
     "traceback": [
      "\u001b[1;31m---------------------------------------------------------------------------\u001b[0m",
      "\u001b[1;31mNameError\u001b[0m                                 Traceback (most recent call last)",
      "\u001b[1;32m<ipython-input-114-f5897c8a0c6f>\u001b[0m in \u001b[0;36m<module>\u001b[1;34m\u001b[0m\n\u001b[1;32m----> 1\u001b[1;33m \u001b[0mtr_clf\u001b[0m \u001b[1;33m=\u001b[0m \u001b[0mtr_clf\u001b[0m\u001b[1;33m.\u001b[0m\u001b[0mfit\u001b[0m\u001b[1;33m(\u001b[0m\u001b[0mtest_sample\u001b[0m\u001b[1;33m.\u001b[0m\u001b[0miloc\u001b[0m\u001b[1;33m[\u001b[0m\u001b[1;33m:\u001b[0m\u001b[1;33m,\u001b[0m\u001b[1;36m3\u001b[0m\u001b[1;33m:\u001b[0m\u001b[1;36m7\u001b[0m\u001b[1;33m]\u001b[0m\u001b[1;33m,\u001b[0m\u001b[0mtest_sample\u001b[0m\u001b[1;33m[\u001b[0m\u001b[1;34m'chd'\u001b[0m\u001b[1;33m]\u001b[0m\u001b[1;33m)\u001b[0m\u001b[1;33m\u001b[0m\u001b[1;33m\u001b[0m\u001b[0m\n\u001b[0m",
      "\u001b[1;31mNameError\u001b[0m: name 'test_sample' is not defined"
     ]
    }
   ],
   "source": [
    "tr_clf = tr_clf.fit(test_sample.iloc[:,3:7],test_sample['chd'])"
   ]
  }
 ],
 "metadata": {
  "kernelspec": {
   "display_name": "Python 3",
   "language": "python",
   "name": "python3"
  },
  "language_info": {
   "codemirror_mode": {
    "name": "ipython",
    "version": 3
   },
   "file_extension": ".py",
   "mimetype": "text/x-python",
   "name": "python",
   "nbconvert_exporter": "python",
   "pygments_lexer": "ipython3",
   "version": "3.8.8"
  }
 },
 "nbformat": 4,
 "nbformat_minor": 5
}
